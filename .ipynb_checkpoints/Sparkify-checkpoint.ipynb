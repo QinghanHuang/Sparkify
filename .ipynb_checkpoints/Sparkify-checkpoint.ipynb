{
 "cells": [
  {
   "cell_type": "code",
   "execution_count": 92,
   "id": "aadad866-7bdb-4eb6-aba0-bb36de996c25",
   "metadata": {
    "ExecuteTime": {
     "end_time": "2023-11-13T22:17:36.847482Z",
     "start_time": "2023-11-13T22:17:36.826424Z"
    }
   },
   "outputs": [],
   "source": [
    "# import libraries\n",
    "from pyspark.sql import SparkSession\n",
    "from pyspark.sql import functions as F\n",
    "from pyspark.sql.functions import max as sparkMax\n",
    "\n",
    "from pyspark.sql.types import IntegerType, StringType, BooleanType, DateType, DoubleType\n",
    "from pyspark.sql.window import Window\n",
    "from pyspark.ml.feature import StandardScaler, VectorAssembler, StringIndexer, OneHotEncoder, Normalizer\n",
    "from pyspark.ml.classification import RandomForestClassifier, GBTClassifier, LogisticRegression\n",
    "from pyspark.ml import Pipeline\n",
    "from pyspark.ml.tuning import CrossValidator, ParamGridBuilder\n",
    "from pyspark.ml.evaluation import MulticlassClassificationEvaluator\n",
    "from pyspark.mllib.evaluation import BinaryClassificationMetrics as metric\n",
    "from sklearn.metrics import roc_curve, auc\n",
    "\n",
    "import time\n",
    "import datetime\n",
    "import numpy as np\n",
    "import pandas as pd\n",
    "import seaborn as sns\n",
    "import warnings\n",
    "from matplotlib import pyplot as plt\n",
    "\n",
    "%config IPCompleter.greedy=True\n",
    "warnings.filterwarnings(\"ignore\", category=UserWarning)"
   ]
  },
  {
   "cell_type": "markdown",
   "id": "e4f5bf3f",
   "metadata": {},
   "source": [
    "# Introduction"
   ]
  },
  {
   "cell_type": "markdown",
   "id": "75312348",
   "metadata": {
    "ExecuteTime": {
     "end_time": "2023-11-13T23:18:05.942721Z",
     "start_time": "2023-11-13T23:18:05.929410Z"
    }
   },
   "source": [
    "### Enterprise-Level Data Mining Project: Predictive Churn Analysis Case Study\n",
    "\n",
    "We are embarking on an enterprise-level data mining project, centered around a predictive churn analysis case study. This project is based on the Spark framework, utilizing PySpark for extensive data analysis and mining. Key highlights of this case study include:\n",
    "\n",
    "- **Comprehensive Data Mining Process**: The project features a complete data mining workflow, with full data and code availability.\n",
    "- **Step-by-Step Results**: Each step is accompanied by result demonstrations, facilitating easy understanding and learning.\n",
    "- **Drawback**: The length of the content is extensive, making it less convenient for reading. I recommend liking and bookmarking for ease of reference!\n",
    "\n",
    "**Importance in Competitive Markets**: For companies operating in highly competitive markets, predicting customer churn is a critical business activity. Consumers can easily cancel services or switch providers. Numerous studies have found that the cost of attracting new customers far exceeds the cost of retaining existing ones. Identifying customers at risk of churn allows businesses to target them with special offers and discounts and to understand broader product/journey improvement opportunities.\n"
   ]
  },
  {
   "cell_type": "markdown",
   "id": "a3e2b541",
   "metadata": {
    "ExecuteTime": {
     "end_time": "2023-11-13T23:18:43.316998Z",
     "start_time": "2023-11-13T23:18:43.296775Z"
    }
   },
   "source": [
    "### Project Overview: Predictive Churn Analysis at \"Sparkify\"\n",
    "\n",
    "#### Background\n",
    "This project is based on a fictional music streaming company, \"Sparkify\", operating in a highly competitive market. The business model is centered around advertising and subscription. Customers can use a free tier with ad interruptions, or opt for a subscription plan with no ads but a monthly fee.\n",
    "\n",
    "#### Problem Statement\n",
    "The objective of this study is to build a model capable of predicting which customers are at the highest risk of churning. For this project, churn is defined as a complete cancellation of subscription (identified in the dataset as \"Cancellation Confirmation\"). Identifying these customers before they leave allows for intervention with discounts/incentives to retain them.\n",
    "\n",
    "#### Tasks\n",
    "- **Exploratory Data Analysis (EDA)**: Assess missing values, descriptive statistics, visualize data, and create a churn rate indicator.\n",
    "- **Feature Engineering**: Create user-level records with aggregated features.\n",
    "- **Data Transformation**: Create a pipeline for feature expansion and vectorization.\n",
    "- **Data Modeling, Evaluation & Optimization**\n",
    "\n",
    "#### Summary\n",
    "- **Data**: The project will utilize a mini subset of `sparkify_event_data.json` for data analysis, organization, and modeling. This dataset comprises user logs with timestamps. Complete source code and data can be obtained by responding with \"云朵君\" at the @数据STUDIO public account.\n",
    "\n",
    "#### Evaluation Metric\n",
    "- The F1 score will be the primary metric for evaluating the model's performance. It is suitable for this classification task as it provides a balance between precision and recall and can handle imbalanced class distributions, as in this case, where only 23% of customers churn.\n"
   ]
  },
  {
   "cell_type": "markdown",
   "id": "e9813916",
   "metadata": {},
   "source": [
    "# Preparation"
   ]
  },
  {
   "cell_type": "code",
   "execution_count": 2,
   "id": "3a87d444-4791-4647-955a-21ef4d477137",
   "metadata": {
    "ExecuteTime": {
     "end_time": "2023-11-13T21:12:19.641320Z",
     "start_time": "2023-11-13T21:12:16.206542Z"
    }
   },
   "outputs": [
    {
     "name": "stderr",
     "output_type": "stream",
     "text": [
      "23/11/13 21:12:17 WARN Utils: Your hostname, Clements-MacBook-Pro.local resolves to a loopback address: 127.0.0.1; using 172.20.10.10 instead (on interface en0)\n",
      "23/11/13 21:12:17 WARN Utils: Set SPARK_LOCAL_IP if you need to bind to another address\n",
      "Setting default log level to \"WARN\".\n",
      "To adjust logging level use sc.setLogLevel(newLevel). For SparkR, use setLogLevel(newLevel).\n",
      "23/11/13 21:12:18 WARN NativeCodeLoader: Unable to load native-hadoop library for your platform... using builtin-java classes where applicable\n"
     ]
    },
    {
     "data": {
      "text/html": [
       "\n",
       "            <div>\n",
       "                <p><b>SparkSession - in-memory</b></p>\n",
       "                \n",
       "        <div>\n",
       "            <p><b>SparkContext</b></p>\n",
       "\n",
       "            <p><a href=\"http://172.20.10.10:4040\">Spark UI</a></p>\n",
       "\n",
       "            <dl>\n",
       "              <dt>Version</dt>\n",
       "                <dd><code>v3.5.0</code></dd>\n",
       "              <dt>Master</dt>\n",
       "                <dd><code>local[*]</code></dd>\n",
       "              <dt>AppName</dt>\n",
       "                <dd><code>Python Spark</code></dd>\n",
       "            </dl>\n",
       "        </div>\n",
       "        \n",
       "            </div>\n",
       "        "
      ],
      "text/plain": [
       "<pyspark.sql.session.SparkSession at 0x7fc383ded910>"
      ]
     },
     "execution_count": 2,
     "metadata": {},
     "output_type": "execute_result"
    }
   ],
   "source": [
    "spark = SparkSession.builder.appName(\"Python Spark\").master(\"local[*]\").getOrCreate()\n",
    "spark.conf.set(\"spark.sql.repl.eagerEval.enabled\", True)\n",
    "spark"
   ]
  },
  {
   "cell_type": "code",
   "execution_count": 3,
   "id": "9fd58f8b",
   "metadata": {
    "ExecuteTime": {
     "end_time": "2023-11-13T21:12:19.665841Z",
     "start_time": "2023-11-13T21:12:19.643499Z"
    }
   },
   "outputs": [
    {
     "data": {
      "text/plain": [
       "[('spark.app.submitTime', '1699909937946'),\n",
       " ('spark.executor.id', 'driver'),\n",
       " ('spark.app.id', 'local-1699909938694'),\n",
       " ('spark.driver.host', '172.20.10.10'),\n",
       " ('spark.driver.port', '65420'),\n",
       " ('spark.driver.extraJavaOptions',\n",
       "  '-Djava.net.preferIPv6Addresses=false -XX:+IgnoreUnrecognizedVMOptions --add-opens=java.base/java.lang=ALL-UNNAMED --add-opens=java.base/java.lang.invoke=ALL-UNNAMED --add-opens=java.base/java.lang.reflect=ALL-UNNAMED --add-opens=java.base/java.io=ALL-UNNAMED --add-opens=java.base/java.net=ALL-UNNAMED --add-opens=java.base/java.nio=ALL-UNNAMED --add-opens=java.base/java.util=ALL-UNNAMED --add-opens=java.base/java.util.concurrent=ALL-UNNAMED --add-opens=java.base/java.util.concurrent.atomic=ALL-UNNAMED --add-opens=java.base/sun.nio.ch=ALL-UNNAMED --add-opens=java.base/sun.nio.cs=ALL-UNNAMED --add-opens=java.base/sun.security.action=ALL-UNNAMED --add-opens=java.base/sun.util.calendar=ALL-UNNAMED --add-opens=java.security.jgss/sun.security.krb5=ALL-UNNAMED -Djdk.reflect.useDirectMethodHandle=false'),\n",
       " ('spark.sql.warehouse.dir',\n",
       "  'file:/Users/clement/Bigdata_Project/Sparkify/spark-warehouse'),\n",
       " ('spark.rdd.compress', 'True'),\n",
       " ('spark.serializer.objectStreamReset', '100'),\n",
       " ('spark.app.name', 'Python Spark'),\n",
       " ('spark.master', 'local[*]'),\n",
       " ('spark.submit.pyFiles', ''),\n",
       " ('spark.app.startTime', '1699909938057'),\n",
       " ('spark.submit.deployMode', 'client'),\n",
       " ('spark.ui.showConsoleProgress', 'true'),\n",
       " ('spark.executor.extraJavaOptions',\n",
       "  '-Djava.net.preferIPv6Addresses=false -XX:+IgnoreUnrecognizedVMOptions --add-opens=java.base/java.lang=ALL-UNNAMED --add-opens=java.base/java.lang.invoke=ALL-UNNAMED --add-opens=java.base/java.lang.reflect=ALL-UNNAMED --add-opens=java.base/java.io=ALL-UNNAMED --add-opens=java.base/java.net=ALL-UNNAMED --add-opens=java.base/java.nio=ALL-UNNAMED --add-opens=java.base/java.util=ALL-UNNAMED --add-opens=java.base/java.util.concurrent=ALL-UNNAMED --add-opens=java.base/java.util.concurrent.atomic=ALL-UNNAMED --add-opens=java.base/sun.nio.ch=ALL-UNNAMED --add-opens=java.base/sun.nio.cs=ALL-UNNAMED --add-opens=java.base/sun.security.action=ALL-UNNAMED --add-opens=java.base/sun.util.calendar=ALL-UNNAMED --add-opens=java.security.jgss/sun.security.krb5=ALL-UNNAMED -Djdk.reflect.useDirectMethodHandle=false')]"
      ]
     },
     "execution_count": 3,
     "metadata": {},
     "output_type": "execute_result"
    }
   ],
   "source": [
    "# 通过SparkSession对象 获取 SparkContext对象\n",
    "sc = spark.sparkContext\n",
    "# 检查SparkSession对象\n",
    "# check Spark session\n",
    "spark.sparkContext.getConf().getAll()"
   ]
  },
  {
   "cell_type": "markdown",
   "id": "bf8d3a31",
   "metadata": {},
   "source": [
    "# EDA Exploratory Data Analysis"
   ]
  },
  {
   "cell_type": "markdown",
   "id": "cfb71cc4-34d1-4b03-bc8e-f5ccc026d2b4",
   "metadata": {},
   "source": [
    "## 1. Read"
   ]
  },
  {
   "cell_type": "code",
   "execution_count": 4,
   "id": "8175cc1d-d322-45b7-bee2-50255fd352de",
   "metadata": {
    "ExecuteTime": {
     "end_time": "2023-11-13T21:12:23.699262Z",
     "start_time": "2023-11-13T21:12:19.667251Z"
    }
   },
   "outputs": [
    {
     "name": "stderr",
     "output_type": "stream",
     "text": [
      "                                                                                \r"
     ]
    },
    {
     "data": {
      "text/plain": [
       "(286500, 18)"
      ]
     },
     "execution_count": 4,
     "metadata": {},
     "output_type": "execute_result"
    }
   ],
   "source": [
    "path = \"mini_sparkify_event_data.json\"\n",
    "event_log = spark.read.json(path)\n",
    "#event_log.persist()\n",
    "\n",
    "def shape(df):\n",
    "    '''\n",
    "    Pandas中用于显示数据框中行数和列数的复制形状函数\n",
    "    '''\n",
    "    rows, cols = df.count(), len(df.columns)\n",
    "    shape = (rows, cols)\n",
    "    return shape\n",
    "shape(event_log)"
   ]
  },
  {
   "cell_type": "code",
   "execution_count": 5,
   "id": "81106e7c",
   "metadata": {
    "ExecuteTime": {
     "end_time": "2023-11-13T21:12:24.029240Z",
     "start_time": "2023-11-13T21:12:23.700869Z"
    }
   },
   "outputs": [
    {
     "data": {
      "text/html": [
       "<table border='1'>\n",
       "<tr><th>artist</th><th>auth</th><th>firstName</th><th>gender</th><th>itemInSession</th><th>lastName</th><th>length</th><th>level</th><th>location</th><th>method</th><th>page</th><th>registration</th><th>sessionId</th><th>song</th><th>status</th><th>ts</th><th>userAgent</th><th>userId</th></tr>\n",
       "<tr><td>Martha Tilston</td><td>Logged In</td><td>Colin</td><td>M</td><td>50</td><td>Freeman</td><td>277.89016</td><td>paid</td><td>Bakersfield, CA</td><td>PUT</td><td>NextSong</td><td>1538173362000</td><td>29</td><td>Rockpools</td><td>200</td><td>1538352117000</td><td>Mozilla/5.0 (Wind...</td><td>30</td></tr>\n",
       "<tr><td>Five Iron Frenzy</td><td>Logged In</td><td>Micah</td><td>M</td><td>79</td><td>Long</td><td>236.09424</td><td>free</td><td>Boston-Cambridge-...</td><td>PUT</td><td>NextSong</td><td>1538331630000</td><td>8</td><td>Canada</td><td>200</td><td>1538352180000</td><td>&quot;Mozilla/5.0 (Win...</td><td>9</td></tr>\n",
       "<tr><td>Adam Lambert</td><td>Logged In</td><td>Colin</td><td>M</td><td>51</td><td>Freeman</td><td>282.8273</td><td>paid</td><td>Bakersfield, CA</td><td>PUT</td><td>NextSong</td><td>1538173362000</td><td>29</td><td>Time For Miracles</td><td>200</td><td>1538352394000</td><td>Mozilla/5.0 (Wind...</td><td>30</td></tr>\n",
       "<tr><td>Enigma</td><td>Logged In</td><td>Micah</td><td>M</td><td>80</td><td>Long</td><td>262.71302</td><td>free</td><td>Boston-Cambridge-...</td><td>PUT</td><td>NextSong</td><td>1538331630000</td><td>8</td><td>Knocking On Forbi...</td><td>200</td><td>1538352416000</td><td>&quot;Mozilla/5.0 (Win...</td><td>9</td></tr>\n",
       "<tr><td>Daft Punk</td><td>Logged In</td><td>Colin</td><td>M</td><td>52</td><td>Freeman</td><td>223.60771</td><td>paid</td><td>Bakersfield, CA</td><td>PUT</td><td>NextSong</td><td>1538173362000</td><td>29</td><td>Harder Better Fas...</td><td>200</td><td>1538352676000</td><td>Mozilla/5.0 (Wind...</td><td>30</td></tr>\n",
       "<tr><td>The All-American ...</td><td>Logged In</td><td>Micah</td><td>M</td><td>81</td><td>Long</td><td>208.29995</td><td>free</td><td>Boston-Cambridge-...</td><td>PUT</td><td>NextSong</td><td>1538331630000</td><td>8</td><td>Don't Leave Me</td><td>200</td><td>1538352678000</td><td>&quot;Mozilla/5.0 (Win...</td><td>9</td></tr>\n",
       "<tr><td>The Velvet Underg...</td><td>Logged In</td><td>Micah</td><td>M</td><td>82</td><td>Long</td><td>260.46649</td><td>free</td><td>Boston-Cambridge-...</td><td>PUT</td><td>NextSong</td><td>1538331630000</td><td>8</td><td>Run Run Run</td><td>200</td><td>1538352886000</td><td>&quot;Mozilla/5.0 (Win...</td><td>9</td></tr>\n",
       "<tr><td>Starflyer 59</td><td>Logged In</td><td>Colin</td><td>M</td><td>53</td><td>Freeman</td><td>185.44281</td><td>paid</td><td>Bakersfield, CA</td><td>PUT</td><td>NextSong</td><td>1538173362000</td><td>29</td><td>Passengers (Old A...</td><td>200</td><td>1538352899000</td><td>Mozilla/5.0 (Wind...</td><td>30</td></tr>\n",
       "<tr><td>NULL</td><td>Logged In</td><td>Colin</td><td>M</td><td>54</td><td>Freeman</td><td>NULL</td><td>paid</td><td>Bakersfield, CA</td><td>PUT</td><td>Add to Playlist</td><td>1538173362000</td><td>29</td><td>NULL</td><td>200</td><td>1538352905000</td><td>Mozilla/5.0 (Wind...</td><td>30</td></tr>\n",
       "<tr><td>Frumpies</td><td>Logged In</td><td>Colin</td><td>M</td><td>55</td><td>Freeman</td><td>134.47791</td><td>paid</td><td>Bakersfield, CA</td><td>PUT</td><td>NextSong</td><td>1538173362000</td><td>29</td><td>Fuck Kitty</td><td>200</td><td>1538353084000</td><td>Mozilla/5.0 (Wind...</td><td>30</td></tr>\n",
       "<tr><td>Britt Nicole</td><td>Logged In</td><td>Micah</td><td>M</td><td>83</td><td>Long</td><td>229.8771</td><td>free</td><td>Boston-Cambridge-...</td><td>PUT</td><td>NextSong</td><td>1538331630000</td><td>8</td><td>Walk On The Water</td><td>200</td><td>1538353146000</td><td>&quot;Mozilla/5.0 (Win...</td><td>9</td></tr>\n",
       "<tr><td>NULL</td><td>Logged In</td><td>Micah</td><td>M</td><td>84</td><td>Long</td><td>NULL</td><td>free</td><td>Boston-Cambridge-...</td><td>GET</td><td>Roll Advert</td><td>1538331630000</td><td>8</td><td>NULL</td><td>200</td><td>1538353150000</td><td>&quot;Mozilla/5.0 (Win...</td><td>9</td></tr>\n",
       "<tr><td>Edward Sharpe &amp; T...</td><td>Logged In</td><td>Colin</td><td>M</td><td>56</td><td>Freeman</td><td>223.58159</td><td>paid</td><td>Bakersfield, CA</td><td>PUT</td><td>NextSong</td><td>1538173362000</td><td>29</td><td>Jade</td><td>200</td><td>1538353218000</td><td>Mozilla/5.0 (Wind...</td><td>30</td></tr>\n",
       "<tr><td>Tesla</td><td>Logged In</td><td>Micah</td><td>M</td><td>85</td><td>Long</td><td>201.06404</td><td>free</td><td>Boston-Cambridge-...</td><td>PUT</td><td>NextSong</td><td>1538331630000</td><td>8</td><td>Gettin' Better</td><td>200</td><td>1538353375000</td><td>&quot;Mozilla/5.0 (Win...</td><td>9</td></tr>\n",
       "<tr><td>NULL</td><td>Logged In</td><td>Micah</td><td>M</td><td>86</td><td>Long</td><td>NULL</td><td>free</td><td>Boston-Cambridge-...</td><td>PUT</td><td>Thumbs Up</td><td>1538331630000</td><td>8</td><td>NULL</td><td>307</td><td>1538353376000</td><td>&quot;Mozilla/5.0 (Win...</td><td>9</td></tr>\n",
       "<tr><td>Stan Mosley</td><td>Logged In</td><td>Colin</td><td>M</td><td>57</td><td>Freeman</td><td>246.69995</td><td>paid</td><td>Bakersfield, CA</td><td>PUT</td><td>NextSong</td><td>1538173362000</td><td>29</td><td>So-Called Friends</td><td>200</td><td>1538353441000</td><td>Mozilla/5.0 (Wind...</td><td>30</td></tr>\n",
       "<tr><td>Florence + The Ma...</td><td>Logged In</td><td>Micah</td><td>M</td><td>87</td><td>Long</td><td>168.64608</td><td>free</td><td>Boston-Cambridge-...</td><td>PUT</td><td>NextSong</td><td>1538331630000</td><td>8</td><td>You've Got The Love</td><td>200</td><td>1538353576000</td><td>&quot;Mozilla/5.0 (Win...</td><td>9</td></tr>\n",
       "<tr><td>Tokyo Police Club</td><td>Logged In</td><td>Ashlynn</td><td>F</td><td>0</td><td>Williams</td><td>166.1122</td><td>free</td><td>Tallahassee, FL</td><td>PUT</td><td>NextSong</td><td>1537365219000</td><td>217</td><td>Citizens Of Tomorrow</td><td>200</td><td>1538353668000</td><td>&quot;Mozilla/5.0 (Mac...</td><td>74</td></tr>\n",
       "<tr><td>Orishas</td><td>Logged In</td><td>Colin</td><td>M</td><td>58</td><td>Freeman</td><td>222.22322</td><td>paid</td><td>Bakersfield, CA</td><td>PUT</td><td>NextSong</td><td>1538173362000</td><td>29</td><td>Represent</td><td>200</td><td>1538353687000</td><td>Mozilla/5.0 (Wind...</td><td>30</td></tr>\n",
       "<tr><td>Ratatat</td><td>Logged In</td><td>Micah</td><td>M</td><td>88</td><td>Long</td><td>229.77261</td><td>free</td><td>Boston-Cambridge-...</td><td>PUT</td><td>NextSong</td><td>1538331630000</td><td>8</td><td>Swisha</td><td>200</td><td>1538353744000</td><td>&quot;Mozilla/5.0 (Win...</td><td>9</td></tr>\n",
       "</table>\n",
       "only showing top 20 rows\n"
      ],
      "text/plain": [
       "+--------------------+---------+---------+------+-------------+--------+---------+-----+--------------------+------+---------------+-------------+---------+--------------------+------+-------------+--------------------+------+\n",
       "|              artist|     auth|firstName|gender|itemInSession|lastName|   length|level|            location|method|           page| registration|sessionId|                song|status|           ts|           userAgent|userId|\n",
       "+--------------------+---------+---------+------+-------------+--------+---------+-----+--------------------+------+---------------+-------------+---------+--------------------+------+-------------+--------------------+------+\n",
       "|      Martha Tilston|Logged In|    Colin|     M|           50| Freeman|277.89016| paid|     Bakersfield, CA|   PUT|       NextSong|1538173362000|       29|           Rockpools|   200|1538352117000|Mozilla/5.0 (Wind...|    30|\n",
       "|    Five Iron Frenzy|Logged In|    Micah|     M|           79|    Long|236.09424| free|Boston-Cambridge-...|   PUT|       NextSong|1538331630000|        8|              Canada|   200|1538352180000|\"Mozilla/5.0 (Win...|     9|\n",
       "|        Adam Lambert|Logged In|    Colin|     M|           51| Freeman| 282.8273| paid|     Bakersfield, CA|   PUT|       NextSong|1538173362000|       29|   Time For Miracles|   200|1538352394000|Mozilla/5.0 (Wind...|    30|\n",
       "|              Enigma|Logged In|    Micah|     M|           80|    Long|262.71302| free|Boston-Cambridge-...|   PUT|       NextSong|1538331630000|        8|Knocking On Forbi...|   200|1538352416000|\"Mozilla/5.0 (Win...|     9|\n",
       "|           Daft Punk|Logged In|    Colin|     M|           52| Freeman|223.60771| paid|     Bakersfield, CA|   PUT|       NextSong|1538173362000|       29|Harder Better Fas...|   200|1538352676000|Mozilla/5.0 (Wind...|    30|\n",
       "|The All-American ...|Logged In|    Micah|     M|           81|    Long|208.29995| free|Boston-Cambridge-...|   PUT|       NextSong|1538331630000|        8|      Don't Leave Me|   200|1538352678000|\"Mozilla/5.0 (Win...|     9|\n",
       "|The Velvet Underg...|Logged In|    Micah|     M|           82|    Long|260.46649| free|Boston-Cambridge-...|   PUT|       NextSong|1538331630000|        8|         Run Run Run|   200|1538352886000|\"Mozilla/5.0 (Win...|     9|\n",
       "|        Starflyer 59|Logged In|    Colin|     M|           53| Freeman|185.44281| paid|     Bakersfield, CA|   PUT|       NextSong|1538173362000|       29|Passengers (Old A...|   200|1538352899000|Mozilla/5.0 (Wind...|    30|\n",
       "|                NULL|Logged In|    Colin|     M|           54| Freeman|     NULL| paid|     Bakersfield, CA|   PUT|Add to Playlist|1538173362000|       29|                NULL|   200|1538352905000|Mozilla/5.0 (Wind...|    30|\n",
       "|            Frumpies|Logged In|    Colin|     M|           55| Freeman|134.47791| paid|     Bakersfield, CA|   PUT|       NextSong|1538173362000|       29|          Fuck Kitty|   200|1538353084000|Mozilla/5.0 (Wind...|    30|\n",
       "|        Britt Nicole|Logged In|    Micah|     M|           83|    Long| 229.8771| free|Boston-Cambridge-...|   PUT|       NextSong|1538331630000|        8|   Walk On The Water|   200|1538353146000|\"Mozilla/5.0 (Win...|     9|\n",
       "|                NULL|Logged In|    Micah|     M|           84|    Long|     NULL| free|Boston-Cambridge-...|   GET|    Roll Advert|1538331630000|        8|                NULL|   200|1538353150000|\"Mozilla/5.0 (Win...|     9|\n",
       "|Edward Sharpe & T...|Logged In|    Colin|     M|           56| Freeman|223.58159| paid|     Bakersfield, CA|   PUT|       NextSong|1538173362000|       29|                Jade|   200|1538353218000|Mozilla/5.0 (Wind...|    30|\n",
       "|               Tesla|Logged In|    Micah|     M|           85|    Long|201.06404| free|Boston-Cambridge-...|   PUT|       NextSong|1538331630000|        8|      Gettin' Better|   200|1538353375000|\"Mozilla/5.0 (Win...|     9|\n",
       "|                NULL|Logged In|    Micah|     M|           86|    Long|     NULL| free|Boston-Cambridge-...|   PUT|      Thumbs Up|1538331630000|        8|                NULL|   307|1538353376000|\"Mozilla/5.0 (Win...|     9|\n",
       "|         Stan Mosley|Logged In|    Colin|     M|           57| Freeman|246.69995| paid|     Bakersfield, CA|   PUT|       NextSong|1538173362000|       29|   So-Called Friends|   200|1538353441000|Mozilla/5.0 (Wind...|    30|\n",
       "|Florence + The Ma...|Logged In|    Micah|     M|           87|    Long|168.64608| free|Boston-Cambridge-...|   PUT|       NextSong|1538331630000|        8| You've Got The Love|   200|1538353576000|\"Mozilla/5.0 (Win...|     9|\n",
       "|   Tokyo Police Club|Logged In|  Ashlynn|     F|            0|Williams| 166.1122| free|     Tallahassee, FL|   PUT|       NextSong|1537365219000|      217|Citizens Of Tomorrow|   200|1538353668000|\"Mozilla/5.0 (Mac...|    74|\n",
       "|             Orishas|Logged In|    Colin|     M|           58| Freeman|222.22322| paid|     Bakersfield, CA|   PUT|       NextSong|1538173362000|       29|           Represent|   200|1538353687000|Mozilla/5.0 (Wind...|    30|\n",
       "|             Ratatat|Logged In|    Micah|     M|           88|    Long|229.77261| free|Boston-Cambridge-...|   PUT|       NextSong|1538331630000|        8|              Swisha|   200|1538353744000|\"Mozilla/5.0 (Win...|     9|\n",
       "+--------------------+---------+---------+------+-------------+--------+---------+-----+--------------------+------+---------------+-------------+---------+--------------------+------+-------------+--------------------+------+\n",
       "only showing top 20 rows"
      ]
     },
     "execution_count": 5,
     "metadata": {},
     "output_type": "execute_result"
    }
   ],
   "source": [
    "event_log"
   ]
  },
  {
   "cell_type": "markdown",
   "id": "7e703bb7",
   "metadata": {},
   "source": [
    "The mini-dataset contains **286.5K rows** of event data from **225 different users**.\n",
    "\n",
    "The dataset includes the following **18 features**:\n",
    "\n",
    "1. **Artist**: The music artist of the song being played. This field is empty if the event is not a song being played.\n",
    "2. **Auth**: The authentication type, indicating if the user was logged in, logged out, a guest, or cancelled at the time of the event.\n",
    "3. **FirstName**: The first name of the user. This field is empty for unauthenticated events.\n",
    "4. **Gender**: The gender of the user, either M (Male) or F (Female). This field is empty for unauthenticated events.\n",
    "5. **ItemInSession**: The item number in the session.\n",
    "6. **LastName**: The last name of the user. This field is empty for unauthenticated events.\n",
    "7. **Length**: The duration of the session.\n",
    "8. **Location**: The location (town and state) of the user at the time of the event.\n",
    "9. **Method**: The HTTP method, either \"PUT\" or \"GET\".\n",
    "10. **Page**: The type of interaction/page.\n",
    "11. **Registration**: The UNIX timestamp when the customer first registered in Sparkify.\n",
    "12. **SessionId**: The session identifier.\n",
    "13. **Song**: The title of the song being played. This field is empty if the event is not a song being played.\n",
    "14. **Status**: The HTTP status code.\n",
    "15. **Ts**: The UNIX timestamp when the event occurred.\n",
    "16. **UserAgent**: Detailed information about the user's device and browser at the time of the event.\n"
   ]
  },
  {
   "cell_type": "markdown",
   "id": "e9a01642-774b-4058-9daa-9cd6e66c1167",
   "metadata": {},
   "source": [
    "## 2. Check  Nan"
   ]
  },
  {
   "cell_type": "code",
   "execution_count": 6,
   "id": "316558a8",
   "metadata": {
    "ExecuteTime": {
     "end_time": "2023-11-13T21:12:32.030012Z",
     "start_time": "2023-11-13T21:12:24.030686Z"
    }
   },
   "outputs": [
    {
     "name": "stderr",
     "output_type": "stream",
     "text": [
      "\r",
      "[Stage 6:>                                                          (0 + 8) / 8]\r",
      "\r",
      "                                                                                \r"
     ]
    },
    {
     "data": {
      "image/png": "[encoded data removed]",
      "text/plain": [
       "<Figure size 640x480 with 1 Axes>"
      ]
     },
     "metadata": {},
     "output_type": "display_data"
    }
   ],
   "source": [
    "viz_dict = {'axes.titlesize': 18,\n",
    "            'axes.labelsize': 16,\n",
    "            'figure.figsize': (7, 7),\n",
    "            'font_scale': 0.7\n",
    "            }\n",
    "\n",
    "sns.set_context(\"notebook\", rc=viz_dict)\n",
    "sns.set_style(\"darkgrid\")\n",
    "cmap = sns.cubehelix_palette(dark=0, light=1, as_cmap=True)\n",
    "\n",
    "sns.heatmap(event_log.toPandas().replace('', np.nan).isnull(), \n",
    "            cbar=False, cmap=cmap);"
   ]
  },
  {
   "cell_type": "markdown",
   "id": "83069345",
   "metadata": {},
   "source": [
    "Upon close examination, it's observed that some missing values are not categorized as `NaN`, but are simply empty strings. The following code counts all these occurrences to provide an accurate count of missing values by column:\n"
   ]
  },
  {
   "cell_type": "code",
   "execution_count": 7,
   "id": "34b49770-57f8-48c6-afaa-2f41a6f566e5",
   "metadata": {
    "ExecuteTime": {
     "end_time": "2023-11-13T21:12:33.865143Z",
     "start_time": "2023-11-13T21:12:32.031718Z"
    }
   },
   "outputs": [
    {
     "name": "stderr",
     "output_type": "stream",
     "text": [
      "\r",
      "[Stage 7:>                                                          (0 + 8) / 8]\r"
     ]
    },
    {
     "name": "stdout",
     "output_type": "stream",
     "text": [
      "-RECORD 0--------------\n",
      " artist        | 58406 \n",
      " auth          | 0     \n",
      " firstName     | 8346  \n",
      " gender        | 8346  \n",
      " itemInSession | 0     \n",
      " lastName      | 8346  \n",
      " length        | 58392 \n",
      " level         | 0     \n",
      " location      | 8346  \n",
      " method        | 0     \n",
      " page          | 0     \n",
      " registration  | 8346  \n",
      " sessionId     | 0     \n",
      " song          | 58445 \n",
      " status        | 0     \n",
      " ts            | 0     \n",
      " userAgent     | 8346  \n",
      " userId        | 8346  \n",
      "\n"
     ]
    },
    {
     "name": "stderr",
     "output_type": "stream",
     "text": [
      "\r",
      "[Stage 7:==============>                                            (2 + 6) / 8]\r",
      "\r",
      "                                                                                \r"
     ]
    }
   ],
   "source": [
    "event_log.select([F.count(F.when(F.col(c).contains('None') |\n",
    "                          F.col(c).contains('NULL') |\n",
    "                        (F.col(c) == '') |\n",
    "                        F.col(c).isNull() |\n",
    "                        F.isnan(c), c\n",
    "                 )).alias(c)\n",
    "                    for c in event_log.columns]).show(vertical=True)"
   ]
  },
  {
   "cell_type": "markdown",
   "id": "64d930b2",
   "metadata": {},
   "source": [
    "There are **8.3K (~3%) rows with missing userIds**, and these records also lack any other customer information (such as gender, name, etc.). Upon inspection, it's evident that these events are related to logged-out users or guests; I will filter these records out from the dataset. Artist, length, and song are missing in events unrelated to songs (e.g., \"Settings\").\n"
   ]
  },
  {
   "cell_type": "code",
   "execution_count": 8,
   "id": "87d8cf8d-2175-4e24-a035-e6feae317fe2",
   "metadata": {
    "ExecuteTime": {
     "end_time": "2023-11-13T21:12:34.283189Z",
     "start_time": "2023-11-13T21:12:33.866852Z"
    }
   },
   "outputs": [
    {
     "data": {
      "text/plain": [
       "(278154, 18)"
      ]
     },
     "execution_count": 8,
     "metadata": {},
     "output_type": "execute_result"
    }
   ],
   "source": [
    "#过滤掉没有 used id 的记录\n",
    "event_log = event_log.filter(F.col('userId') > 0)\n",
    "shape(event_log)"
   ]
  },
  {
   "cell_type": "markdown",
   "id": "6ff6e0dd",
   "metadata": {},
   "source": [
    "## 3. Define Churn Rate"
   ]
  },
  {
   "cell_type": "markdown",
   "id": "98661ccd",
   "metadata": {},
   "source": [
    "Once you have conducted some preliminary analysis, create a metric to identify customers who have churned. Therefore, create a **\"Churn\"** column to serve as the label for your model. I suggest using the **\"Cancellation Confirmation\"** event to define user churn, which occurs for both paid and free users. As an additional task, you might also consider examining **\"Downgrade\"** events.\n"
   ]
  },
  {
   "cell_type": "code",
   "execution_count": 9,
   "id": "995257e8",
   "metadata": {
    "ExecuteTime": {
     "end_time": "2023-11-13T21:12:34.368444Z",
     "start_time": "2023-11-13T21:12:34.286575Z"
    }
   },
   "outputs": [
    {
     "name": "stdout",
     "output_type": "stream",
     "text": [
      "-RECORD 0-----------------------------\n",
      " artist        | Martha Tilston       \n",
      " auth          | Logged In            \n",
      " firstName     | Colin                \n",
      " gender        | M                    \n",
      " itemInSession | 50                   \n",
      " lastName      | Freeman              \n",
      " length        | 277.89016            \n",
      " level         | paid                 \n",
      " location      | Bakersfield, CA      \n",
      " method        | PUT                  \n",
      " page          | NextSong             \n",
      " registration  | 1538173362000        \n",
      " sessionId     | 29                   \n",
      " song          | Rockpools            \n",
      " status        | 200                  \n",
      " ts            | 1538352117000        \n",
      " userAgent     | Mozilla/5.0 (Wind... \n",
      " userId        | 30                   \n",
      "only showing top 1 row\n",
      "\n"
     ]
    }
   ],
   "source": [
    "event_log.show(n=1, vertical=True)"
   ]
  },
  {
   "cell_type": "code",
   "execution_count": 10,
   "id": "5e48a307",
   "metadata": {
    "ExecuteTime": {
     "end_time": "2023-11-13T21:12:34.424085Z",
     "start_time": "2023-11-13T21:12:34.369729Z"
    }
   },
   "outputs": [
    {
     "data": {
      "text/plain": [
       "[Row(artist='Martha Tilston', auth='Logged In', firstName='Colin', gender='M', itemInSession=50, lastName='Freeman', length=277.89016, level='paid', location='Bakersfield, CA', method='PUT', page='NextSong', registration=1538173362000, sessionId=29, song='Rockpools', status=200, ts=1538352117000, userAgent='Mozilla/5.0 (Windows NT 6.1; WOW64; rv:31.0) Gecko/20100101 Firefox/31.0', userId='30'),\n",
       " Row(artist='Five Iron Frenzy', auth='Logged In', firstName='Micah', gender='M', itemInSession=79, lastName='Long', length=236.09424, level='free', location='Boston-Cambridge-Newton, MA-NH', method='PUT', page='NextSong', registration=1538331630000, sessionId=8, song='Canada', status=200, ts=1538352180000, userAgent='\"Mozilla/5.0 (Windows NT 6.1; WOW64) AppleWebKit/537.36 (KHTML, like Gecko) Chrome/37.0.2062.103 Safari/537.36\"', userId='9'),\n",
       " Row(artist='Adam Lambert', auth='Logged In', firstName='Colin', gender='M', itemInSession=51, lastName='Freeman', length=282.8273, level='paid', location='Bakersfield, CA', method='PUT', page='NextSong', registration=1538173362000, sessionId=29, song='Time For Miracles', status=200, ts=1538352394000, userAgent='Mozilla/5.0 (Windows NT 6.1; WOW64; rv:31.0) Gecko/20100101 Firefox/31.0', userId='30'),\n",
       " Row(artist='Enigma', auth='Logged In', firstName='Micah', gender='M', itemInSession=80, lastName='Long', length=262.71302, level='free', location='Boston-Cambridge-Newton, MA-NH', method='PUT', page='NextSong', registration=1538331630000, sessionId=8, song='Knocking On Forbidden Doors', status=200, ts=1538352416000, userAgent='\"Mozilla/5.0 (Windows NT 6.1; WOW64) AppleWebKit/537.36 (KHTML, like Gecko) Chrome/37.0.2062.103 Safari/537.36\"', userId='9'),\n",
       " Row(artist='Daft Punk', auth='Logged In', firstName='Colin', gender='M', itemInSession=52, lastName='Freeman', length=223.60771, level='paid', location='Bakersfield, CA', method='PUT', page='NextSong', registration=1538173362000, sessionId=29, song='Harder Better Faster Stronger', status=200, ts=1538352676000, userAgent='Mozilla/5.0 (Windows NT 6.1; WOW64; rv:31.0) Gecko/20100101 Firefox/31.0', userId='30')]"
      ]
     },
     "execution_count": 10,
     "metadata": {},
     "output_type": "execute_result"
    }
   ],
   "source": [
    "event_log.take(5)"
   ]
  },
  {
   "cell_type": "code",
   "execution_count": 11,
   "id": "97710e64",
   "metadata": {
    "ExecuteTime": {
     "end_time": "2023-11-13T21:12:34.429475Z",
     "start_time": "2023-11-13T21:12:34.426013Z"
    }
   },
   "outputs": [
    {
     "name": "stdout",
     "output_type": "stream",
     "text": [
      "root\n",
      " |-- artist: string (nullable = true)\n",
      " |-- auth: string (nullable = true)\n",
      " |-- firstName: string (nullable = true)\n",
      " |-- gender: string (nullable = true)\n",
      " |-- itemInSession: long (nullable = true)\n",
      " |-- lastName: string (nullable = true)\n",
      " |-- length: double (nullable = true)\n",
      " |-- level: string (nullable = true)\n",
      " |-- location: string (nullable = true)\n",
      " |-- method: string (nullable = true)\n",
      " |-- page: string (nullable = true)\n",
      " |-- registration: long (nullable = true)\n",
      " |-- sessionId: long (nullable = true)\n",
      " |-- song: string (nullable = true)\n",
      " |-- status: long (nullable = true)\n",
      " |-- ts: long (nullable = true)\n",
      " |-- userAgent: string (nullable = true)\n",
      " |-- userId: string (nullable = true)\n",
      "\n"
     ]
    }
   ],
   "source": [
    "event_log.printSchema()"
   ]
  },
  {
   "cell_type": "code",
   "execution_count": 12,
   "id": "1f896e7b",
   "metadata": {
    "ExecuteTime": {
     "end_time": "2023-11-13T21:12:38.221322Z",
     "start_time": "2023-11-13T21:12:34.430816Z"
    }
   },
   "outputs": [
    {
     "name": "stderr",
     "output_type": "stream",
     "text": [
      "23/11/13 21:12:34 WARN SparkStringUtils: Truncated the string representation of a plan since it was too large. This behavior can be adjusted by setting 'spark.sql.debug.maxToStringFields'.\n",
      "                                                                                \r"
     ]
    },
    {
     "data": {
      "text/html": [
       "<table border='1'>\n",
       "<tr><th>summary</th><th>artist</th><th>auth</th><th>firstName</th><th>gender</th><th>itemInSession</th><th>lastName</th><th>length</th><th>level</th><th>location</th><th>method</th><th>page</th><th>registration</th><th>sessionId</th><th>song</th><th>status</th><th>ts</th><th>userAgent</th><th>userId</th></tr>\n",
       "<tr><td>count</td><td>228108</td><td>278154</td><td>278154</td><td>278154</td><td>278154</td><td>278154</td><td>228108</td><td>278154</td><td>278154</td><td>278154</td><td>278154</td><td>278154</td><td>278154</td><td>228108</td><td>278154</td><td>278154</td><td>278154</td><td>278154</td></tr>\n",
       "<tr><td>mean</td><td>551.0852017937219</td><td>NULL</td><td>NULL</td><td>NULL</td><td>114.89918174824018</td><td>NULL</td><td>249.11718197783722</td><td>NULL</td><td>NULL</td><td>NULL</td><td>NULL</td><td>1.535358834085557E12</td><td>1042.5616241362698</td><td>Infinity</td><td>209.10321620397335</td><td>1.540958915431857...</td><td>NULL</td><td>59682.02278593872</td></tr>\n",
       "<tr><td>stddev</td><td>1217.7693079161374</td><td>NULL</td><td>NULL</td><td>NULL</td><td>129.85172939949013</td><td>NULL</td><td>99.23517921058324</td><td>NULL</td><td>NULL</td><td>NULL</td><td>NULL</td><td>3.291321616328068E9</td><td>726.5010362219821</td><td>NaN</td><td>30.151388851327823</td><td>1.5068287123347573E9</td><td>NULL</td><td>109091.94999910519</td></tr>\n",
       "<tr><td>min</td><td>!!!</td><td>Cancelled</td><td>Adelaida</td><td>F</td><td>0</td><td>Adams</td><td>0.78322</td><td>free</td><td>Albany, OR</td><td>GET</td><td>About</td><td>1521380675000</td><td>1</td><td>\u001c",
       "&Atilde;&Acirc;g &Atilde;&Acirc;tti Gr...</td><td>200</td><td>1538352117000</td><td>&quot;Mozilla/5.0 (Mac...</td><td>10</td></tr>\n",
       "<tr><td>max</td><td>&Atilde;&Acirc;lafur Arnalds</td><td>Logged In</td><td>Zyonna</td><td>M</td><td>1321</td><td>Wright</td><td>3024.66567</td><td>paid</td><td>Winston-Salem, NC</td><td>PUT</td><td>Upgrade</td><td>1543247354000</td><td>2474</td><td>&Atilde;&Acirc;au hafa slopp...</td><td>404</td><td>1543799476000</td><td>Mozilla/5.0 (comp...</td><td>99</td></tr>\n",
       "</table>\n"
      ],
      "text/plain": [
       "+-------+------------------+---------+---------+------+------------------+--------+------------------+------+-----------------+------+-------+--------------------+------------------+--------------------+------------------+--------------------+--------------------+------------------+\n",
       "|summary|            artist|     auth|firstName|gender|     itemInSession|lastName|            length| level|         location|method|   page|        registration|         sessionId|                song|            status|                  ts|           userAgent|            userId|\n",
       "+-------+------------------+---------+---------+------+------------------+--------+------------------+------+-----------------+------+-------+--------------------+------------------+--------------------+------------------+--------------------+--------------------+------------------+\n",
       "|  count|            228108|   278154|   278154|278154|            278154|  278154|            228108|278154|           278154|278154| 278154|              278154|            278154|              228108|            278154|              278154|              278154|            278154|\n",
       "|   mean| 551.0852017937219|     NULL|     NULL|  NULL|114.89918174824018|    NULL|249.11718197783722|  NULL|             NULL|  NULL|   NULL|1.535358834085557E12|1042.5616241362698|            Infinity|209.10321620397335|1.540958915431857...|                NULL| 59682.02278593872|\n",
       "| stddev|1217.7693079161374|     NULL|     NULL|  NULL|129.85172939949013|    NULL| 99.23517921058324|  NULL|             NULL|  NULL|   NULL| 3.291321616328068E9| 726.5010362219821|                 NaN|30.151388851327823|1.5068287123347573E9|                NULL|109091.94999910519|\n",
       "|    min|               !!!|Cancelled| Adelaida|     F|                 0|   Adams|           0.78322|  free|       Albany, OR|   GET|  About|       1521380675000|                 1|\n",
       "ÃÂg ÃÂtti Gr...|               200|       1538352117000|\"Mozilla/5.0 (Mac...|                10|\n",
       "|    max| ÃÂlafur Arnalds|Logged In|   Zyonna|     M|              1321|  Wright|        3024.66567|  paid|Winston-Salem, NC|   PUT|Upgrade|       1543247354000|              2474|ÃÂau hafa slopp...|               404|       1543799476000|Mozilla/5.0 (comp...|                99|\n",
       "+-------+------------------+---------+---------+------+------------------+--------+------------------+------+-----------------+------+-------+--------------------+------------------+--------------------+------------------+--------------------+--------------------+------------------+"
      ]
     },
     "execution_count": 12,
     "metadata": {},
     "output_type": "execute_result"
    }
   ],
   "source": [
    "describe=event_log.describe()\n",
    "describe"
   ]
  },
  {
   "cell_type": "code",
   "execution_count": 13,
   "id": "914f14e5",
   "metadata": {
    "ExecuteTime": {
     "end_time": "2023-11-13T21:12:38.224864Z",
     "start_time": "2023-11-13T21:12:38.222856Z"
    }
   },
   "outputs": [],
   "source": [
    "def count_dist(df, field):\n",
    "\n",
    "    return df.select(field).distinct().count()\n"
   ]
  },
  {
   "cell_type": "code",
   "execution_count": 14,
   "id": "2d7d9219",
   "metadata": {
    "ExecuteTime": {
     "end_time": "2023-11-13T21:12:39.017175Z",
     "start_time": "2023-11-13T21:12:38.226169Z"
    }
   },
   "outputs": [
    {
     "name": "stderr",
     "output_type": "stream",
     "text": [
      "\r",
      "[Stage 21:>                                                         (0 + 8) / 8]\r",
      "\r",
      "                                                                                \r"
     ]
    },
    {
     "data": {
      "text/plain": [
       "17656"
      ]
     },
     "execution_count": 14,
     "metadata": {},
     "output_type": "execute_result"
    }
   ],
   "source": [
    "count_dist(event_log, 'artist')"
   ]
  },
  {
   "cell_type": "code",
   "execution_count": 15,
   "id": "5508d1db",
   "metadata": {
    "ExecuteTime": {
     "end_time": "2023-11-13T21:12:39.413990Z",
     "start_time": "2023-11-13T21:12:39.019324Z"
    }
   },
   "outputs": [
    {
     "data": {
      "text/plain": [
       "58481"
      ]
     },
     "execution_count": 15,
     "metadata": {},
     "output_type": "execute_result"
    }
   ],
   "source": [
    "count_dist(event_log, 'song')"
   ]
  },
  {
   "cell_type": "code",
   "execution_count": 16,
   "id": "3916358e",
   "metadata": {
    "ExecuteTime": {
     "end_time": "2023-11-13T21:12:39.973257Z",
     "start_time": "2023-11-13T21:12:39.415512Z"
    }
   },
   "outputs": [
    {
     "name": "stdout",
     "output_type": "stream",
     "text": [
      "+--------------------+-----+\n",
      "|                song|count|\n",
      "+--------------------+-----+\n",
      "|      You're The One| 1153|\n",
      "|                Undo| 1026|\n",
      "|             Revelry|  854|\n",
      "|       Sehr kosmisch|  728|\n",
      "|Horn Concerto No....|  641|\n",
      "|Dog Days Are Over...|  574|\n",
      "|             Secrets|  466|\n",
      "|        Use Somebody|  459|\n",
      "|              Canada|  435|\n",
      "|             Invalid|  424|\n",
      "|    Ain't Misbehavin|  409|\n",
      "|       ReprÃÂ©sente|  393|\n",
      "|SinceritÃÂ© Et J...|  384|\n",
      "|Catch You Baby (S...|  373|\n",
      "|              Yellow|  343|\n",
      "|    Somebody To Love|  343|\n",
      "|    Hey_ Soul Sister|  334|\n",
      "|            The Gift|  327|\n",
      "|           Fireflies|  312|\n",
      "|          Love Story|  309|\n",
      "+--------------------+-----+\n",
      "only showing top 20 rows\n",
      "\n"
     ]
    }
   ],
   "source": [
    "event_log.filter(event_log.song != 'null').groupBy('song').count().\\\n",
    "    sort(\"count\", ascending=False).show()"
   ]
  },
  {
   "cell_type": "code",
   "execution_count": 17,
   "id": "78bcc8cd",
   "metadata": {
    "ExecuteTime": {
     "end_time": "2023-11-13T21:12:40.348700Z",
     "start_time": "2023-11-13T21:12:39.974505Z"
    }
   },
   "outputs": [
    {
     "name": "stdout",
     "output_type": "stream",
     "text": [
      "+--------------------+-----+\n",
      "|              artist|count|\n",
      "+--------------------+-----+\n",
      "|       Kings Of Leon| 1841|\n",
      "|            Coldplay| 1813|\n",
      "|Florence + The Ma...| 1236|\n",
      "|       Dwight Yoakam| 1135|\n",
      "|            BjÃÂ¶rk| 1133|\n",
      "|      The Black Keys| 1125|\n",
      "|                Muse| 1090|\n",
      "|       Justin Bieber| 1044|\n",
      "|        Jack Johnson| 1007|\n",
      "|              Eminem|  953|\n",
      "|           Radiohead|  884|\n",
      "|     Alliance Ethnik|  876|\n",
      "|               Train|  854|\n",
      "|        Taylor Swift|  840|\n",
      "|         OneRepublic|  828|\n",
      "|         The Killers|  822|\n",
      "|         Linkin Park|  787|\n",
      "|         Evanescence|  781|\n",
      "|            Harmonia|  729|\n",
      "|           Daft Punk|  713|\n",
      "+--------------------+-----+\n",
      "only showing top 20 rows\n",
      "\n"
     ]
    }
   ],
   "source": [
    "event_log.filter(event_log.artist != 'null').groupBy('artist').count().\\\n",
    "    sort(\"count\", ascending=False).show()"
   ]
  },
  {
   "cell_type": "code",
   "execution_count": 18,
   "id": "c1a9b71d",
   "metadata": {
    "ExecuteTime": {
     "end_time": "2023-11-13T21:12:40.632730Z",
     "start_time": "2023-11-13T21:12:40.350790Z"
    }
   },
   "outputs": [
    {
     "name": "stdout",
     "output_type": "stream",
     "text": [
      "+---------+------+\n",
      "|     auth| count|\n",
      "+---------+------+\n",
      "|Logged In|278102|\n",
      "|Cancelled|    52|\n",
      "+---------+------+\n",
      "\n"
     ]
    }
   ],
   "source": [
    "event_log.groupBy('auth').count().sort(\"count\", ascending=False).show()"
   ]
  },
  {
   "cell_type": "code",
   "execution_count": 19,
   "id": "c235aa68",
   "metadata": {
    "ExecuteTime": {
     "end_time": "2023-11-13T21:12:40.839879Z",
     "start_time": "2023-11-13T21:12:40.634269Z"
    }
   },
   "outputs": [
    {
     "name": "stdout",
     "output_type": "stream",
     "text": [
      "+------+------+\n",
      "|Gender| count|\n",
      "+------+------+\n",
      "|     F|154578|\n",
      "|     M|123576|\n",
      "+------+------+\n",
      "\n"
     ]
    }
   ],
   "source": [
    "event_log.groupBy('Gender').count().sort(\"count\", ascending=False).show()"
   ]
  },
  {
   "cell_type": "code",
   "execution_count": 20,
   "id": "035c7360",
   "metadata": {
    "ExecuteTime": {
     "end_time": "2023-11-13T21:12:41.036612Z",
     "start_time": "2023-11-13T21:12:40.841094Z"
    }
   },
   "outputs": [
    {
     "name": "stdout",
     "output_type": "stream",
     "text": [
      "+-------------------------+------+\n",
      "|page                     |count |\n",
      "+-------------------------+------+\n",
      "|NextSong                 |228108|\n",
      "|Thumbs Up                |12551 |\n",
      "|Home                     |10082 |\n",
      "|Add to Playlist          |6526  |\n",
      "|Add Friend               |4277  |\n",
      "|Roll Advert              |3933  |\n",
      "|Logout                   |3226  |\n",
      "|Thumbs Down              |2546  |\n",
      "|Downgrade                |2055  |\n",
      "|Settings                 |1514  |\n",
      "|Help                     |1454  |\n",
      "|Upgrade                  |499   |\n",
      "|About                    |495   |\n",
      "|Save Settings            |310   |\n",
      "|Error                    |252   |\n",
      "|Submit Upgrade           |159   |\n",
      "|Submit Downgrade         |63    |\n",
      "|Cancel                   |52    |\n",
      "|Cancellation Confirmation|52    |\n",
      "+-------------------------+------+\n",
      "\n"
     ]
    }
   ],
   "source": [
    "event_log.groupBy('page').count().sort(\"count\", ascending=False).\\\n",
    "    show(truncate=False)"
   ]
  },
  {
   "cell_type": "code",
   "execution_count": 21,
   "id": "b8fa0553",
   "metadata": {
    "ExecuteTime": {
     "end_time": "2023-11-13T21:12:41.523981Z",
     "start_time": "2023-11-13T21:12:41.038197Z"
    }
   },
   "outputs": [
    {
     "name": "stdout",
     "output_type": "stream",
     "text": [
      "total records: 278154\n",
      "unique users: 225\n"
     ]
    }
   ],
   "source": [
    "print(\"total records: {}\".format(event_log.count()))\n",
    "print(\"unique users: {}\".format(count_dist(event_log, 'userId')))"
   ]
  },
  {
   "cell_type": "code",
   "execution_count": 22,
   "id": "3010833e",
   "metadata": {
    "ExecuteTime": {
     "end_time": "2023-11-13T21:12:43.347209Z",
     "start_time": "2023-11-13T21:12:41.525152Z"
    }
   },
   "outputs": [
    {
     "name": "stderr",
     "output_type": "stream",
     "text": [
      "                                                                                \r"
     ]
    },
    {
     "name": "stdout",
     "output_type": "stream",
     "text": [
      "+---------+----------+\n",
      "|churn_ind|user_count|\n",
      "+---------+----------+\n",
      "|        1|        52|\n",
      "|        0|       173|\n",
      "+---------+----------+\n",
      "\n"
     ]
    }
   ],
   "source": [
    "churned = event_log.filter(event_log.page == 'Cancellation Confirmation')\\\n",
    "            .select('userID').dropDuplicates().rdd.flatMap(lambda x: x).collect()\n",
    "\n",
    "event_log = event_log\\\n",
    ".withColumn('churn_ind', F.when(F.col(\"userId\").isin(churned), 1).otherwise(0))\n",
    "\n",
    "event_log.groupBy(\"churn_ind\").agg(F.countDistinct(\"userId\").alias('user_count')).show()"
   ]
  },
  {
   "cell_type": "code",
   "execution_count": 23,
   "id": "33cfd991",
   "metadata": {
    "ExecuteTime": {
     "end_time": "2023-11-13T21:12:43.755799Z",
     "start_time": "2023-11-13T21:12:43.349435Z"
    }
   },
   "outputs": [
    {
     "name": "stdout",
     "output_type": "stream",
     "text": [
      "+---------+------+----------+\n",
      "|churn_ind|gender|user_count|\n",
      "+---------+------+----------+\n",
      "|        1|     F|        20|\n",
      "|        0|     M|        89|\n",
      "|        1|     M|        32|\n",
      "|        0|     F|        84|\n",
      "+---------+------+----------+\n",
      "\n"
     ]
    }
   ],
   "source": [
    "event_log.groupBy(\"churn_ind\", \"gender\").agg(F.countDistinct(\"userId\")\n",
    "                                             .alias('user_count')).show()"
   ]
  },
  {
   "cell_type": "code",
   "execution_count": 24,
   "id": "12884479",
   "metadata": {
    "ExecuteTime": {
     "end_time": "2023-11-13T21:12:44.869911Z",
     "start_time": "2023-11-13T21:12:43.757852Z"
    }
   },
   "outputs": [
    {
     "data": {
      "text/html": [
       "<table border='1'>\n",
       "<tr><th>artist</th><th>auth</th><th>firstName</th><th>gender</th><th>itemInSession</th><th>lastName</th><th>length</th><th>level</th><th>location</th><th>method</th><th>page</th><th>registration</th><th>sessionId</th><th>song</th><th>status</th><th>ts</th><th>userAgent</th><th>userId</th><th>churn_ind</th><th>last_record</th></tr>\n",
       "<tr><td>NULL</td><td>Logged In</td><td>Darianna</td><td>F</td><td>34</td><td>Carpenter</td><td>NULL</td><td>free</td><td>Bridgeport-Stamfo...</td><td>PUT</td><td>Logout</td><td>1538016340000</td><td>187</td><td>NULL</td><td>307</td><td>1542823952000</td><td>&quot;Mozilla/5.0 (iPh...</td><td>100010</td><td>0</td><td>1</td></tr>\n",
       "<tr><td>Lily Allen</td><td>Logged In</td><td>Darianna</td><td>F</td><td>33</td><td>Carpenter</td><td>185.25995</td><td>free</td><td>Bridgeport-Stamfo...</td><td>PUT</td><td>NextSong</td><td>1538016340000</td><td>187</td><td>22</td><td>200</td><td>1542823951000</td><td>&quot;Mozilla/5.0 (iPh...</td><td>100010</td><td>0</td><td>2</td></tr>\n",
       "<tr><td>John Waite</td><td>Logged In</td><td>Darianna</td><td>F</td><td>32</td><td>Carpenter</td><td>269.76608</td><td>free</td><td>Bridgeport-Stamfo...</td><td>PUT</td><td>NextSong</td><td>1538016340000</td><td>187</td><td>Missing You</td><td>200</td><td>1542823682000</td><td>&quot;Mozilla/5.0 (iPh...</td><td>100010</td><td>0</td><td>3</td></tr>\n",
       "<tr><td>Hermano</td><td>Logged In</td><td>Darianna</td><td>F</td><td>31</td><td>Carpenter</td><td>115.90485</td><td>free</td><td>Bridgeport-Stamfo...</td><td>PUT</td><td>NextSong</td><td>1538016340000</td><td>187</td><td>Letters From Madrid</td><td>200</td><td>1542823567000</td><td>&quot;Mozilla/5.0 (iPh...</td><td>100010</td><td>0</td><td>4</td></tr>\n",
       "<tr><td>NULL</td><td>Logged In</td><td>Darianna</td><td>F</td><td>30</td><td>Carpenter</td><td>NULL</td><td>free</td><td>Bridgeport-Stamfo...</td><td>GET</td><td>Roll Advert</td><td>1538016340000</td><td>187</td><td>NULL</td><td>200</td><td>1542823257000</td><td>&quot;Mozilla/5.0 (iPh...</td><td>100010</td><td>0</td><td>5</td></tr>\n",
       "<tr><td>Hot Chip</td><td>Logged In</td><td>Darianna</td><td>F</td><td>29</td><td>Carpenter</td><td>319.42485</td><td>free</td><td>Bridgeport-Stamfo...</td><td>PUT</td><td>NextSong</td><td>1538016340000</td><td>187</td><td>Alley Cats</td><td>200</td><td>1542823248000</td><td>&quot;Mozilla/5.0 (iPh...</td><td>100010</td><td>0</td><td>6</td></tr>\n",
       "<tr><td>Eminem</td><td>Logged In</td><td>Darianna</td><td>F</td><td>28</td><td>Carpenter</td><td>302.57587</td><td>free</td><td>Bridgeport-Stamfo...</td><td>PUT</td><td>NextSong</td><td>1538016340000</td><td>187</td><td>Taking My Ball</td><td>200</td><td>1542822946000</td><td>&quot;Mozilla/5.0 (iPh...</td><td>100010</td><td>0</td><td>7</td></tr>\n",
       "<tr><td>The Police</td><td>Logged In</td><td>Darianna</td><td>F</td><td>27</td><td>Carpenter</td><td>305.05751</td><td>free</td><td>Bridgeport-Stamfo...</td><td>PUT</td><td>NextSong</td><td>1538016340000</td><td>187</td><td>Walking On The Moon</td><td>200</td><td>1542822641000</td><td>&quot;Mozilla/5.0 (iPh...</td><td>100010</td><td>0</td><td>8</td></tr>\n",
       "<tr><td>Ke$ha</td><td>Logged In</td><td>Darianna</td><td>F</td><td>26</td><td>Carpenter</td><td>207.64689</td><td>free</td><td>Bridgeport-Stamfo...</td><td>PUT</td><td>NextSong</td><td>1538016340000</td><td>187</td><td>Kiss N Tell</td><td>200</td><td>1542822434000</td><td>&quot;Mozilla/5.0 (iPh...</td><td>100010</td><td>0</td><td>9</td></tr>\n",
       "<tr><td>Gwen Stefani</td><td>Logged In</td><td>Darianna</td><td>F</td><td>25</td><td>Carpenter</td><td>264.93342</td><td>free</td><td>Bridgeport-Stamfo...</td><td>PUT</td><td>NextSong</td><td>1538016340000</td><td>187</td><td>Luxurious</td><td>200</td><td>1542822170000</td><td>&quot;Mozilla/5.0 (iPh...</td><td>100010</td><td>0</td><td>10</td></tr>\n",
       "<tr><td>NULL</td><td>Logged In</td><td>Darianna</td><td>F</td><td>24</td><td>Carpenter</td><td>NULL</td><td>free</td><td>Bridgeport-Stamfo...</td><td>PUT</td><td>Thumbs Up</td><td>1538016340000</td><td>187</td><td>NULL</td><td>307</td><td>1542821944000</td><td>&quot;Mozilla/5.0 (iPh...</td><td>100010</td><td>0</td><td>11</td></tr>\n",
       "<tr><td>DJ Khaled</td><td>Logged In</td><td>Darianna</td><td>F</td><td>23</td><td>Carpenter</td><td>227.082</td><td>free</td><td>Bridgeport-Stamfo...</td><td>PUT</td><td>NextSong</td><td>1538016340000</td><td>187</td><td>All I Do Is Win (...</td><td>200</td><td>1542821943000</td><td>&quot;Mozilla/5.0 (iPh...</td><td>100010</td><td>0</td><td>12</td></tr>\n",
       "<tr><td>Kelly Clarkson</td><td>Logged In</td><td>Darianna</td><td>F</td><td>22</td><td>Carpenter</td><td>281.5473</td><td>free</td><td>Bridgeport-Stamfo...</td><td>PUT</td><td>NextSong</td><td>1538016340000</td><td>187</td><td>Already Gone</td><td>200</td><td>1542821662000</td><td>&quot;Mozilla/5.0 (iPh...</td><td>100010</td><td>0</td><td>13</td></tr>\n",
       "<tr><td>Bob James</td><td>Logged In</td><td>Darianna</td><td>F</td><td>21</td><td>Carpenter</td><td>345.05098</td><td>free</td><td>Bridgeport-Stamfo...</td><td>PUT</td><td>NextSong</td><td>1538016340000</td><td>187</td><td>Angela (Theme Fro...</td><td>200</td><td>1542821317000</td><td>&quot;Mozilla/5.0 (iPh...</td><td>100010</td><td>0</td><td>14</td></tr>\n",
       "<tr><td>Nick Cave &amp; The B...</td><td>Logged In</td><td>Darianna</td><td>F</td><td>20</td><td>Carpenter</td><td>367.15057</td><td>free</td><td>Bridgeport-Stamfo...</td><td>PUT</td><td>NextSong</td><td>1538016340000</td><td>187</td><td>We Came Along Thi...</td><td>200</td><td>1542820950000</td><td>&quot;Mozilla/5.0 (iPh...</td><td>100010</td><td>0</td><td>15</td></tr>\n",
       "<tr><td>T.I.</td><td>Logged In</td><td>Darianna</td><td>F</td><td>19</td><td>Carpenter</td><td>299.75465</td><td>free</td><td>Bridgeport-Stamfo...</td><td>PUT</td><td>NextSong</td><td>1538016340000</td><td>187</td><td>Dead And Gone [fe...</td><td>200</td><td>1542820651000</td><td>&quot;Mozilla/5.0 (iPh...</td><td>100010</td><td>0</td><td>16</td></tr>\n",
       "<tr><td>Sev Statik</td><td>Logged In</td><td>Darianna</td><td>F</td><td>18</td><td>Carpenter</td><td>214.80444</td><td>free</td><td>Bridgeport-Stamfo...</td><td>PUT</td><td>NextSong</td><td>1538016340000</td><td>187</td><td>MIC (Speak Life A...</td><td>200</td><td>1542820437000</td><td>&quot;Mozilla/5.0 (iPh...</td><td>100010</td><td>0</td><td>17</td></tr>\n",
       "<tr><td>NULL</td><td>Logged In</td><td>Darianna</td><td>F</td><td>17</td><td>Carpenter</td><td>NULL</td><td>free</td><td>Bridgeport-Stamfo...</td><td>PUT</td><td>Thumbs Up</td><td>1538016340000</td><td>187</td><td>NULL</td><td>307</td><td>1542820180000</td><td>&quot;Mozilla/5.0 (iPh...</td><td>100010</td><td>0</td><td>18</td></tr>\n",
       "<tr><td>Drowning Pool</td><td>Logged In</td><td>Darianna</td><td>F</td><td>16</td><td>Carpenter</td><td>258.16771</td><td>free</td><td>Bridgeport-Stamfo...</td><td>PUT</td><td>NextSong</td><td>1538016340000</td><td>187</td><td>Up Side Down (Exp...</td><td>200</td><td>1542820179000</td><td>&quot;Mozilla/5.0 (iPh...</td><td>100010</td><td>0</td><td>19</td></tr>\n",
       "<tr><td>NULL</td><td>Logged In</td><td>Darianna</td><td>F</td><td>15</td><td>Carpenter</td><td>NULL</td><td>free</td><td>Bridgeport-Stamfo...</td><td>PUT</td><td>Thumbs Down</td><td>1538016340000</td><td>187</td><td>NULL</td><td>307</td><td>1542819920000</td><td>&quot;Mozilla/5.0 (iPh...</td><td>100010</td><td>0</td><td>20</td></tr>\n",
       "</table>\n",
       "only showing top 20 rows\n"
      ],
      "text/plain": [
       "+--------------------+---------+---------+------+-------------+---------+---------+-----+--------------------+------+-----------+-------------+---------+--------------------+------+-------------+--------------------+------+---------+-----------+\n",
       "|              artist|     auth|firstName|gender|itemInSession| lastName|   length|level|            location|method|       page| registration|sessionId|                song|status|           ts|           userAgent|userId|churn_ind|last_record|\n",
       "+--------------------+---------+---------+------+-------------+---------+---------+-----+--------------------+------+-----------+-------------+---------+--------------------+------+-------------+--------------------+------+---------+-----------+\n",
       "|                NULL|Logged In| Darianna|     F|           34|Carpenter|     NULL| free|Bridgeport-Stamfo...|   PUT|     Logout|1538016340000|      187|                NULL|   307|1542823952000|\"Mozilla/5.0 (iPh...|100010|        0|          1|\n",
       "|          Lily Allen|Logged In| Darianna|     F|           33|Carpenter|185.25995| free|Bridgeport-Stamfo...|   PUT|   NextSong|1538016340000|      187|                  22|   200|1542823951000|\"Mozilla/5.0 (iPh...|100010|        0|          2|\n",
       "|          John Waite|Logged In| Darianna|     F|           32|Carpenter|269.76608| free|Bridgeport-Stamfo...|   PUT|   NextSong|1538016340000|      187|         Missing You|   200|1542823682000|\"Mozilla/5.0 (iPh...|100010|        0|          3|\n",
       "|             Hermano|Logged In| Darianna|     F|           31|Carpenter|115.90485| free|Bridgeport-Stamfo...|   PUT|   NextSong|1538016340000|      187| Letters From Madrid|   200|1542823567000|\"Mozilla/5.0 (iPh...|100010|        0|          4|\n",
       "|                NULL|Logged In| Darianna|     F|           30|Carpenter|     NULL| free|Bridgeport-Stamfo...|   GET|Roll Advert|1538016340000|      187|                NULL|   200|1542823257000|\"Mozilla/5.0 (iPh...|100010|        0|          5|\n",
       "|            Hot Chip|Logged In| Darianna|     F|           29|Carpenter|319.42485| free|Bridgeport-Stamfo...|   PUT|   NextSong|1538016340000|      187|          Alley Cats|   200|1542823248000|\"Mozilla/5.0 (iPh...|100010|        0|          6|\n",
       "|              Eminem|Logged In| Darianna|     F|           28|Carpenter|302.57587| free|Bridgeport-Stamfo...|   PUT|   NextSong|1538016340000|      187|      Taking My Ball|   200|1542822946000|\"Mozilla/5.0 (iPh...|100010|        0|          7|\n",
       "|          The Police|Logged In| Darianna|     F|           27|Carpenter|305.05751| free|Bridgeport-Stamfo...|   PUT|   NextSong|1538016340000|      187| Walking On The Moon|   200|1542822641000|\"Mozilla/5.0 (iPh...|100010|        0|          8|\n",
       "|               Ke$ha|Logged In| Darianna|     F|           26|Carpenter|207.64689| free|Bridgeport-Stamfo...|   PUT|   NextSong|1538016340000|      187|         Kiss N Tell|   200|1542822434000|\"Mozilla/5.0 (iPh...|100010|        0|          9|\n",
       "|        Gwen Stefani|Logged In| Darianna|     F|           25|Carpenter|264.93342| free|Bridgeport-Stamfo...|   PUT|   NextSong|1538016340000|      187|           Luxurious|   200|1542822170000|\"Mozilla/5.0 (iPh...|100010|        0|         10|\n",
       "|                NULL|Logged In| Darianna|     F|           24|Carpenter|     NULL| free|Bridgeport-Stamfo...|   PUT|  Thumbs Up|1538016340000|      187|                NULL|   307|1542821944000|\"Mozilla/5.0 (iPh...|100010|        0|         11|\n",
       "|           DJ Khaled|Logged In| Darianna|     F|           23|Carpenter|  227.082| free|Bridgeport-Stamfo...|   PUT|   NextSong|1538016340000|      187|All I Do Is Win (...|   200|1542821943000|\"Mozilla/5.0 (iPh...|100010|        0|         12|\n",
       "|      Kelly Clarkson|Logged In| Darianna|     F|           22|Carpenter| 281.5473| free|Bridgeport-Stamfo...|   PUT|   NextSong|1538016340000|      187|        Already Gone|   200|1542821662000|\"Mozilla/5.0 (iPh...|100010|        0|         13|\n",
       "|           Bob James|Logged In| Darianna|     F|           21|Carpenter|345.05098| free|Bridgeport-Stamfo...|   PUT|   NextSong|1538016340000|      187|Angela (Theme Fro...|   200|1542821317000|\"Mozilla/5.0 (iPh...|100010|        0|         14|\n",
       "|Nick Cave & The B...|Logged In| Darianna|     F|           20|Carpenter|367.15057| free|Bridgeport-Stamfo...|   PUT|   NextSong|1538016340000|      187|We Came Along Thi...|   200|1542820950000|\"Mozilla/5.0 (iPh...|100010|        0|         15|\n",
       "|                T.I.|Logged In| Darianna|     F|           19|Carpenter|299.75465| free|Bridgeport-Stamfo...|   PUT|   NextSong|1538016340000|      187|Dead And Gone [fe...|   200|1542820651000|\"Mozilla/5.0 (iPh...|100010|        0|         16|\n",
       "|          Sev Statik|Logged In| Darianna|     F|           18|Carpenter|214.80444| free|Bridgeport-Stamfo...|   PUT|   NextSong|1538016340000|      187|MIC (Speak Life A...|   200|1542820437000|\"Mozilla/5.0 (iPh...|100010|        0|         17|\n",
       "|                NULL|Logged In| Darianna|     F|           17|Carpenter|     NULL| free|Bridgeport-Stamfo...|   PUT|  Thumbs Up|1538016340000|      187|                NULL|   307|1542820180000|\"Mozilla/5.0 (iPh...|100010|        0|         18|\n",
       "|       Drowning Pool|Logged In| Darianna|     F|           16|Carpenter|258.16771| free|Bridgeport-Stamfo...|   PUT|   NextSong|1538016340000|      187|Up Side Down (Exp...|   200|1542820179000|\"Mozilla/5.0 (iPh...|100010|        0|         19|\n",
       "|                NULL|Logged In| Darianna|     F|           15|Carpenter|     NULL| free|Bridgeport-Stamfo...|   PUT|Thumbs Down|1538016340000|      187|                NULL|   307|1542819920000|\"Mozilla/5.0 (iPh...|100010|        0|         20|\n",
       "+--------------------+---------+---------+------+-------------+---------+---------+-----+--------------------+------+-----------+-------------+---------+--------------------+------+-------------+--------------------+------+---------+-----------+\n",
       "only showing top 20 rows"
      ]
     },
     "execution_count": 24,
     "metadata": {},
     "output_type": "execute_result"
    }
   ],
   "source": [
    "status = event_log.withColumn(\"last_record\", F.row_number()\\\n",
    "                           .over(Window.partitionBy(\"userId\").orderBy(F.desc(\"ts\")))\\\n",
    "                           .cast(IntegerType()))\n",
    "status"
   ]
  },
  {
   "cell_type": "code",
   "execution_count": 25,
   "id": "c8441b05",
   "metadata": {
    "ExecuteTime": {
     "end_time": "2023-11-13T21:12:45.425330Z",
     "start_time": "2023-11-13T21:12:44.871529Z"
    }
   },
   "outputs": [
    {
     "name": "stdout",
     "output_type": "stream",
     "text": [
      "+-----+---------+-----+\n",
      "|level|churn_ind|count|\n",
      "+-----+---------+-----+\n",
      "| paid|        0|  114|\n",
      "| free|        0|   59|\n",
      "| paid|        1|   31|\n",
      "| free|        1|   21|\n",
      "+-----+---------+-----+\n",
      "\n"
     ]
    }
   ],
   "source": [
    "status.filter(status.last_record == 1).groupBy('level', 'churn_ind')\\\n",
    "                                        .count().sort(\"count\", ascending=False).show()"
   ]
  },
  {
   "cell_type": "code",
   "execution_count": 26,
   "id": "5fc41b29",
   "metadata": {
    "ExecuteTime": {
     "end_time": "2023-11-13T21:12:45.871252Z",
     "start_time": "2023-11-13T21:12:45.426566Z"
    }
   },
   "outputs": [
    {
     "name": "stdout",
     "output_type": "stream",
     "text": [
      "+--------------------+-------------+\n",
      "|              Artist|count(Artist)|\n",
      "+--------------------+-------------+\n",
      "|       Kings Of Leon|         1841|\n",
      "|            Coldplay|         1813|\n",
      "|Florence + The Ma...|         1236|\n",
      "|       Dwight Yoakam|         1135|\n",
      "|            BjÃÂ¶rk|         1133|\n",
      "|      The Black Keys|         1125|\n",
      "|                Muse|         1090|\n",
      "|       Justin Bieber|         1044|\n",
      "|        Jack Johnson|         1007|\n",
      "|              Eminem|          953|\n",
      "|           Radiohead|          884|\n",
      "|     Alliance Ethnik|          876|\n",
      "|               Train|          854|\n",
      "|        Taylor Swift|          840|\n",
      "|         OneRepublic|          828|\n",
      "|         The Killers|          822|\n",
      "|         Linkin Park|          787|\n",
      "|         Evanescence|          781|\n",
      "|            Harmonia|          729|\n",
      "|           Daft Punk|          713|\n",
      "+--------------------+-------------+\n",
      "only showing top 20 rows\n",
      "\n"
     ]
    }
   ],
   "source": [
    "event_log.filter(event_log.page == 'NextSong').select('Artist')\\\n",
    "    .groupBy('Artist').agg({'Artist':'count'}).sort(F.desc('count(Artist)')).show()"
   ]
  },
  {
   "cell_type": "code",
   "execution_count": 27,
   "id": "b3fa4ecb",
   "metadata": {
    "ExecuteTime": {
     "end_time": "2023-11-13T21:12:45.957677Z",
     "start_time": "2023-11-13T21:12:45.876526Z"
    }
   },
   "outputs": [],
   "source": [
    "# 根据用户和会话id计算会话时间\n",
    "avg_session_time = event_log.groupby(\"userId\", \"sessionId\")\\\n",
    "                              .agg(((F.max(event_log.ts)-F.min(event_log.ts))/(1000*60))\\\n",
    "                              .alias(\"avg_session_mins\"))\n",
    "\n",
    "# 计算每个用户的平均会话时间\n",
    "avg_session_time = avg_session_time.groupby(\"userId\").agg(F.avg(avg_session_time\\\n",
    "                                    .avg_session_mins).alias(\"avg_session_mins\")).sort(\"userId\")\n",
    "\n",
    "# 平均会话时间精度设置\n",
    "avg_session_time = avg_session_time.withColumn('avg_session_mins',\\\n",
    "                                               F.round(F.col('avg_session_mins'), 1))\n",
    "\n",
    "# 解析userAgent和location字段以提取有用的特性\n",
    "device = F.udf(lambda x: x.split('(')[1].split(\";\")[0].split(\" \")[0]\n",
    "               .replace('\"', ' ').strip() if not x is None else \"\")\n",
    "\n",
    "browser = F.udf(lambda x: x.rsplit(' ', 1)[1].rsplit('/', 1)[0]\n",
    "                .replace('\"', ' ', 1).strip() if not x is None else \"\")\n",
    "\n",
    "state = F.udf(lambda x: x.split(',')[1].strip() if not x is None else \"\")\n",
    "\n",
    "event_log = event_log\\\n",
    "    .withColumn('device', device(event_log.userAgent))\\\n",
    "    .withColumn('browser', browser(event_log.userAgent))\\\n",
    "    .withColumn('state', state(event_log.location))"
   ]
  },
  {
   "cell_type": "code",
   "execution_count": 28,
   "id": "1c3a92f9",
   "metadata": {
    "ExecuteTime": {
     "end_time": "2023-11-13T21:12:46.747505Z",
     "start_time": "2023-11-13T21:12:45.959085Z"
    }
   },
   "outputs": [
    {
     "data": {
      "text/html": [
       "<table border='1'>\n",
       "<tr><th>userId</th><th>avg_session_mins</th></tr>\n",
       "<tr><td>10</td><td>459.7</td></tr>\n",
       "<tr><td>100</td><td>316.5</td></tr>\n",
       "<tr><td>100001</td><td>148.2</td></tr>\n",
       "<tr><td>100002</td><td>201.2</td></tr>\n",
       "<tr><td>100003</td><td>99.1</td></tr>\n",
       "<tr><td>100004</td><td>186.0</td></tr>\n",
       "<tr><td>100005</td><td>120.2</td></tr>\n",
       "<tr><td>100006</td><td>93.4</td></tr>\n",
       "<tr><td>100007</td><td>189.4</td></tr>\n",
       "<tr><td>100008</td><td>528.3</td></tr>\n",
       "<tr><td>100009</td><td>212.0</td></tr>\n",
       "<tr><td>100010</td><td>154.5</td></tr>\n",
       "<tr><td>100011</td><td>44.4</td></tr>\n",
       "<tr><td>100012</td><td>271.4</td></tr>\n",
       "<tr><td>100013</td><td>330.0</td></tr>\n",
       "<tr><td>100014</td><td>184.8</td></tr>\n",
       "<tr><td>100015</td><td>278.6</td></tr>\n",
       "<tr><td>100016</td><td>265.4</td></tr>\n",
       "<tr><td>100017</td><td>199.3</td></tr>\n",
       "<tr><td>100018</td><td>193.2</td></tr>\n",
       "</table>\n",
       "only showing top 20 rows\n"
      ],
      "text/plain": [
       "+------+----------------+\n",
       "|userId|avg_session_mins|\n",
       "+------+----------------+\n",
       "|    10|           459.7|\n",
       "|   100|           316.5|\n",
       "|100001|           148.2|\n",
       "|100002|           201.2|\n",
       "|100003|            99.1|\n",
       "|100004|           186.0|\n",
       "|100005|           120.2|\n",
       "|100006|            93.4|\n",
       "|100007|           189.4|\n",
       "|100008|           528.3|\n",
       "|100009|           212.0|\n",
       "|100010|           154.5|\n",
       "|100011|            44.4|\n",
       "|100012|           271.4|\n",
       "|100013|           330.0|\n",
       "|100014|           184.8|\n",
       "|100015|           278.6|\n",
       "|100016|           265.4|\n",
       "|100017|           199.3|\n",
       "|100018|           193.2|\n",
       "+------+----------------+\n",
       "only showing top 20 rows"
      ]
     },
     "execution_count": 28,
     "metadata": {},
     "output_type": "execute_result"
    }
   ],
   "source": [
    "avg_session_time"
   ]
  },
  {
   "cell_type": "code",
   "execution_count": 29,
   "id": "18576cba",
   "metadata": {
    "ExecuteTime": {
     "end_time": "2023-11-13T21:12:47.773107Z",
     "start_time": "2023-11-13T21:12:46.748896Z"
    }
   },
   "outputs": [
    {
     "name": "stderr",
     "output_type": "stream",
     "text": [
      "\r",
      "[Stage 99:>                                                         (0 + 1) / 1]\r"
     ]
    },
    {
     "name": "stdout",
     "output_type": "stream",
     "text": [
      "+---------+-------+-----+\n",
      "|   device|browser|state|\n",
      "+---------+-------+-----+\n",
      "|  Windows|Firefox|   CA|\n",
      "|  Windows| Safari|MA-NH|\n",
      "|  Windows|Firefox|   CA|\n",
      "|  Windows| Safari|MA-NH|\n",
      "|  Windows|Firefox|   CA|\n",
      "|  Windows| Safari|MA-NH|\n",
      "|  Windows| Safari|MA-NH|\n",
      "|  Windows|Firefox|   CA|\n",
      "|  Windows|Firefox|   CA|\n",
      "|  Windows|Firefox|   CA|\n",
      "|  Windows| Safari|MA-NH|\n",
      "|  Windows| Safari|MA-NH|\n",
      "|  Windows|Firefox|   CA|\n",
      "|  Windows| Safari|MA-NH|\n",
      "|  Windows| Safari|MA-NH|\n",
      "|  Windows|Firefox|   CA|\n",
      "|  Windows| Safari|MA-NH|\n",
      "|Macintosh| Safari|   FL|\n",
      "|  Windows|Firefox|   CA|\n",
      "|  Windows| Safari|MA-NH|\n",
      "+---------+-------+-----+\n",
      "only showing top 20 rows\n",
      "\n"
     ]
    },
    {
     "name": "stderr",
     "output_type": "stream",
     "text": [
      "\r",
      "                                                                                \r"
     ]
    }
   ],
   "source": [
    "event_log.select('device','browser','state').show()"
   ]
  },
  {
   "cell_type": "code",
   "execution_count": 30,
   "id": "593f3384",
   "metadata": {
    "ExecuteTime": {
     "end_time": "2023-11-13T21:12:48.431772Z",
     "start_time": "2023-11-13T21:12:47.774590Z"
    }
   },
   "outputs": [
    {
     "name": "stdout",
     "output_type": "stream",
     "text": [
      "+----------+----------+\n",
      "|    device|user_count|\n",
      "+----------+----------+\n",
      "|   Windows|       106|\n",
      "| Macintosh|        86|\n",
      "|    iPhone|        13|\n",
      "|       X11|        12|\n",
      "|compatible|         5|\n",
      "|      iPad|         3|\n",
      "+----------+----------+\n",
      "\n"
     ]
    }
   ],
   "source": [
    "event_log.groupBy(\"device\").agg(F.countDistinct(\"userId\")\n",
    "                                .alias('user_count')).sort(\"user_count\", ascending=False).show()"
   ]
  },
  {
   "cell_type": "code",
   "execution_count": 31,
   "id": "46166a11",
   "metadata": {
    "ExecuteTime": {
     "end_time": "2023-11-13T21:12:49.150253Z",
     "start_time": "2023-11-13T21:12:48.432982Z"
    }
   },
   "outputs": [
    {
     "name": "stdout",
     "output_type": "stream",
     "text": [
      "+----------+---------+----------+\n",
      "|    device|churn_ind|user_count|\n",
      "+----------+---------+----------+\n",
      "|    iPhone|        1|         4|\n",
      "|    iPhone|        0|         9|\n",
      "|      iPad|        0|         3|\n",
      "|compatible|        0|         5|\n",
      "|       X11|        0|         7|\n",
      "|       X11|        1|         5|\n",
      "|   Windows|        0|        82|\n",
      "|   Windows|        1|        24|\n",
      "| Macintosh|        0|        67|\n",
      "| Macintosh|        1|        19|\n",
      "+----------+---------+----------+\n",
      "\n"
     ]
    }
   ],
   "source": [
    "event_log.groupBy(\"device\", \"churn_ind\").agg(F.countDistinct(\"userId\")\\\n",
    "                                        .alias('user_count'))\\\n",
    "                                        .sort(\"device\", ascending=False).show()"
   ]
  },
  {
   "cell_type": "code",
   "execution_count": 32,
   "id": "8f5bff6a",
   "metadata": {
    "ExecuteTime": {
     "end_time": "2023-11-13T21:12:49.773019Z",
     "start_time": "2023-11-13T21:12:49.151598Z"
    }
   },
   "outputs": [
    {
     "name": "stdout",
     "output_type": "stream",
     "text": [
      "+-------+----------+\n",
      "|browser|user_count|\n",
      "+-------+----------+\n",
      "| Safari|       163|\n",
      "|Firefox|        50|\n",
      "|  Gecko|         7|\n",
      "|Trident|         5|\n",
      "+-------+----------+\n",
      "\n"
     ]
    }
   ],
   "source": [
    "event_log.groupBy(\"browser\").agg(F.countDistinct(\"userId\")\n",
    "                                 .alias('user_count')).sort(\"user_count\", ascending=False).show()"
   ]
  },
  {
   "cell_type": "code",
   "execution_count": 33,
   "id": "7ebe1545",
   "metadata": {
    "ExecuteTime": {
     "end_time": "2023-11-13T21:12:50.239143Z",
     "start_time": "2023-11-13T21:12:49.774208Z"
    }
   },
   "outputs": [
    {
     "name": "stdout",
     "output_type": "stream",
     "text": [
      "+-------+---------+----------+\n",
      "|browser|churn_ind|user_count|\n",
      "+-------+---------+----------+\n",
      "|Trident|        0|         5|\n",
      "| Safari|        0|       128|\n",
      "| Safari|        1|        35|\n",
      "|  Gecko|        0|         6|\n",
      "|  Gecko|        1|         1|\n",
      "|Firefox|        1|        16|\n",
      "|Firefox|        0|        34|\n",
      "+-------+---------+----------+\n",
      "\n"
     ]
    }
   ],
   "source": [
    "event_log.groupBy(\"browser\", \"churn_ind\").agg(F.countDistinct(\"userId\")\\\n",
    "                                        .alias('user_count'))\\\n",
    "                                        .sort(\"browser\", ascending=False).show()"
   ]
  },
  {
   "cell_type": "code",
   "execution_count": 34,
   "id": "0dcdd324",
   "metadata": {
    "ExecuteTime": {
     "end_time": "2023-11-13T21:12:50.611351Z",
     "start_time": "2023-11-13T21:12:50.240477Z"
    }
   },
   "outputs": [
    {
     "name": "stdout",
     "output_type": "stream",
     "text": [
      "+--------+----------+\n",
      "|   state|user_count|\n",
      "+--------+----------+\n",
      "|      CA|        33|\n",
      "|      TX|        16|\n",
      "|NY-NJ-PA|        15|\n",
      "|      FL|        14|\n",
      "|      AZ|         7|\n",
      "|      CT|         7|\n",
      "+--------+----------+\n",
      "only showing top 6 rows\n",
      "\n"
     ]
    }
   ],
   "source": [
    "event_log.groupBy(\"state\").agg(F.countDistinct(\"userId\")\n",
    "                               .alias('user_count')).sort(\"user_count\", ascending=False).show(6)"
   ]
  },
  {
   "cell_type": "markdown",
   "id": "7507fc0a",
   "metadata": {},
   "source": [
    "# Feature Engineering\n",
    "After exploratory data analysis (EDA), we now have a more comprehensive understanding of the basic situation of the data. At this point, we can build effective features for training models. To use the complete dataset, follow these steps:\n",
    "\n",
    "1. **Write a script** to extract the necessary features from a smaller data subset.\n",
    "2. Ensure your script is **scalable with the data**, and seek best practices in feature engineering.\n",
    "3. **Validate the script** on the full dataset and debug as necessary.\n",
    "\n",
    "When writing and debugging scripts locally, it's feasible to use only a small part of the data for feature extraction. When submitting the written code to run on a Spark cluster, ensure that the code is adjusted to transition to a larger dataset.\n"
   ]
  },
  {
   "cell_type": "markdown",
   "id": "80d972ce",
   "metadata": {},
   "source": [
    "## 1. Data Preprocessing\n",
    "\n",
    "As part of the ETL process, I created an analytical record for each user, containing the following features:\n",
    "\n",
    "- **churn_ind**: Indicates if the customer churned (1 = churned).\n",
    "- **gender**: 1 for male, 0 for female.\n",
    "- **tenure**: The difference in days between registration and the maximum timestamp.\n",
    "- **total_sessions**: The total number of sessions per user.\n",
    "- **avg_session_mins**: The average session duration for each user.\n",
    "- **total_songs**: The total number of songs listened to by each user.\n",
    "- **unique_songs**: The total number of unique songs listened to by each user.\n",
    "- **total_events**: The total number of events for each user.\n",
    "- **likes_ratio**: The ratio of thumbs up to all songs listened to.\n",
    "- **dislikes_ratio**: The ratio of thumbs down to all songs listened to.\n",
    "- **playlist_ratio**: The ratio of songs added to the playlist to all songs listened to.\n",
    "- **level**: The last recorded status of the customer (paid/free)."
   ]
  },
  {
   "cell_type": "markdown",
   "id": "18f56d58",
   "metadata": {},
   "source": [
    "## 2. Creating New Features"
   ]
  },
  {
   "cell_type": "markdown",
   "id": "7ad10613",
   "metadata": {},
   "source": [
    "### 2.1 Translate features"
   ]
  },
  {
   "cell_type": "code",
   "execution_count": 35,
   "id": "41e95f3e",
   "metadata": {
    "ExecuteTime": {
     "end_time": "2023-11-13T21:12:50.779638Z",
     "start_time": "2023-11-13T21:12:50.612442Z"
    }
   },
   "outputs": [],
   "source": [
    "user = Window().partitionBy('userId')\n",
    "\n",
    "user_log = event_log.filter(\"userId != ''\")\\\n",
    "    .withColumn('gender', F.when(F.col('gender') == \"M\", 1).otherwise(0))\\\n",
    "    .withColumn('total_events', F.count('*').over(user))\\\n",
    "    .withColumn('total_songs', F.count(\"song\").over(user))\\\n",
    "    .withColumn('reg_dt', F.from_unixtime(F.col('registration')/1000).cast(DateType()))\\\n",
    "    .withColumn('min_dt',  F.from_unixtime((F.min(\"ts\").over(user))/1000).cast(DateType()))\\\n",
    "    .withColumn('max_dt', F.from_unixtime((F.max(\"ts\").over(user))/1000).cast(DateType()))\\\n",
    "    .withColumn('max_unix', F.max(\"ts\").over(user))\\\n",
    "    .withColumn('total_sessions', F.size(F.collect_set(F.col('sessionId')).over(user)))\\\n",
    "    .withColumn('roll_ads', F.sum(F.when(F.col('page') == 'Roll Advert', 1).otherwise(0)).over(user))\\\n",
    "    .withColumn('add_friend', F.sum(F.when(F.col('page') == 'Add Friend', 1).otherwise(0)).over(user))\\\n",
    "    .select(*['userId', 'gender', 'total_events', 'total_songs', 'reg_dt', 'min_dt', 'max_dt', \n",
    "              'browser', 'device', 'state', 'max_unix', 'total_sessions', 'roll_ads', 'add_friend']).distinct()"
   ]
  },
  {
   "cell_type": "code",
   "execution_count": 36,
   "id": "6cb29492",
   "metadata": {
    "ExecuteTime": {
     "end_time": "2023-11-13T21:12:52.357477Z",
     "start_time": "2023-11-13T21:12:50.780875Z"
    }
   },
   "outputs": [
    {
     "name": "stderr",
     "output_type": "stream",
     "text": [
      "                                                                                \r"
     ]
    },
    {
     "data": {
      "text/plain": [
       "(225, 14)"
      ]
     },
     "execution_count": 36,
     "metadata": {},
     "output_type": "execute_result"
    }
   ],
   "source": [
    "shape(user_log)"
   ]
  },
  {
   "cell_type": "code",
   "execution_count": 37,
   "id": "268ba7db",
   "metadata": {
    "ExecuteTime": {
     "end_time": "2023-11-13T21:12:54.064488Z",
     "start_time": "2023-11-13T21:12:52.358830Z"
    }
   },
   "outputs": [
    {
     "data": {
      "text/html": [
       "<table border='1'>\n",
       "<tr><th>userId</th><th>gender</th><th>total_events</th><th>total_songs</th><th>reg_dt</th><th>min_dt</th><th>max_dt</th><th>browser</th><th>device</th><th>state</th><th>max_unix</th><th>total_sessions</th><th>roll_ads</th><th>add_friend</th></tr>\n",
       "<tr><td>100010</td><td>0</td><td>381</td><td>275</td><td>2018-09-27</td><td>2018-10-08</td><td>2018-11-21</td><td>Safari</td><td>iPhone</td><td>CT</td><td>1542823952000</td><td>7</td><td>52</td><td>4</td></tr>\n",
       "<tr><td>100014</td><td>1</td><td>310</td><td>257</td><td>2018-08-27</td><td>2018-10-10</td><td>2018-11-20</td><td>Safari</td><td>Windows</td><td>NY-NJ-PA</td><td>1542740649000</td><td>6</td><td>2</td><td>6</td></tr>\n",
       "<tr><td>100021</td><td>1</td><td>319</td><td>230</td><td>2018-09-21</td><td>2018-10-11</td><td>2018-11-25</td><td>Safari</td><td>Macintosh</td><td>TX</td><td>1543143782000</td><td>5</td><td>30</td><td>7</td></tr>\n",
       "<tr><td>101</td><td>1</td><td>2149</td><td>1797</td><td>2018-08-24</td><td>2018-10-01</td><td>2018-10-16</td><td>Firefox</td><td>Windows</td><td>CO</td><td>1539729037000</td><td>10</td><td>8</td><td>29</td></tr>\n",
       "<tr><td>11</td><td>0</td><td>848</td><td>647</td><td>2018-07-25</td><td>2018-10-05</td><td>2018-11-27</td><td>Gecko</td><td>Windows</td><td>RI-MA</td><td>1543309702000</td><td>16</td><td>39</td><td>6</td></tr>\n",
       "<tr><td>124</td><td>0</td><td>4825</td><td>4079</td><td>2018-07-22</td><td>2018-10-01</td><td>2018-11-30</td><td>Safari</td><td>Macintosh</td><td>NJ</td><td>1543590766000</td><td>29</td><td>4</td><td>74</td></tr>\n",
       "<tr><td>125</td><td>1</td><td>11</td><td>8</td><td>2018-08-01</td><td>2018-10-12</td><td>2018-10-12</td><td>Safari</td><td>Macintosh</td><td>TX</td><td>1539318918000</td><td>1</td><td>1</td><td>0</td></tr>\n",
       "<tr><td>132</td><td>0</td><td>2304</td><td>1928</td><td>2018-09-16</td><td>2018-10-02</td><td>2018-11-21</td><td>Safari</td><td>Macintosh</td><td>CO</td><td>1542833772000</td><td>16</td><td>2</td><td>41</td></tr>\n",
       "<tr><td>138</td><td>1</td><td>2469</td><td>2070</td><td>2018-09-25</td><td>2018-10-05</td><td>2018-11-30</td><td>Safari</td><td>iPad</td><td>NY-NJ-PA</td><td>1543622365000</td><td>15</td><td>17</td><td>41</td></tr>\n",
       "<tr><td>15</td><td>1</td><td>2278</td><td>1914</td><td>2018-09-29</td><td>2018-10-01</td><td>2018-11-25</td><td>Safari</td><td>Windows</td><td>WV</td><td>1543121818000</td><td>15</td><td>1</td><td>31</td></tr>\n",
       "<tr><td>154</td><td>0</td><td>118</td><td>84</td><td>2018-11-03</td><td>2018-11-02</td><td>2018-11-27</td><td>Safari</td><td>Windows</td><td>NY-NJ-PA</td><td>1543330565000</td><td>3</td><td>10</td><td>3</td></tr>\n",
       "<tr><td>155</td><td>0</td><td>1002</td><td>820</td><td>2018-11-04</td><td>2018-11-02</td><td>2018-11-28</td><td>Safari</td><td>Windows</td><td>MA-NH</td><td>1543405710000</td><td>6</td><td>8</td><td>11</td></tr>\n",
       "<tr><td>200002</td><td>1</td><td>474</td><td>387</td><td>2018-09-06</td><td>2018-10-01</td><td>2018-11-15</td><td>Safari</td><td>iPhone</td><td>IL-IN-WI</td><td>1542324354000</td><td>6</td><td>7</td><td>4</td></tr>\n",
       "<tr><td>29</td><td>1</td><td>3603</td><td>3028</td><td>2018-09-15</td><td>2018-10-02</td><td>2018-11-14</td><td>Safari</td><td>Macintosh</td><td>CA</td><td>1542181031000</td><td>34</td><td>22</td><td>47</td></tr>\n",
       "<tr><td>300017</td><td>0</td><td>4428</td><td>3632</td><td>2018-09-16</td><td>2018-10-01</td><td>2018-11-29</td><td>Safari</td><td>Macintosh</td><td>MI</td><td>1543507087000</td><td>63</td><td>11</td><td>63</td></tr>\n",
       "<tr><td>51</td><td>1</td><td>2464</td><td>2111</td><td>2018-09-27</td><td>2018-10-01</td><td>2018-10-17</td><td>Safari</td><td>Windows</td><td>KY</td><td>1539761972000</td><td>10</td><td>0</td><td>28</td></tr>\n",
       "<tr><td>54</td><td>0</td><td>3437</td><td>2841</td><td>2018-07-25</td><td>2018-10-01</td><td>2018-11-12</td><td>Firefox</td><td>Windows</td><td>WA</td><td>1542051608000</td><td>37</td><td>47</td><td>33</td></tr>\n",
       "<tr><td>69</td><td>0</td><td>1342</td><td>1125</td><td>2018-09-13</td><td>2018-10-03</td><td>2018-11-23</td><td>Safari</td><td>Windows</td><td>WI</td><td>1542995231000</td><td>9</td><td>3</td><td>12</td></tr>\n",
       "<tr><td>7</td><td>1</td><td>201</td><td>150</td><td>2018-09-11</td><td>2018-10-03</td><td>2018-11-23</td><td>Firefox</td><td>Windows</td><td>WA</td><td>1542955611000</td><td>7</td><td>16</td><td>1</td></tr>\n",
       "<tr><td>100008</td><td>0</td><td>940</td><td>772</td><td>2018-09-20</td><td>2018-10-09</td><td>2018-11-27</td><td>Firefox</td><td>Macintosh</td><td>CA</td><td>1543335219000</td><td>6</td><td>20</td><td>17</td></tr>\n",
       "</table>\n",
       "only showing top 20 rows\n"
      ],
      "text/plain": [
       "+------+------+------------+-----------+----------+----------+----------+-------+---------+--------+-------------+--------------+--------+----------+\n",
       "|userId|gender|total_events|total_songs|    reg_dt|    min_dt|    max_dt|browser|   device|   state|     max_unix|total_sessions|roll_ads|add_friend|\n",
       "+------+------+------------+-----------+----------+----------+----------+-------+---------+--------+-------------+--------------+--------+----------+\n",
       "|100010|     0|         381|        275|2018-09-27|2018-10-08|2018-11-21| Safari|   iPhone|      CT|1542823952000|             7|      52|         4|\n",
       "|100014|     1|         310|        257|2018-08-27|2018-10-10|2018-11-20| Safari|  Windows|NY-NJ-PA|1542740649000|             6|       2|         6|\n",
       "|100021|     1|         319|        230|2018-09-21|2018-10-11|2018-11-25| Safari|Macintosh|      TX|1543143782000|             5|      30|         7|\n",
       "|   101|     1|        2149|       1797|2018-08-24|2018-10-01|2018-10-16|Firefox|  Windows|      CO|1539729037000|            10|       8|        29|\n",
       "|    11|     0|         848|        647|2018-07-25|2018-10-05|2018-11-27|  Gecko|  Windows|   RI-MA|1543309702000|            16|      39|         6|\n",
       "|   124|     0|        4825|       4079|2018-07-22|2018-10-01|2018-11-30| Safari|Macintosh|      NJ|1543590766000|            29|       4|        74|\n",
       "|   125|     1|          11|          8|2018-08-01|2018-10-12|2018-10-12| Safari|Macintosh|      TX|1539318918000|             1|       1|         0|\n",
       "|   132|     0|        2304|       1928|2018-09-16|2018-10-02|2018-11-21| Safari|Macintosh|      CO|1542833772000|            16|       2|        41|\n",
       "|   138|     1|        2469|       2070|2018-09-25|2018-10-05|2018-11-30| Safari|     iPad|NY-NJ-PA|1543622365000|            15|      17|        41|\n",
       "|    15|     1|        2278|       1914|2018-09-29|2018-10-01|2018-11-25| Safari|  Windows|      WV|1543121818000|            15|       1|        31|\n",
       "|   154|     0|         118|         84|2018-11-03|2018-11-02|2018-11-27| Safari|  Windows|NY-NJ-PA|1543330565000|             3|      10|         3|\n",
       "|   155|     0|        1002|        820|2018-11-04|2018-11-02|2018-11-28| Safari|  Windows|   MA-NH|1543405710000|             6|       8|        11|\n",
       "|200002|     1|         474|        387|2018-09-06|2018-10-01|2018-11-15| Safari|   iPhone|IL-IN-WI|1542324354000|             6|       7|         4|\n",
       "|    29|     1|        3603|       3028|2018-09-15|2018-10-02|2018-11-14| Safari|Macintosh|      CA|1542181031000|            34|      22|        47|\n",
       "|300017|     0|        4428|       3632|2018-09-16|2018-10-01|2018-11-29| Safari|Macintosh|      MI|1543507087000|            63|      11|        63|\n",
       "|    51|     1|        2464|       2111|2018-09-27|2018-10-01|2018-10-17| Safari|  Windows|      KY|1539761972000|            10|       0|        28|\n",
       "|    54|     0|        3437|       2841|2018-07-25|2018-10-01|2018-11-12|Firefox|  Windows|      WA|1542051608000|            37|      47|        33|\n",
       "|    69|     0|        1342|       1125|2018-09-13|2018-10-03|2018-11-23| Safari|  Windows|      WI|1542995231000|             9|       3|        12|\n",
       "|     7|     1|         201|        150|2018-09-11|2018-10-03|2018-11-23|Firefox|  Windows|      WA|1542955611000|             7|      16|         1|\n",
       "|100008|     0|         940|        772|2018-09-20|2018-10-09|2018-11-27|Firefox|Macintosh|      CA|1543335219000|             6|      20|        17|\n",
       "+------+------+------------+-----------+----------+----------+----------+-------+---------+--------+-------------+--------------+--------+----------+\n",
       "only showing top 20 rows"
      ]
     },
     "execution_count": 37,
     "metadata": {},
     "output_type": "execute_result"
    }
   ],
   "source": [
    "user_log"
   ]
  },
  {
   "cell_type": "markdown",
   "id": "1f69055c",
   "metadata": {},
   "source": []
  },
  {
   "cell_type": "markdown",
   "id": "bae0e21a",
   "metadata": {},
   "source": [
    "### 2.2 New Feature: avg session time"
   ]
  },
  {
   "cell_type": "code",
   "execution_count": 38,
   "id": "94b5a80d",
   "metadata": {
    "ExecuteTime": {
     "end_time": "2023-11-13T21:12:56.846233Z",
     "start_time": "2023-11-13T21:12:54.066037Z"
    },
    "scrolled": true
   },
   "outputs": [
    {
     "name": "stderr",
     "output_type": "stream",
     "text": [
      "                                                                                \r"
     ]
    },
    {
     "data": {
      "text/html": [
       "<table border='1'>\n",
       "<tr><th>userId</th><th>gender</th><th>total_events</th><th>total_songs</th><th>reg_dt</th><th>min_dt</th><th>max_dt</th><th>browser</th><th>device</th><th>state</th><th>max_unix</th><th>total_sessions</th><th>roll_ads</th><th>add_friend</th><th>avg_session_mins</th></tr>\n",
       "<tr><td>100010</td><td>0</td><td>381</td><td>275</td><td>2018-09-27</td><td>2018-10-08</td><td>2018-11-21</td><td>Safari</td><td>iPhone</td><td>CT</td><td>1542823952000</td><td>7</td><td>52</td><td>4</td><td>154.5</td></tr>\n",
       "<tr><td>100014</td><td>1</td><td>310</td><td>257</td><td>2018-08-27</td><td>2018-10-10</td><td>2018-11-20</td><td>Safari</td><td>Windows</td><td>NY-NJ-PA</td><td>1542740649000</td><td>6</td><td>2</td><td>6</td><td>184.8</td></tr>\n",
       "<tr><td>100021</td><td>1</td><td>319</td><td>230</td><td>2018-09-21</td><td>2018-10-11</td><td>2018-11-25</td><td>Safari</td><td>Macintosh</td><td>TX</td><td>1543143782000</td><td>5</td><td>30</td><td>7</td><td>215.2</td></tr>\n",
       "<tr><td>101</td><td>1</td><td>2149</td><td>1797</td><td>2018-08-24</td><td>2018-10-01</td><td>2018-10-16</td><td>Firefox</td><td>Windows</td><td>CO</td><td>1539729037000</td><td>10</td><td>8</td><td>29</td><td>817.6</td></tr>\n",
       "<tr><td>11</td><td>0</td><td>848</td><td>647</td><td>2018-07-25</td><td>2018-10-05</td><td>2018-11-27</td><td>Gecko</td><td>Windows</td><td>RI-MA</td><td>1543309702000</td><td>16</td><td>39</td><td>6</td><td>161.4</td></tr>\n",
       "<tr><td>124</td><td>0</td><td>4825</td><td>4079</td><td>2018-07-22</td><td>2018-10-01</td><td>2018-11-30</td><td>Safari</td><td>Macintosh</td><td>NJ</td><td>1543590766000</td><td>29</td><td>4</td><td>74</td><td>579.0</td></tr>\n",
       "<tr><td>125</td><td>1</td><td>11</td><td>8</td><td>2018-08-01</td><td>2018-10-12</td><td>2018-10-12</td><td>Safari</td><td>Macintosh</td><td>TX</td><td>1539318918000</td><td>1</td><td>1</td><td>0</td><td>29.6</td></tr>\n",
       "<tr><td>132</td><td>0</td><td>2304</td><td>1928</td><td>2018-09-16</td><td>2018-10-02</td><td>2018-11-21</td><td>Safari</td><td>Macintosh</td><td>CO</td><td>1542833772000</td><td>16</td><td>2</td><td>41</td><td>499.0</td></tr>\n",
       "<tr><td>138</td><td>1</td><td>2469</td><td>2070</td><td>2018-09-25</td><td>2018-10-05</td><td>2018-11-30</td><td>Safari</td><td>iPad</td><td>NY-NJ-PA</td><td>1543622365000</td><td>15</td><td>17</td><td>41</td><td>564.2</td></tr>\n",
       "<tr><td>15</td><td>1</td><td>2278</td><td>1914</td><td>2018-09-29</td><td>2018-10-01</td><td>2018-11-25</td><td>Safari</td><td>Windows</td><td>WV</td><td>1543121818000</td><td>15</td><td>1</td><td>31</td><td>528.3</td></tr>\n",
       "<tr><td>154</td><td>0</td><td>118</td><td>84</td><td>2018-11-03</td><td>2018-11-02</td><td>2018-11-27</td><td>Safari</td><td>Windows</td><td>NY-NJ-PA</td><td>1543330565000</td><td>3</td><td>10</td><td>3</td><td>110.7</td></tr>\n",
       "<tr><td>155</td><td>0</td><td>1002</td><td>820</td><td>2018-11-04</td><td>2018-11-02</td><td>2018-11-28</td><td>Safari</td><td>Windows</td><td>MA-NH</td><td>1543405710000</td><td>6</td><td>8</td><td>11</td><td>548.6</td></tr>\n",
       "<tr><td>200002</td><td>1</td><td>474</td><td>387</td><td>2018-09-06</td><td>2018-10-01</td><td>2018-11-15</td><td>Safari</td><td>iPhone</td><td>IL-IN-WI</td><td>1542324354000</td><td>6</td><td>7</td><td>4</td><td>266.4</td></tr>\n",
       "<tr><td>29</td><td>1</td><td>3603</td><td>3028</td><td>2018-09-15</td><td>2018-10-02</td><td>2018-11-14</td><td>Safari</td><td>Macintosh</td><td>CA</td><td>1542181031000</td><td>34</td><td>22</td><td>47</td><td>365.8</td></tr>\n",
       "<tr><td>300017</td><td>0</td><td>4428</td><td>3632</td><td>2018-09-16</td><td>2018-10-01</td><td>2018-11-29</td><td>Safari</td><td>Macintosh</td><td>MI</td><td>1543507087000</td><td>63</td><td>11</td><td>63</td><td>233.3</td></tr>\n",
       "<tr><td>51</td><td>1</td><td>2464</td><td>2111</td><td>2018-09-27</td><td>2018-10-01</td><td>2018-10-17</td><td>Safari</td><td>Windows</td><td>KY</td><td>1539761972000</td><td>10</td><td>0</td><td>28</td><td>872.4</td></tr>\n",
       "<tr><td>54</td><td>0</td><td>3437</td><td>2841</td><td>2018-07-25</td><td>2018-10-01</td><td>2018-11-12</td><td>Firefox</td><td>Windows</td><td>WA</td><td>1542051608000</td><td>37</td><td>47</td><td>33</td><td>322.3</td></tr>\n",
       "<tr><td>69</td><td>0</td><td>1342</td><td>1125</td><td>2018-09-13</td><td>2018-10-03</td><td>2018-11-23</td><td>Safari</td><td>Windows</td><td>WI</td><td>1542995231000</td><td>9</td><td>3</td><td>12</td><td>526.7</td></tr>\n",
       "<tr><td>7</td><td>1</td><td>201</td><td>150</td><td>2018-09-11</td><td>2018-10-03</td><td>2018-11-23</td><td>Firefox</td><td>Windows</td><td>WA</td><td>1542955611000</td><td>7</td><td>16</td><td>1</td><td>87.6</td></tr>\n",
       "<tr><td>100008</td><td>0</td><td>940</td><td>772</td><td>2018-09-20</td><td>2018-10-09</td><td>2018-11-27</td><td>Firefox</td><td>Macintosh</td><td>CA</td><td>1543335219000</td><td>6</td><td>20</td><td>17</td><td>528.3</td></tr>\n",
       "</table>\n",
       "only showing top 20 rows\n"
      ],
      "text/plain": [
       "+------+------+------------+-----------+----------+----------+----------+-------+---------+--------+-------------+--------------+--------+----------+----------------+\n",
       "|userId|gender|total_events|total_songs|    reg_dt|    min_dt|    max_dt|browser|   device|   state|     max_unix|total_sessions|roll_ads|add_friend|avg_session_mins|\n",
       "+------+------+------------+-----------+----------+----------+----------+-------+---------+--------+-------------+--------------+--------+----------+----------------+\n",
       "|100010|     0|         381|        275|2018-09-27|2018-10-08|2018-11-21| Safari|   iPhone|      CT|1542823952000|             7|      52|         4|           154.5|\n",
       "|100014|     1|         310|        257|2018-08-27|2018-10-10|2018-11-20| Safari|  Windows|NY-NJ-PA|1542740649000|             6|       2|         6|           184.8|\n",
       "|100021|     1|         319|        230|2018-09-21|2018-10-11|2018-11-25| Safari|Macintosh|      TX|1543143782000|             5|      30|         7|           215.2|\n",
       "|   101|     1|        2149|       1797|2018-08-24|2018-10-01|2018-10-16|Firefox|  Windows|      CO|1539729037000|            10|       8|        29|           817.6|\n",
       "|    11|     0|         848|        647|2018-07-25|2018-10-05|2018-11-27|  Gecko|  Windows|   RI-MA|1543309702000|            16|      39|         6|           161.4|\n",
       "|   124|     0|        4825|       4079|2018-07-22|2018-10-01|2018-11-30| Safari|Macintosh|      NJ|1543590766000|            29|       4|        74|           579.0|\n",
       "|   125|     1|          11|          8|2018-08-01|2018-10-12|2018-10-12| Safari|Macintosh|      TX|1539318918000|             1|       1|         0|            29.6|\n",
       "|   132|     0|        2304|       1928|2018-09-16|2018-10-02|2018-11-21| Safari|Macintosh|      CO|1542833772000|            16|       2|        41|           499.0|\n",
       "|   138|     1|        2469|       2070|2018-09-25|2018-10-05|2018-11-30| Safari|     iPad|NY-NJ-PA|1543622365000|            15|      17|        41|           564.2|\n",
       "|    15|     1|        2278|       1914|2018-09-29|2018-10-01|2018-11-25| Safari|  Windows|      WV|1543121818000|            15|       1|        31|           528.3|\n",
       "|   154|     0|         118|         84|2018-11-03|2018-11-02|2018-11-27| Safari|  Windows|NY-NJ-PA|1543330565000|             3|      10|         3|           110.7|\n",
       "|   155|     0|        1002|        820|2018-11-04|2018-11-02|2018-11-28| Safari|  Windows|   MA-NH|1543405710000|             6|       8|        11|           548.6|\n",
       "|200002|     1|         474|        387|2018-09-06|2018-10-01|2018-11-15| Safari|   iPhone|IL-IN-WI|1542324354000|             6|       7|         4|           266.4|\n",
       "|    29|     1|        3603|       3028|2018-09-15|2018-10-02|2018-11-14| Safari|Macintosh|      CA|1542181031000|            34|      22|        47|           365.8|\n",
       "|300017|     0|        4428|       3632|2018-09-16|2018-10-01|2018-11-29| Safari|Macintosh|      MI|1543507087000|            63|      11|        63|           233.3|\n",
       "|    51|     1|        2464|       2111|2018-09-27|2018-10-01|2018-10-17| Safari|  Windows|      KY|1539761972000|            10|       0|        28|           872.4|\n",
       "|    54|     0|        3437|       2841|2018-07-25|2018-10-01|2018-11-12|Firefox|  Windows|      WA|1542051608000|            37|      47|        33|           322.3|\n",
       "|    69|     0|        1342|       1125|2018-09-13|2018-10-03|2018-11-23| Safari|  Windows|      WI|1542995231000|             9|       3|        12|           526.7|\n",
       "|     7|     1|         201|        150|2018-09-11|2018-10-03|2018-11-23|Firefox|  Windows|      WA|1542955611000|             7|      16|         1|            87.6|\n",
       "|100008|     0|         940|        772|2018-09-20|2018-10-09|2018-11-27|Firefox|Macintosh|      CA|1543335219000|             6|      20|        17|           528.3|\n",
       "+------+------+------------+-----------+----------+----------+----------+-------+---------+--------+-------------+--------------+--------+----------+----------------+\n",
       "only showing top 20 rows"
      ]
     },
     "execution_count": 38,
     "metadata": {},
     "output_type": "execute_result"
    }
   ],
   "source": [
    "user_log = user_log.join(avg_session_time,\\\n",
    "                    [user_log.userId == avg_session_time.userId], how=\"left\").\\\n",
    "                    select(user_log['*'], \"avg_session_mins\")\n",
    "user_log"
   ]
  },
  {
   "cell_type": "markdown",
   "id": "faed99b9",
   "metadata": {},
   "source": [
    "### 2.2 New Feature: unique songs"
   ]
  },
  {
   "cell_type": "code",
   "execution_count": 39,
   "id": "88f0405f",
   "metadata": {
    "ExecuteTime": {
     "end_time": "2023-11-13T21:13:00.065388Z",
     "start_time": "2023-11-13T21:12:56.847556Z"
    },
    "scrolled": true
   },
   "outputs": [
    {
     "name": "stderr",
     "output_type": "stream",
     "text": [
      "                                                                                \r"
     ]
    },
    {
     "data": {
      "text/html": [
       "<table border='1'>\n",
       "<tr><th>userId</th><th>gender</th><th>total_events</th><th>total_songs</th><th>reg_dt</th><th>min_dt</th><th>max_dt</th><th>browser</th><th>device</th><th>state</th><th>max_unix</th><th>total_sessions</th><th>roll_ads</th><th>add_friend</th><th>avg_session_mins</th><th>unique_songs</th></tr>\n",
       "<tr><td>100010</td><td>0</td><td>381</td><td>275</td><td>2018-09-27</td><td>2018-10-08</td><td>2018-11-21</td><td>Safari</td><td>iPhone</td><td>CT</td><td>1542823952000</td><td>7</td><td>52</td><td>4</td><td>154.5</td><td>270</td></tr>\n",
       "<tr><td>100014</td><td>1</td><td>310</td><td>257</td><td>2018-08-27</td><td>2018-10-10</td><td>2018-11-20</td><td>Safari</td><td>Windows</td><td>NY-NJ-PA</td><td>1542740649000</td><td>6</td><td>2</td><td>6</td><td>184.8</td><td>249</td></tr>\n",
       "<tr><td>100021</td><td>1</td><td>319</td><td>230</td><td>2018-09-21</td><td>2018-10-11</td><td>2018-11-25</td><td>Safari</td><td>Macintosh</td><td>TX</td><td>1543143782000</td><td>5</td><td>30</td><td>7</td><td>215.2</td><td>227</td></tr>\n",
       "<tr><td>101</td><td>1</td><td>2149</td><td>1797</td><td>2018-08-24</td><td>2018-10-01</td><td>2018-10-16</td><td>Firefox</td><td>Windows</td><td>CO</td><td>1539729037000</td><td>10</td><td>8</td><td>29</td><td>817.6</td><td>1609</td></tr>\n",
       "<tr><td>11</td><td>0</td><td>848</td><td>647</td><td>2018-07-25</td><td>2018-10-05</td><td>2018-11-27</td><td>Gecko</td><td>Windows</td><td>RI-MA</td><td>1543309702000</td><td>16</td><td>39</td><td>6</td><td>161.4</td><td>617</td></tr>\n",
       "<tr><td>124</td><td>0</td><td>4825</td><td>4079</td><td>2018-07-22</td><td>2018-10-01</td><td>2018-11-30</td><td>Safari</td><td>Macintosh</td><td>NJ</td><td>1543590766000</td><td>29</td><td>4</td><td>74</td><td>579.0</td><td>3340</td></tr>\n",
       "<tr><td>125</td><td>1</td><td>11</td><td>8</td><td>2018-08-01</td><td>2018-10-12</td><td>2018-10-12</td><td>Safari</td><td>Macintosh</td><td>TX</td><td>1539318918000</td><td>1</td><td>1</td><td>0</td><td>29.6</td><td>9</td></tr>\n",
       "<tr><td>132</td><td>0</td><td>2304</td><td>1928</td><td>2018-09-16</td><td>2018-10-02</td><td>2018-11-21</td><td>Safari</td><td>Macintosh</td><td>CO</td><td>1542833772000</td><td>16</td><td>2</td><td>41</td><td>499.0</td><td>1719</td></tr>\n",
       "<tr><td>138</td><td>1</td><td>2469</td><td>2070</td><td>2018-09-25</td><td>2018-10-05</td><td>2018-11-30</td><td>Safari</td><td>iPad</td><td>NY-NJ-PA</td><td>1543622365000</td><td>15</td><td>17</td><td>41</td><td>564.2</td><td>1792</td></tr>\n",
       "<tr><td>15</td><td>1</td><td>2278</td><td>1914</td><td>2018-09-29</td><td>2018-10-01</td><td>2018-11-25</td><td>Safari</td><td>Windows</td><td>WV</td><td>1543121818000</td><td>15</td><td>1</td><td>31</td><td>528.3</td><td>1708</td></tr>\n",
       "<tr><td>154</td><td>0</td><td>118</td><td>84</td><td>2018-11-03</td><td>2018-11-02</td><td>2018-11-27</td><td>Safari</td><td>Windows</td><td>NY-NJ-PA</td><td>1543330565000</td><td>3</td><td>10</td><td>3</td><td>110.7</td><td>84</td></tr>\n",
       "<tr><td>155</td><td>0</td><td>1002</td><td>820</td><td>2018-11-04</td><td>2018-11-02</td><td>2018-11-28</td><td>Safari</td><td>Windows</td><td>MA-NH</td><td>1543405710000</td><td>6</td><td>8</td><td>11</td><td>548.6</td><td>760</td></tr>\n",
       "<tr><td>200002</td><td>1</td><td>474</td><td>387</td><td>2018-09-06</td><td>2018-10-01</td><td>2018-11-15</td><td>Safari</td><td>iPhone</td><td>IL-IN-WI</td><td>1542324354000</td><td>6</td><td>7</td><td>4</td><td>266.4</td><td>379</td></tr>\n",
       "<tr><td>29</td><td>1</td><td>3603</td><td>3028</td><td>2018-09-15</td><td>2018-10-02</td><td>2018-11-14</td><td>Safari</td><td>Macintosh</td><td>CA</td><td>1542181031000</td><td>34</td><td>22</td><td>47</td><td>365.8</td><td>2563</td></tr>\n",
       "<tr><td>300017</td><td>0</td><td>4428</td><td>3632</td><td>2018-09-16</td><td>2018-10-01</td><td>2018-11-29</td><td>Safari</td><td>Macintosh</td><td>MI</td><td>1543507087000</td><td>63</td><td>11</td><td>63</td><td>233.3</td><td>3014</td></tr>\n",
       "<tr><td>51</td><td>1</td><td>2464</td><td>2111</td><td>2018-09-27</td><td>2018-10-01</td><td>2018-10-17</td><td>Safari</td><td>Windows</td><td>KY</td><td>1539761972000</td><td>10</td><td>0</td><td>28</td><td>872.4</td><td>1855</td></tr>\n",
       "<tr><td>54</td><td>0</td><td>3437</td><td>2841</td><td>2018-07-25</td><td>2018-10-01</td><td>2018-11-12</td><td>Firefox</td><td>Windows</td><td>WA</td><td>1542051608000</td><td>37</td><td>47</td><td>33</td><td>322.3</td><td>2415</td></tr>\n",
       "<tr><td>69</td><td>0</td><td>1342</td><td>1125</td><td>2018-09-13</td><td>2018-10-03</td><td>2018-11-23</td><td>Safari</td><td>Windows</td><td>WI</td><td>1542995231000</td><td>9</td><td>3</td><td>12</td><td>526.7</td><td>1037</td></tr>\n",
       "<tr><td>7</td><td>1</td><td>201</td><td>150</td><td>2018-09-11</td><td>2018-10-03</td><td>2018-11-23</td><td>Firefox</td><td>Windows</td><td>WA</td><td>1542955611000</td><td>7</td><td>16</td><td>1</td><td>87.6</td><td>149</td></tr>\n",
       "<tr><td>100008</td><td>0</td><td>940</td><td>772</td><td>2018-09-20</td><td>2018-10-09</td><td>2018-11-27</td><td>Firefox</td><td>Macintosh</td><td>CA</td><td>1543335219000</td><td>6</td><td>20</td><td>17</td><td>528.3</td><td>724</td></tr>\n",
       "</table>\n",
       "only showing top 20 rows\n"
      ],
      "text/plain": [
       "+------+------+------------+-----------+----------+----------+----------+-------+---------+--------+-------------+--------------+--------+----------+----------------+------------+\n",
       "|userId|gender|total_events|total_songs|    reg_dt|    min_dt|    max_dt|browser|   device|   state|     max_unix|total_sessions|roll_ads|add_friend|avg_session_mins|unique_songs|\n",
       "+------+------+------------+-----------+----------+----------+----------+-------+---------+--------+-------------+--------------+--------+----------+----------------+------------+\n",
       "|100010|     0|         381|        275|2018-09-27|2018-10-08|2018-11-21| Safari|   iPhone|      CT|1542823952000|             7|      52|         4|           154.5|         270|\n",
       "|100014|     1|         310|        257|2018-08-27|2018-10-10|2018-11-20| Safari|  Windows|NY-NJ-PA|1542740649000|             6|       2|         6|           184.8|         249|\n",
       "|100021|     1|         319|        230|2018-09-21|2018-10-11|2018-11-25| Safari|Macintosh|      TX|1543143782000|             5|      30|         7|           215.2|         227|\n",
       "|   101|     1|        2149|       1797|2018-08-24|2018-10-01|2018-10-16|Firefox|  Windows|      CO|1539729037000|            10|       8|        29|           817.6|        1609|\n",
       "|    11|     0|         848|        647|2018-07-25|2018-10-05|2018-11-27|  Gecko|  Windows|   RI-MA|1543309702000|            16|      39|         6|           161.4|         617|\n",
       "|   124|     0|        4825|       4079|2018-07-22|2018-10-01|2018-11-30| Safari|Macintosh|      NJ|1543590766000|            29|       4|        74|           579.0|        3340|\n",
       "|   125|     1|          11|          8|2018-08-01|2018-10-12|2018-10-12| Safari|Macintosh|      TX|1539318918000|             1|       1|         0|            29.6|           9|\n",
       "|   132|     0|        2304|       1928|2018-09-16|2018-10-02|2018-11-21| Safari|Macintosh|      CO|1542833772000|            16|       2|        41|           499.0|        1719|\n",
       "|   138|     1|        2469|       2070|2018-09-25|2018-10-05|2018-11-30| Safari|     iPad|NY-NJ-PA|1543622365000|            15|      17|        41|           564.2|        1792|\n",
       "|    15|     1|        2278|       1914|2018-09-29|2018-10-01|2018-11-25| Safari|  Windows|      WV|1543121818000|            15|       1|        31|           528.3|        1708|\n",
       "|   154|     0|         118|         84|2018-11-03|2018-11-02|2018-11-27| Safari|  Windows|NY-NJ-PA|1543330565000|             3|      10|         3|           110.7|          84|\n",
       "|   155|     0|        1002|        820|2018-11-04|2018-11-02|2018-11-28| Safari|  Windows|   MA-NH|1543405710000|             6|       8|        11|           548.6|         760|\n",
       "|200002|     1|         474|        387|2018-09-06|2018-10-01|2018-11-15| Safari|   iPhone|IL-IN-WI|1542324354000|             6|       7|         4|           266.4|         379|\n",
       "|    29|     1|        3603|       3028|2018-09-15|2018-10-02|2018-11-14| Safari|Macintosh|      CA|1542181031000|            34|      22|        47|           365.8|        2563|\n",
       "|300017|     0|        4428|       3632|2018-09-16|2018-10-01|2018-11-29| Safari|Macintosh|      MI|1543507087000|            63|      11|        63|           233.3|        3014|\n",
       "|    51|     1|        2464|       2111|2018-09-27|2018-10-01|2018-10-17| Safari|  Windows|      KY|1539761972000|            10|       0|        28|           872.4|        1855|\n",
       "|    54|     0|        3437|       2841|2018-07-25|2018-10-01|2018-11-12|Firefox|  Windows|      WA|1542051608000|            37|      47|        33|           322.3|        2415|\n",
       "|    69|     0|        1342|       1125|2018-09-13|2018-10-03|2018-11-23| Safari|  Windows|      WI|1542995231000|             9|       3|        12|           526.7|        1037|\n",
       "|     7|     1|         201|        150|2018-09-11|2018-10-03|2018-11-23|Firefox|  Windows|      WA|1542955611000|             7|      16|         1|            87.6|         149|\n",
       "|100008|     0|         940|        772|2018-09-20|2018-10-09|2018-11-27|Firefox|Macintosh|      CA|1543335219000|             6|      20|        17|           528.3|         724|\n",
       "+------+------+------------+-----------+----------+----------+----------+-------+---------+--------+-------------+--------------+--------+----------+----------------+------------+\n",
       "only showing top 20 rows"
      ]
     },
     "execution_count": 39,
     "metadata": {},
     "output_type": "execute_result"
    }
   ],
   "source": [
    "# unique_songs_listened_to\n",
    "songs = event_log.select('userId', 'song').dropDuplicates().groupBy('userId')\\\n",
    "        .count().withColumnRenamed(\"count\", \"unique_songs\")\n",
    "\n",
    "user_log = user_log.join(songs, [user_log.userId == songs.userId], how=\"left\")\\\n",
    "            .select(user_log['*'], \"unique_songs\")\n",
    "user_log"
   ]
  },
  {
   "cell_type": "markdown",
   "id": "6973ee39",
   "metadata": {},
   "source": [
    "### 2.3 New Feature: unique artists"
   ]
  },
  {
   "cell_type": "code",
   "execution_count": 40,
   "id": "007da9af",
   "metadata": {
    "ExecuteTime": {
     "end_time": "2023-11-13T21:13:03.964427Z",
     "start_time": "2023-11-13T21:13:00.066846Z"
    }
   },
   "outputs": [
    {
     "name": "stderr",
     "output_type": "stream",
     "text": [
      "                                                                                \r"
     ]
    },
    {
     "data": {
      "text/html": [
       "<table border='1'>\n",
       "<tr><th>userId</th><th>gender</th><th>total_events</th><th>total_songs</th><th>reg_dt</th><th>min_dt</th><th>max_dt</th><th>browser</th><th>device</th><th>state</th><th>max_unix</th><th>total_sessions</th><th>roll_ads</th><th>add_friend</th><th>avg_session_mins</th><th>unique_songs</th><th>unique_artists</th></tr>\n",
       "<tr><td>100010</td><td>0</td><td>381</td><td>275</td><td>2018-09-27</td><td>2018-10-08</td><td>2018-11-21</td><td>Safari</td><td>iPhone</td><td>CT</td><td>1542823952000</td><td>7</td><td>52</td><td>4</td><td>154.5</td><td>270</td><td>253</td></tr>\n",
       "<tr><td>100014</td><td>1</td><td>310</td><td>257</td><td>2018-08-27</td><td>2018-10-10</td><td>2018-11-20</td><td>Safari</td><td>Windows</td><td>NY-NJ-PA</td><td>1542740649000</td><td>6</td><td>2</td><td>6</td><td>184.8</td><td>249</td><td>234</td></tr>\n",
       "<tr><td>100021</td><td>1</td><td>319</td><td>230</td><td>2018-09-21</td><td>2018-10-11</td><td>2018-11-25</td><td>Safari</td><td>Macintosh</td><td>TX</td><td>1543143782000</td><td>5</td><td>30</td><td>7</td><td>215.2</td><td>227</td><td>208</td></tr>\n",
       "<tr><td>101</td><td>1</td><td>2149</td><td>1797</td><td>2018-08-24</td><td>2018-10-01</td><td>2018-10-16</td><td>Firefox</td><td>Windows</td><td>CO</td><td>1539729037000</td><td>10</td><td>8</td><td>29</td><td>817.6</td><td>1609</td><td>1242</td></tr>\n",
       "<tr><td>11</td><td>0</td><td>848</td><td>647</td><td>2018-07-25</td><td>2018-10-05</td><td>2018-11-27</td><td>Gecko</td><td>Windows</td><td>RI-MA</td><td>1543309702000</td><td>16</td><td>39</td><td>6</td><td>161.4</td><td>617</td><td>535</td></tr>\n",
       "<tr><td>124</td><td>0</td><td>4825</td><td>4079</td><td>2018-07-22</td><td>2018-10-01</td><td>2018-11-30</td><td>Safari</td><td>Macintosh</td><td>NJ</td><td>1543590766000</td><td>29</td><td>4</td><td>74</td><td>579.0</td><td>3340</td><td>2233</td></tr>\n",
       "<tr><td>125</td><td>1</td><td>11</td><td>8</td><td>2018-08-01</td><td>2018-10-12</td><td>2018-10-12</td><td>Safari</td><td>Macintosh</td><td>TX</td><td>1539318918000</td><td>1</td><td>1</td><td>0</td><td>29.6</td><td>9</td><td>9</td></tr>\n",
       "<tr><td>132</td><td>0</td><td>2304</td><td>1928</td><td>2018-09-16</td><td>2018-10-02</td><td>2018-11-21</td><td>Safari</td><td>Macintosh</td><td>CO</td><td>1542833772000</td><td>16</td><td>2</td><td>41</td><td>499.0</td><td>1719</td><td>1300</td></tr>\n",
       "<tr><td>138</td><td>1</td><td>2469</td><td>2070</td><td>2018-09-25</td><td>2018-10-05</td><td>2018-11-30</td><td>Safari</td><td>iPad</td><td>NY-NJ-PA</td><td>1543622365000</td><td>15</td><td>17</td><td>41</td><td>564.2</td><td>1792</td><td>1333</td></tr>\n",
       "<tr><td>15</td><td>1</td><td>2278</td><td>1914</td><td>2018-09-29</td><td>2018-10-01</td><td>2018-11-25</td><td>Safari</td><td>Windows</td><td>WV</td><td>1543121818000</td><td>15</td><td>1</td><td>31</td><td>528.3</td><td>1708</td><td>1303</td></tr>\n",
       "<tr><td>154</td><td>0</td><td>118</td><td>84</td><td>2018-11-03</td><td>2018-11-02</td><td>2018-11-27</td><td>Safari</td><td>Windows</td><td>NY-NJ-PA</td><td>1543330565000</td><td>3</td><td>10</td><td>3</td><td>110.7</td><td>84</td><td>79</td></tr>\n",
       "<tr><td>155</td><td>0</td><td>1002</td><td>820</td><td>2018-11-04</td><td>2018-11-02</td><td>2018-11-28</td><td>Safari</td><td>Windows</td><td>MA-NH</td><td>1543405710000</td><td>6</td><td>8</td><td>11</td><td>548.6</td><td>760</td><td>644</td></tr>\n",
       "<tr><td>200002</td><td>1</td><td>474</td><td>387</td><td>2018-09-06</td><td>2018-10-01</td><td>2018-11-15</td><td>Safari</td><td>iPhone</td><td>IL-IN-WI</td><td>1542324354000</td><td>6</td><td>7</td><td>4</td><td>266.4</td><td>379</td><td>340</td></tr>\n",
       "<tr><td>29</td><td>1</td><td>3603</td><td>3028</td><td>2018-09-15</td><td>2018-10-02</td><td>2018-11-14</td><td>Safari</td><td>Macintosh</td><td>CA</td><td>1542181031000</td><td>34</td><td>22</td><td>47</td><td>365.8</td><td>2563</td><td>1805</td></tr>\n",
       "<tr><td>300017</td><td>0</td><td>4428</td><td>3632</td><td>2018-09-16</td><td>2018-10-01</td><td>2018-11-29</td><td>Safari</td><td>Macintosh</td><td>MI</td><td>1543507087000</td><td>63</td><td>11</td><td>63</td><td>233.3</td><td>3014</td><td>2071</td></tr>\n",
       "<tr><td>51</td><td>1</td><td>2464</td><td>2111</td><td>2018-09-27</td><td>2018-10-01</td><td>2018-10-17</td><td>Safari</td><td>Windows</td><td>KY</td><td>1539761972000</td><td>10</td><td>0</td><td>28</td><td>872.4</td><td>1855</td><td>1386</td></tr>\n",
       "<tr><td>54</td><td>0</td><td>3437</td><td>2841</td><td>2018-07-25</td><td>2018-10-01</td><td>2018-11-12</td><td>Firefox</td><td>Windows</td><td>WA</td><td>1542051608000</td><td>37</td><td>47</td><td>33</td><td>322.3</td><td>2415</td><td>1745</td></tr>\n",
       "<tr><td>69</td><td>0</td><td>1342</td><td>1125</td><td>2018-09-13</td><td>2018-10-03</td><td>2018-11-23</td><td>Safari</td><td>Windows</td><td>WI</td><td>1542995231000</td><td>9</td><td>3</td><td>12</td><td>526.7</td><td>1037</td><td>866</td></tr>\n",
       "<tr><td>7</td><td>1</td><td>201</td><td>150</td><td>2018-09-11</td><td>2018-10-03</td><td>2018-11-23</td><td>Firefox</td><td>Windows</td><td>WA</td><td>1542955611000</td><td>7</td><td>16</td><td>1</td><td>87.6</td><td>149</td><td>143</td></tr>\n",
       "<tr><td>100008</td><td>0</td><td>940</td><td>772</td><td>2018-09-20</td><td>2018-10-09</td><td>2018-11-27</td><td>Firefox</td><td>Macintosh</td><td>CA</td><td>1543335219000</td><td>6</td><td>20</td><td>17</td><td>528.3</td><td>724</td><td>624</td></tr>\n",
       "</table>\n",
       "only showing top 20 rows\n"
      ],
      "text/plain": [
       "+------+------+------------+-----------+----------+----------+----------+-------+---------+--------+-------------+--------------+--------+----------+----------------+------------+--------------+\n",
       "|userId|gender|total_events|total_songs|    reg_dt|    min_dt|    max_dt|browser|   device|   state|     max_unix|total_sessions|roll_ads|add_friend|avg_session_mins|unique_songs|unique_artists|\n",
       "+------+------+------------+-----------+----------+----------+----------+-------+---------+--------+-------------+--------------+--------+----------+----------------+------------+--------------+\n",
       "|100010|     0|         381|        275|2018-09-27|2018-10-08|2018-11-21| Safari|   iPhone|      CT|1542823952000|             7|      52|         4|           154.5|         270|           253|\n",
       "|100014|     1|         310|        257|2018-08-27|2018-10-10|2018-11-20| Safari|  Windows|NY-NJ-PA|1542740649000|             6|       2|         6|           184.8|         249|           234|\n",
       "|100021|     1|         319|        230|2018-09-21|2018-10-11|2018-11-25| Safari|Macintosh|      TX|1543143782000|             5|      30|         7|           215.2|         227|           208|\n",
       "|   101|     1|        2149|       1797|2018-08-24|2018-10-01|2018-10-16|Firefox|  Windows|      CO|1539729037000|            10|       8|        29|           817.6|        1609|          1242|\n",
       "|    11|     0|         848|        647|2018-07-25|2018-10-05|2018-11-27|  Gecko|  Windows|   RI-MA|1543309702000|            16|      39|         6|           161.4|         617|           535|\n",
       "|   124|     0|        4825|       4079|2018-07-22|2018-10-01|2018-11-30| Safari|Macintosh|      NJ|1543590766000|            29|       4|        74|           579.0|        3340|          2233|\n",
       "|   125|     1|          11|          8|2018-08-01|2018-10-12|2018-10-12| Safari|Macintosh|      TX|1539318918000|             1|       1|         0|            29.6|           9|             9|\n",
       "|   132|     0|        2304|       1928|2018-09-16|2018-10-02|2018-11-21| Safari|Macintosh|      CO|1542833772000|            16|       2|        41|           499.0|        1719|          1300|\n",
       "|   138|     1|        2469|       2070|2018-09-25|2018-10-05|2018-11-30| Safari|     iPad|NY-NJ-PA|1543622365000|            15|      17|        41|           564.2|        1792|          1333|\n",
       "|    15|     1|        2278|       1914|2018-09-29|2018-10-01|2018-11-25| Safari|  Windows|      WV|1543121818000|            15|       1|        31|           528.3|        1708|          1303|\n",
       "|   154|     0|         118|         84|2018-11-03|2018-11-02|2018-11-27| Safari|  Windows|NY-NJ-PA|1543330565000|             3|      10|         3|           110.7|          84|            79|\n",
       "|   155|     0|        1002|        820|2018-11-04|2018-11-02|2018-11-28| Safari|  Windows|   MA-NH|1543405710000|             6|       8|        11|           548.6|         760|           644|\n",
       "|200002|     1|         474|        387|2018-09-06|2018-10-01|2018-11-15| Safari|   iPhone|IL-IN-WI|1542324354000|             6|       7|         4|           266.4|         379|           340|\n",
       "|    29|     1|        3603|       3028|2018-09-15|2018-10-02|2018-11-14| Safari|Macintosh|      CA|1542181031000|            34|      22|        47|           365.8|        2563|          1805|\n",
       "|300017|     0|        4428|       3632|2018-09-16|2018-10-01|2018-11-29| Safari|Macintosh|      MI|1543507087000|            63|      11|        63|           233.3|        3014|          2071|\n",
       "|    51|     1|        2464|       2111|2018-09-27|2018-10-01|2018-10-17| Safari|  Windows|      KY|1539761972000|            10|       0|        28|           872.4|        1855|          1386|\n",
       "|    54|     0|        3437|       2841|2018-07-25|2018-10-01|2018-11-12|Firefox|  Windows|      WA|1542051608000|            37|      47|        33|           322.3|        2415|          1745|\n",
       "|    69|     0|        1342|       1125|2018-09-13|2018-10-03|2018-11-23| Safari|  Windows|      WI|1542995231000|             9|       3|        12|           526.7|        1037|           866|\n",
       "|     7|     1|         201|        150|2018-09-11|2018-10-03|2018-11-23|Firefox|  Windows|      WA|1542955611000|             7|      16|         1|            87.6|         149|           143|\n",
       "|100008|     0|         940|        772|2018-09-20|2018-10-09|2018-11-27|Firefox|Macintosh|      CA|1543335219000|             6|      20|        17|           528.3|         724|           624|\n",
       "+------+------+------------+-----------+----------+----------+----------+-------+---------+--------+-------------+--------------+--------+----------+----------------+------------+--------------+\n",
       "only showing top 20 rows"
      ]
     },
     "execution_count": 40,
     "metadata": {},
     "output_type": "execute_result"
    }
   ],
   "source": [
    "# unique_artists_listened_to\n",
    "artists = event_log.select('userId', 'artist').dropDuplicates().groupBy('userId')\\\n",
    "            .count().withColumnRenamed(\"count\", \"unique_artists\")\n",
    "\n",
    "user_log = user_log.join(artists, [user_log.userId == artists.userId], how=\"left\")\\\n",
    "            .select(user_log['*'], \"unique_artists\")\n",
    "user_log"
   ]
  },
  {
   "cell_type": "markdown",
   "id": "1da9b8a0",
   "metadata": {},
   "source": [
    "### 2.4 New Feature: Thumbs Up"
   ]
  },
  {
   "cell_type": "code",
   "execution_count": 41,
   "id": "02a31e3c",
   "metadata": {
    "ExecuteTime": {
     "end_time": "2023-11-13T21:13:04.003435Z",
     "start_time": "2023-11-13T21:13:03.965837Z"
    }
   },
   "outputs": [],
   "source": [
    "# unique_songs_listened_to\n",
    "likes = event_log.select('userId', 'song').filter(event_log.page == 'Thumbs Up')\\\n",
    "        .groupBy('userId').count().withColumnRenamed(\"count\", \"likes\")\n",
    "\n",
    "user_log = user_log.join(likes, [user_log.userId == likes.userId], how=\"left\")\\\n",
    "            .select(user_log['*'], \"likes\")"
   ]
  },
  {
   "cell_type": "markdown",
   "id": "cb1abc5d",
   "metadata": {},
   "source": [
    "### 2.5 New Feature: Thumbs Down"
   ]
  },
  {
   "cell_type": "code",
   "execution_count": 42,
   "id": "3f37792b",
   "metadata": {
    "ExecuteTime": {
     "end_time": "2023-11-13T21:13:04.033110Z",
     "start_time": "2023-11-13T21:13:04.004826Z"
    }
   },
   "outputs": [],
   "source": [
    "#unique_songs_listened_to\n",
    "dislikes = event_log.select('userId', 'song').filter(event_log.page == 'Thumbs Down')\\\n",
    "            .groupBy('userId').count().withColumnRenamed(\"count\", \"dislikes\")\n",
    "\n",
    "user_log = user_log.join(dislikes, [user_log.userId == dislikes.userId], how=\"left\")\\\n",
    "            .select(user_log['*'], \"dislikes\")"
   ]
  },
  {
   "cell_type": "markdown",
   "id": "fc9d4644",
   "metadata": {},
   "source": [
    "### 2.6 New Feature: add to playlist"
   ]
  },
  {
   "cell_type": "code",
   "execution_count": 43,
   "id": "55b94619",
   "metadata": {
    "ExecuteTime": {
     "end_time": "2023-11-13T21:13:04.064301Z",
     "start_time": "2023-11-13T21:13:04.034303Z"
    }
   },
   "outputs": [],
   "source": [
    "# 歌曲添加到播放列表\n",
    "playlist = event_log.select('userId', 'song').filter(event_log.page == 'Add to Playlist')\\\n",
    "            .groupBy('userId').count().withColumnRenamed(\"count\", \"playlist_adds\")\n",
    "\n",
    "user_log = user_log.join(playlist, [user_log.userId == playlist.userId], how=\"left\")\\\n",
    "            .select(user_log['*'], \"playlist_adds\")"
   ]
  },
  {
   "cell_type": "markdown",
   "id": "66eb5fa9",
   "metadata": {},
   "source": [
    "### 2.7 Transforming and Adding New Features as Ratios to `user_log` DataFrame"
   ]
  },
  {
   "cell_type": "code",
   "execution_count": 44,
   "id": "e0709a81",
   "metadata": {
    "ExecuteTime": {
     "end_time": "2023-11-13T21:13:08.722713Z",
     "start_time": "2023-11-13T21:13:04.065819Z"
    }
   },
   "outputs": [
    {
     "name": "stderr",
     "output_type": "stream",
     "text": [
      "                                                                                \r"
     ]
    },
    {
     "data": {
      "text/html": [
       "<table border='1'>\n",
       "<tr><th>userId</th><th>gender</th><th>total_events</th><th>total_songs</th><th>reg_dt</th><th>min_dt</th><th>max_dt</th><th>browser</th><th>device</th><th>state</th><th>max_unix</th><th>total_sessions</th><th>roll_ads</th><th>add_friend</th><th>avg_session_mins</th><th>unique_songs</th><th>unique_artists</th><th>likes</th><th>dislikes</th><th>playlist_adds</th><th>likes_ratio</th><th>dislikes_ratio</th><th>playlist_ratio</th><th>friend_ratio</th><th>addRoll_ratio</th></tr>\n",
       "<tr><td>100010</td><td>0</td><td>381</td><td>275</td><td>2018-09-27</td><td>2018-10-08</td><td>2018-11-21</td><td>Safari</td><td>iPhone</td><td>CT</td><td>1542823952000</td><td>7</td><td>52</td><td>4</td><td>154.5</td><td>270</td><td>253</td><td>17</td><td>5</td><td>7</td><td>0.06</td><td>0.02</td><td>0.03</td><td>0.01</td><td>0.19</td></tr>\n",
       "<tr><td>100014</td><td>1</td><td>310</td><td>257</td><td>2018-08-27</td><td>2018-10-10</td><td>2018-11-20</td><td>Safari</td><td>Windows</td><td>NY-NJ-PA</td><td>1542740649000</td><td>6</td><td>2</td><td>6</td><td>184.8</td><td>249</td><td>234</td><td>17</td><td>3</td><td>7</td><td>0.07</td><td>0.01</td><td>0.03</td><td>0.02</td><td>0.01</td></tr>\n",
       "<tr><td>100021</td><td>1</td><td>319</td><td>230</td><td>2018-09-21</td><td>2018-10-11</td><td>2018-11-25</td><td>Safari</td><td>Macintosh</td><td>TX</td><td>1543143782000</td><td>5</td><td>30</td><td>7</td><td>215.2</td><td>227</td><td>208</td><td>11</td><td>5</td><td>7</td><td>0.05</td><td>0.02</td><td>0.03</td><td>0.03</td><td>0.13</td></tr>\n",
       "<tr><td>101</td><td>1</td><td>2149</td><td>1797</td><td>2018-08-24</td><td>2018-10-01</td><td>2018-10-16</td><td>Firefox</td><td>Windows</td><td>CO</td><td>1539729037000</td><td>10</td><td>8</td><td>29</td><td>817.6</td><td>1609</td><td>1242</td><td>86</td><td>16</td><td>61</td><td>0.05</td><td>0.01</td><td>0.03</td><td>0.02</td><td>0.0</td></tr>\n",
       "<tr><td>11</td><td>0</td><td>848</td><td>647</td><td>2018-07-25</td><td>2018-10-05</td><td>2018-11-27</td><td>Gecko</td><td>Windows</td><td>RI-MA</td><td>1543309702000</td><td>16</td><td>39</td><td>6</td><td>161.4</td><td>617</td><td>535</td><td>40</td><td>9</td><td>20</td><td>0.06</td><td>0.01</td><td>0.03</td><td>0.01</td><td>0.06</td></tr>\n",
       "<tr><td>124</td><td>0</td><td>4825</td><td>4079</td><td>2018-07-22</td><td>2018-10-01</td><td>2018-11-30</td><td>Safari</td><td>Macintosh</td><td>NJ</td><td>1543590766000</td><td>29</td><td>4</td><td>74</td><td>579.0</td><td>3340</td><td>2233</td><td>171</td><td>41</td><td>118</td><td>0.04</td><td>0.01</td><td>0.03</td><td>0.02</td><td>0.0</td></tr>\n",
       "<tr><td>125</td><td>1</td><td>11</td><td>8</td><td>2018-08-01</td><td>2018-10-12</td><td>2018-10-12</td><td>Safari</td><td>Macintosh</td><td>TX</td><td>1539318918000</td><td>1</td><td>1</td><td>0</td><td>29.6</td><td>9</td><td>9</td><td>NULL</td><td>NULL</td><td>NULL</td><td>NULL</td><td>NULL</td><td>NULL</td><td>0.0</td><td>0.13</td></tr>\n",
       "<tr><td>132</td><td>0</td><td>2304</td><td>1928</td><td>2018-09-16</td><td>2018-10-02</td><td>2018-11-21</td><td>Safari</td><td>Macintosh</td><td>CO</td><td>1542833772000</td><td>16</td><td>2</td><td>41</td><td>499.0</td><td>1719</td><td>1300</td><td>96</td><td>17</td><td>38</td><td>0.05</td><td>0.01</td><td>0.02</td><td>0.02</td><td>0.0</td></tr>\n",
       "<tr><td>138</td><td>1</td><td>2469</td><td>2070</td><td>2018-09-25</td><td>2018-10-05</td><td>2018-11-30</td><td>Safari</td><td>iPad</td><td>NY-NJ-PA</td><td>1543622365000</td><td>15</td><td>17</td><td>41</td><td>564.2</td><td>1792</td><td>1333</td><td>95</td><td>24</td><td>67</td><td>0.05</td><td>0.01</td><td>0.03</td><td>0.02</td><td>0.01</td></tr>\n",
       "<tr><td>15</td><td>1</td><td>2278</td><td>1914</td><td>2018-09-29</td><td>2018-10-01</td><td>2018-11-25</td><td>Safari</td><td>Windows</td><td>WV</td><td>1543121818000</td><td>15</td><td>1</td><td>31</td><td>528.3</td><td>1708</td><td>1303</td><td>81</td><td>14</td><td>59</td><td>0.04</td><td>0.01</td><td>0.03</td><td>0.02</td><td>0.0</td></tr>\n",
       "<tr><td>154</td><td>0</td><td>118</td><td>84</td><td>2018-11-03</td><td>2018-11-02</td><td>2018-11-27</td><td>Safari</td><td>Windows</td><td>NY-NJ-PA</td><td>1543330565000</td><td>3</td><td>10</td><td>3</td><td>110.7</td><td>84</td><td>79</td><td>11</td><td>NULL</td><td>1</td><td>0.13</td><td>NULL</td><td>0.01</td><td>0.04</td><td>0.12</td></tr>\n",
       "<tr><td>155</td><td>0</td><td>1002</td><td>820</td><td>2018-11-04</td><td>2018-11-02</td><td>2018-11-28</td><td>Safari</td><td>Windows</td><td>MA-NH</td><td>1543405710000</td><td>6</td><td>8</td><td>11</td><td>548.6</td><td>760</td><td>644</td><td>58</td><td>3</td><td>24</td><td>0.07</td><td>0.0</td><td>0.03</td><td>0.01</td><td>0.01</td></tr>\n",
       "<tr><td>200002</td><td>1</td><td>474</td><td>387</td><td>2018-09-06</td><td>2018-10-01</td><td>2018-11-15</td><td>Safari</td><td>iPhone</td><td>IL-IN-WI</td><td>1542324354000</td><td>6</td><td>7</td><td>4</td><td>266.4</td><td>379</td><td>340</td><td>21</td><td>6</td><td>8</td><td>0.05</td><td>0.02</td><td>0.02</td><td>0.01</td><td>0.02</td></tr>\n",
       "<tr><td>29</td><td>1</td><td>3603</td><td>3028</td><td>2018-09-15</td><td>2018-10-02</td><td>2018-11-14</td><td>Safari</td><td>Macintosh</td><td>CA</td><td>1542181031000</td><td>34</td><td>22</td><td>47</td><td>365.8</td><td>2563</td><td>1805</td><td>154</td><td>22</td><td>89</td><td>0.05</td><td>0.01</td><td>0.03</td><td>0.02</td><td>0.01</td></tr>\n",
       "<tr><td>300017</td><td>0</td><td>4428</td><td>3632</td><td>2018-09-16</td><td>2018-10-01</td><td>2018-11-29</td><td>Safari</td><td>Macintosh</td><td>MI</td><td>1543507087000</td><td>63</td><td>11</td><td>63</td><td>233.3</td><td>3014</td><td>2071</td><td>303</td><td>28</td><td>113</td><td>0.08</td><td>0.01</td><td>0.03</td><td>0.02</td><td>0.0</td></tr>\n",
       "<tr><td>51</td><td>1</td><td>2464</td><td>2111</td><td>2018-09-27</td><td>2018-10-01</td><td>2018-10-17</td><td>Safari</td><td>Windows</td><td>KY</td><td>1539761972000</td><td>10</td><td>0</td><td>28</td><td>872.4</td><td>1855</td><td>1386</td><td>100</td><td>21</td><td>52</td><td>0.05</td><td>0.01</td><td>0.02</td><td>0.01</td><td>0.0</td></tr>\n",
       "<tr><td>54</td><td>0</td><td>3437</td><td>2841</td><td>2018-07-25</td><td>2018-10-01</td><td>2018-11-12</td><td>Firefox</td><td>Windows</td><td>WA</td><td>1542051608000</td><td>37</td><td>47</td><td>33</td><td>322.3</td><td>2415</td><td>1745</td><td>163</td><td>29</td><td>72</td><td>0.06</td><td>0.01</td><td>0.03</td><td>0.01</td><td>0.02</td></tr>\n",
       "<tr><td>69</td><td>0</td><td>1342</td><td>1125</td><td>2018-09-13</td><td>2018-10-03</td><td>2018-11-23</td><td>Safari</td><td>Windows</td><td>WI</td><td>1542995231000</td><td>9</td><td>3</td><td>12</td><td>526.7</td><td>1037</td><td>866</td><td>72</td><td>9</td><td>33</td><td>0.06</td><td>0.01</td><td>0.03</td><td>0.01</td><td>0.0</td></tr>\n",
       "<tr><td>7</td><td>1</td><td>201</td><td>150</td><td>2018-09-11</td><td>2018-10-03</td><td>2018-11-23</td><td>Firefox</td><td>Windows</td><td>WA</td><td>1542955611000</td><td>7</td><td>16</td><td>1</td><td>87.6</td><td>149</td><td>143</td><td>7</td><td>1</td><td>5</td><td>0.05</td><td>0.01</td><td>0.03</td><td>0.01</td><td>0.11</td></tr>\n",
       "<tr><td>100008</td><td>0</td><td>940</td><td>772</td><td>2018-09-20</td><td>2018-10-09</td><td>2018-11-27</td><td>Firefox</td><td>Macintosh</td><td>CA</td><td>1543335219000</td><td>6</td><td>20</td><td>17</td><td>528.3</td><td>724</td><td>624</td><td>37</td><td>6</td><td>30</td><td>0.05</td><td>0.01</td><td>0.04</td><td>0.02</td><td>0.03</td></tr>\n",
       "</table>\n",
       "only showing top 20 rows\n"
      ],
      "text/plain": [
       "+------+------+------------+-----------+----------+----------+----------+-------+---------+--------+-------------+--------------+--------+----------+----------------+------------+--------------+-----+--------+-------------+-----------+--------------+--------------+------------+-------------+\n",
       "|userId|gender|total_events|total_songs|    reg_dt|    min_dt|    max_dt|browser|   device|   state|     max_unix|total_sessions|roll_ads|add_friend|avg_session_mins|unique_songs|unique_artists|likes|dislikes|playlist_adds|likes_ratio|dislikes_ratio|playlist_ratio|friend_ratio|addRoll_ratio|\n",
       "+------+------+------------+-----------+----------+----------+----------+-------+---------+--------+-------------+--------------+--------+----------+----------------+------------+--------------+-----+--------+-------------+-----------+--------------+--------------+------------+-------------+\n",
       "|100010|     0|         381|        275|2018-09-27|2018-10-08|2018-11-21| Safari|   iPhone|      CT|1542823952000|             7|      52|         4|           154.5|         270|           253|   17|       5|            7|       0.06|          0.02|          0.03|        0.01|         0.19|\n",
       "|100014|     1|         310|        257|2018-08-27|2018-10-10|2018-11-20| Safari|  Windows|NY-NJ-PA|1542740649000|             6|       2|         6|           184.8|         249|           234|   17|       3|            7|       0.07|          0.01|          0.03|        0.02|         0.01|\n",
       "|100021|     1|         319|        230|2018-09-21|2018-10-11|2018-11-25| Safari|Macintosh|      TX|1543143782000|             5|      30|         7|           215.2|         227|           208|   11|       5|            7|       0.05|          0.02|          0.03|        0.03|         0.13|\n",
       "|   101|     1|        2149|       1797|2018-08-24|2018-10-01|2018-10-16|Firefox|  Windows|      CO|1539729037000|            10|       8|        29|           817.6|        1609|          1242|   86|      16|           61|       0.05|          0.01|          0.03|        0.02|          0.0|\n",
       "|    11|     0|         848|        647|2018-07-25|2018-10-05|2018-11-27|  Gecko|  Windows|   RI-MA|1543309702000|            16|      39|         6|           161.4|         617|           535|   40|       9|           20|       0.06|          0.01|          0.03|        0.01|         0.06|\n",
       "|   124|     0|        4825|       4079|2018-07-22|2018-10-01|2018-11-30| Safari|Macintosh|      NJ|1543590766000|            29|       4|        74|           579.0|        3340|          2233|  171|      41|          118|       0.04|          0.01|          0.03|        0.02|          0.0|\n",
       "|   125|     1|          11|          8|2018-08-01|2018-10-12|2018-10-12| Safari|Macintosh|      TX|1539318918000|             1|       1|         0|            29.6|           9|             9| NULL|    NULL|         NULL|       NULL|          NULL|          NULL|         0.0|         0.13|\n",
       "|   132|     0|        2304|       1928|2018-09-16|2018-10-02|2018-11-21| Safari|Macintosh|      CO|1542833772000|            16|       2|        41|           499.0|        1719|          1300|   96|      17|           38|       0.05|          0.01|          0.02|        0.02|          0.0|\n",
       "|   138|     1|        2469|       2070|2018-09-25|2018-10-05|2018-11-30| Safari|     iPad|NY-NJ-PA|1543622365000|            15|      17|        41|           564.2|        1792|          1333|   95|      24|           67|       0.05|          0.01|          0.03|        0.02|         0.01|\n",
       "|    15|     1|        2278|       1914|2018-09-29|2018-10-01|2018-11-25| Safari|  Windows|      WV|1543121818000|            15|       1|        31|           528.3|        1708|          1303|   81|      14|           59|       0.04|          0.01|          0.03|        0.02|          0.0|\n",
       "|   154|     0|         118|         84|2018-11-03|2018-11-02|2018-11-27| Safari|  Windows|NY-NJ-PA|1543330565000|             3|      10|         3|           110.7|          84|            79|   11|    NULL|            1|       0.13|          NULL|          0.01|        0.04|         0.12|\n",
       "|   155|     0|        1002|        820|2018-11-04|2018-11-02|2018-11-28| Safari|  Windows|   MA-NH|1543405710000|             6|       8|        11|           548.6|         760|           644|   58|       3|           24|       0.07|           0.0|          0.03|        0.01|         0.01|\n",
       "|200002|     1|         474|        387|2018-09-06|2018-10-01|2018-11-15| Safari|   iPhone|IL-IN-WI|1542324354000|             6|       7|         4|           266.4|         379|           340|   21|       6|            8|       0.05|          0.02|          0.02|        0.01|         0.02|\n",
       "|    29|     1|        3603|       3028|2018-09-15|2018-10-02|2018-11-14| Safari|Macintosh|      CA|1542181031000|            34|      22|        47|           365.8|        2563|          1805|  154|      22|           89|       0.05|          0.01|          0.03|        0.02|         0.01|\n",
       "|300017|     0|        4428|       3632|2018-09-16|2018-10-01|2018-11-29| Safari|Macintosh|      MI|1543507087000|            63|      11|        63|           233.3|        3014|          2071|  303|      28|          113|       0.08|          0.01|          0.03|        0.02|          0.0|\n",
       "|    51|     1|        2464|       2111|2018-09-27|2018-10-01|2018-10-17| Safari|  Windows|      KY|1539761972000|            10|       0|        28|           872.4|        1855|          1386|  100|      21|           52|       0.05|          0.01|          0.02|        0.01|          0.0|\n",
       "|    54|     0|        3437|       2841|2018-07-25|2018-10-01|2018-11-12|Firefox|  Windows|      WA|1542051608000|            37|      47|        33|           322.3|        2415|          1745|  163|      29|           72|       0.06|          0.01|          0.03|        0.01|         0.02|\n",
       "|    69|     0|        1342|       1125|2018-09-13|2018-10-03|2018-11-23| Safari|  Windows|      WI|1542995231000|             9|       3|        12|           526.7|        1037|           866|   72|       9|           33|       0.06|          0.01|          0.03|        0.01|          0.0|\n",
       "|     7|     1|         201|        150|2018-09-11|2018-10-03|2018-11-23|Firefox|  Windows|      WA|1542955611000|             7|      16|         1|            87.6|         149|           143|    7|       1|            5|       0.05|          0.01|          0.03|        0.01|         0.11|\n",
       "|100008|     0|         940|        772|2018-09-20|2018-10-09|2018-11-27|Firefox|Macintosh|      CA|1543335219000|             6|      20|        17|           528.3|         724|           624|   37|       6|           30|       0.05|          0.01|          0.04|        0.02|         0.03|\n",
       "+------+------+------------+-----------+----------+----------+----------+-------+---------+--------+-------------+--------------+--------+----------+----------------+------------+--------------+-----+--------+-------------+-----------+--------------+--------------+------------+-------------+\n",
       "only showing top 20 rows"
      ]
     },
     "execution_count": 44,
     "metadata": {},
     "output_type": "execute_result"
    }
   ],
   "source": [
    "user_log = user_log\\\n",
    "    .withColumn('likes_ratio', F.round(user_log.likes/user_log.total_songs, 2))\\\n",
    "    .withColumn('dislikes_ratio', F.round(user_log.dislikes/user_log.total_songs, 2))\\\n",
    "    .withColumn('playlist_ratio', F.round(user_log.playlist_adds/user_log.total_songs, 2))\\\n",
    "    .withColumn('friend_ratio', F.round(user_log.add_friend/user_log.total_songs, 2))\\\n",
    "    .withColumn('addRoll_ratio', F.round(user_log.roll_ads/user_log.total_songs, 2))\n",
    "user_log"
   ]
  },
  {
   "cell_type": "markdown",
   "id": "427558d2",
   "metadata": {},
   "source": [
    "### 2.8 Feature: churn flag and tenure"
   ]
  },
  {
   "cell_type": "code",
   "execution_count": 45,
   "id": "f65e2708",
   "metadata": {
    "ExecuteTime": {
     "end_time": "2023-11-13T21:13:08.903761Z",
     "start_time": "2023-11-13T21:13:08.724457Z"
    }
   },
   "outputs": [
    {
     "data": {
      "text/plain": [
       "['18',\n",
       " '32',\n",
       " '125',\n",
       " '51',\n",
       " '101',\n",
       " '87',\n",
       " '17',\n",
       " '122',\n",
       " '143',\n",
       " '105',\n",
       " '121',\n",
       " '12',\n",
       " '129',\n",
       " '73',\n",
       " '3',\n",
       " '58',\n",
       " '28',\n",
       " '103',\n",
       " '106',\n",
       " '54',\n",
       " '29',\n",
       " '70',\n",
       " '53',\n",
       " '100025',\n",
       " '100006',\n",
       " '100005',\n",
       " '100009',\n",
       " '100003',\n",
       " '100024',\n",
       " '100011',\n",
       " '100019',\n",
       " '100023',\n",
       " '100017',\n",
       " '100001',\n",
       " '100014',\n",
       " '100021',\n",
       " '100022',\n",
       " '300007',\n",
       " '100007',\n",
       " '100015',\n",
       " '200024',\n",
       " '200017',\n",
       " '100012',\n",
       " '200018',\n",
       " '200016',\n",
       " '200020',\n",
       " '200001',\n",
       " '200011',\n",
       " '100013',\n",
       " '200015',\n",
       " '200021',\n",
       " '300001']"
      ]
     },
     "execution_count": 45,
     "metadata": {},
     "output_type": "execute_result"
    }
   ],
   "source": [
    "hurned = event_log.filter(event_log.page == 'Cancellation Confirmation').\\\n",
    "            select('userID').dropDuplicates().rdd.flatMap(lambda x: x).collect()\n",
    "hurned"
   ]
  },
  {
   "cell_type": "code",
   "execution_count": 47,
   "id": "44f2d81f",
   "metadata": {
    "ExecuteTime": {
     "end_time": "2023-11-13T21:14:01.264606Z",
     "start_time": "2023-11-13T21:14:01.165656Z"
    }
   },
   "outputs": [],
   "source": [
    "user_log = user_log\\\n",
    ".withColumn('tenure',F.datediff(F.col(\"max_dt\"), F.col(\"reg_dt\")))\\\n",
    ".withColumn('churn_ind', F.when(F.col(\"userId\").isin(churned),1).otherwise(0))"
   ]
  },
  {
   "cell_type": "markdown",
   "id": "4853b5cc",
   "metadata": {},
   "source": [
    "### 2.9 Grouping and Summarizing Users Based on Churn Labels and gender\n"
   ]
  },
  {
   "cell_type": "code",
   "execution_count": 52,
   "id": "882fed26",
   "metadata": {
    "ExecuteTime": {
     "end_time": "2023-11-13T21:19:06.173628Z",
     "start_time": "2023-11-13T21:19:05.188134Z"
    }
   },
   "outputs": [
    {
     "name": "stdout",
     "output_type": "stream",
     "text": [
      "+---------+-----+\n",
      "|churn_ind|count|\n",
      "+---------+-----+\n",
      "|        0|  173|\n",
      "|        1|   52|\n",
      "+---------+-----+\n",
      "\n"
     ]
    }
   ],
   "source": [
    "user_log.groupBy(\"churn_ind\").count()\\\n",
    ".sort((\"count\"), ascending=False).show()"
   ]
  },
  {
   "cell_type": "code",
   "execution_count": 53,
   "id": "4c623fe5",
   "metadata": {
    "ExecuteTime": {
     "end_time": "2023-11-13T21:19:10.008649Z",
     "start_time": "2023-11-13T21:19:09.232082Z"
    }
   },
   "outputs": [
    {
     "name": "stdout",
     "output_type": "stream",
     "text": [
      "+------+-----+\n",
      "|gender|count|\n",
      "+------+-----+\n",
      "|     1|  121|\n",
      "|     0|  104|\n",
      "+------+-----+\n",
      "\n"
     ]
    }
   ],
   "source": [
    "user_log.groupBy(\"gender\").count()\\\n",
    ".sort((\"count\"), ascending=False).show()"
   ]
  },
  {
   "cell_type": "markdown",
   "id": "39ca90bf",
   "metadata": {},
   "source": [
    "### 2.10 Feature: latest User Level "
   ]
  },
  {
   "cell_type": "code",
   "execution_count": 54,
   "id": "a482a141",
   "metadata": {
    "ExecuteTime": {
     "end_time": "2023-11-13T21:19:10.508780Z",
     "start_time": "2023-11-13T21:19:10.010349Z"
    }
   },
   "outputs": [
    {
     "data": {
      "text/html": [
       "<table border='1'>\n",
       "<tr><th>userId</th><th>level</th><th>max_ts</th></tr>\n",
       "<tr><td>10</td><td>paid</td><td>1542631788000</td></tr>\n",
       "<tr><td>100</td><td>paid</td><td>1543587349000</td></tr>\n",
       "<tr><td>100</td><td>free</td><td>1542215545000</td></tr>\n",
       "<tr><td>100001</td><td>free</td><td>1538498205000</td></tr>\n",
       "<tr><td>100002</td><td>paid</td><td>1543799476000</td></tr>\n",
       "<tr><td>100003</td><td>free</td><td>1539274781000</td></tr>\n",
       "<tr><td>100004</td><td>paid</td><td>1543459065000</td></tr>\n",
       "<tr><td>100004</td><td>free</td><td>1543328769000</td></tr>\n",
       "<tr><td>100005</td><td>free</td><td>1539971825000</td></tr>\n",
       "<tr><td>100006</td><td>free</td><td>1538753070000</td></tr>\n",
       "<tr><td>100007</td><td>paid</td><td>1543491909000</td></tr>\n",
       "<tr><td>100008</td><td>paid</td><td>1542748901000</td></tr>\n",
       "<tr><td>100008</td><td>free</td><td>1543335219000</td></tr>\n",
       "<tr><td>100009</td><td>paid</td><td>1540126703000</td></tr>\n",
       "<tr><td>100009</td><td>free</td><td>1540611104000</td></tr>\n",
       "<tr><td>100010</td><td>free</td><td>1542823952000</td></tr>\n",
       "<tr><td>100011</td><td>free</td><td>1538417085000</td></tr>\n",
       "<tr><td>100012</td><td>paid</td><td>1539975063000</td></tr>\n",
       "<tr><td>100012</td><td>free</td><td>1541100900000</td></tr>\n",
       "<tr><td>100013</td><td>free</td><td>1538692188000</td></tr>\n",
       "</table>\n",
       "only showing top 20 rows\n"
      ],
      "text/plain": [
       "+------+-----+-------------+\n",
       "|userId|level|       max_ts|\n",
       "+------+-----+-------------+\n",
       "|    10| paid|1542631788000|\n",
       "|   100| paid|1543587349000|\n",
       "|   100| free|1542215545000|\n",
       "|100001| free|1538498205000|\n",
       "|100002| paid|1543799476000|\n",
       "|100003| free|1539274781000|\n",
       "|100004| paid|1543459065000|\n",
       "|100004| free|1543328769000|\n",
       "|100005| free|1539971825000|\n",
       "|100006| free|1538753070000|\n",
       "|100007| paid|1543491909000|\n",
       "|100008| paid|1542748901000|\n",
       "|100008| free|1543335219000|\n",
       "|100009| paid|1540126703000|\n",
       "|100009| free|1540611104000|\n",
       "|100010| free|1542823952000|\n",
       "|100011| free|1538417085000|\n",
       "|100012| paid|1539975063000|\n",
       "|100012| free|1541100900000|\n",
       "|100013| free|1538692188000|\n",
       "+------+-----+-------------+\n",
       "only showing top 20 rows"
      ]
     },
     "execution_count": 54,
     "metadata": {},
     "output_type": "execute_result"
    }
   ],
   "source": [
    "user_level = event_log.groupby('userId', 'level')\\\n",
    "            .agg(sparkMax(event_log.ts).alias('max_ts')).sort('userId')\n",
    "user_level"
   ]
  },
  {
   "cell_type": "code",
   "execution_count": 55,
   "id": "f626b459",
   "metadata": {
    "ExecuteTime": {
     "end_time": "2023-11-13T21:21:26.473092Z",
     "start_time": "2023-11-13T21:21:20.877017Z"
    },
    "scrolled": true
   },
   "outputs": [
    {
     "name": "stderr",
     "output_type": "stream",
     "text": [
      "                                                                                \r"
     ]
    },
    {
     "data": {
      "text/html": [
       "<table border='1'>\n",
       "<tr><th>userId</th><th>gender</th><th>total_events</th><th>total_songs</th><th>reg_dt</th><th>min_dt</th><th>max_dt</th><th>browser</th><th>device</th><th>state</th><th>max_unix</th><th>total_sessions</th><th>roll_ads</th><th>add_friend</th><th>avg_session_mins</th><th>unique_songs</th><th>unique_artists</th><th>likes</th><th>dislikes</th><th>playlist_adds</th><th>likes_ratio</th><th>dislikes_ratio</th><th>playlist_ratio</th><th>friend_ratio</th><th>addRoll_ratio</th><th>tenure</th><th>churn_ind</th><th>level</th></tr>\n",
       "<tr><td>100010</td><td>0</td><td>381</td><td>275</td><td>2018-09-27</td><td>2018-10-08</td><td>2018-11-21</td><td>Safari</td><td>iPhone</td><td>CT</td><td>1542823952000</td><td>7</td><td>52</td><td>4</td><td>154.5</td><td>270</td><td>253</td><td>17</td><td>5</td><td>7</td><td>0.06</td><td>0.02</td><td>0.03</td><td>0.01</td><td>0.19</td><td>55</td><td>0</td><td>free</td></tr>\n",
       "<tr><td>100014</td><td>1</td><td>310</td><td>257</td><td>2018-08-27</td><td>2018-10-10</td><td>2018-11-20</td><td>Safari</td><td>Windows</td><td>NY-NJ-PA</td><td>1542740649000</td><td>6</td><td>2</td><td>6</td><td>184.8</td><td>249</td><td>234</td><td>17</td><td>3</td><td>7</td><td>0.07</td><td>0.01</td><td>0.03</td><td>0.02</td><td>0.01</td><td>85</td><td>1</td><td>paid</td></tr>\n",
       "<tr><td>100021</td><td>1</td><td>319</td><td>230</td><td>2018-09-21</td><td>2018-10-11</td><td>2018-11-25</td><td>Safari</td><td>Macintosh</td><td>TX</td><td>1543143782000</td><td>5</td><td>30</td><td>7</td><td>215.2</td><td>227</td><td>208</td><td>11</td><td>5</td><td>7</td><td>0.05</td><td>0.02</td><td>0.03</td><td>0.03</td><td>0.13</td><td>65</td><td>1</td><td>free</td></tr>\n",
       "<tr><td>101</td><td>1</td><td>2149</td><td>1797</td><td>2018-08-24</td><td>2018-10-01</td><td>2018-10-16</td><td>Firefox</td><td>Windows</td><td>CO</td><td>1539729037000</td><td>10</td><td>8</td><td>29</td><td>817.6</td><td>1609</td><td>1242</td><td>86</td><td>16</td><td>61</td><td>0.05</td><td>0.01</td><td>0.03</td><td>0.02</td><td>0.0</td><td>53</td><td>1</td><td>paid</td></tr>\n",
       "<tr><td>11</td><td>0</td><td>848</td><td>647</td><td>2018-07-25</td><td>2018-10-05</td><td>2018-11-27</td><td>Gecko</td><td>Windows</td><td>RI-MA</td><td>1543309702000</td><td>16</td><td>39</td><td>6</td><td>161.4</td><td>617</td><td>535</td><td>40</td><td>9</td><td>20</td><td>0.06</td><td>0.01</td><td>0.03</td><td>0.01</td><td>0.06</td><td>125</td><td>0</td><td>paid</td></tr>\n",
       "<tr><td>124</td><td>0</td><td>4825</td><td>4079</td><td>2018-07-22</td><td>2018-10-01</td><td>2018-11-30</td><td>Safari</td><td>Macintosh</td><td>NJ</td><td>1543590766000</td><td>29</td><td>4</td><td>74</td><td>579.0</td><td>3340</td><td>2233</td><td>171</td><td>41</td><td>118</td><td>0.04</td><td>0.01</td><td>0.03</td><td>0.02</td><td>0.0</td><td>131</td><td>0</td><td>paid</td></tr>\n",
       "<tr><td>125</td><td>1</td><td>11</td><td>8</td><td>2018-08-01</td><td>2018-10-12</td><td>2018-10-12</td><td>Safari</td><td>Macintosh</td><td>TX</td><td>1539318918000</td><td>1</td><td>1</td><td>0</td><td>29.6</td><td>9</td><td>9</td><td>NULL</td><td>NULL</td><td>NULL</td><td>NULL</td><td>NULL</td><td>NULL</td><td>0.0</td><td>0.13</td><td>72</td><td>1</td><td>free</td></tr>\n",
       "<tr><td>132</td><td>0</td><td>2304</td><td>1928</td><td>2018-09-16</td><td>2018-10-02</td><td>2018-11-21</td><td>Safari</td><td>Macintosh</td><td>CO</td><td>1542833772000</td><td>16</td><td>2</td><td>41</td><td>499.0</td><td>1719</td><td>1300</td><td>96</td><td>17</td><td>38</td><td>0.05</td><td>0.01</td><td>0.02</td><td>0.02</td><td>0.0</td><td>66</td><td>0</td><td>paid</td></tr>\n",
       "<tr><td>138</td><td>1</td><td>2469</td><td>2070</td><td>2018-09-25</td><td>2018-10-05</td><td>2018-11-30</td><td>Safari</td><td>iPad</td><td>NY-NJ-PA</td><td>1543622365000</td><td>15</td><td>17</td><td>41</td><td>564.2</td><td>1792</td><td>1333</td><td>95</td><td>24</td><td>67</td><td>0.05</td><td>0.01</td><td>0.03</td><td>0.02</td><td>0.01</td><td>66</td><td>0</td><td>paid</td></tr>\n",
       "<tr><td>15</td><td>1</td><td>2278</td><td>1914</td><td>2018-09-29</td><td>2018-10-01</td><td>2018-11-25</td><td>Safari</td><td>Windows</td><td>WV</td><td>1543121818000</td><td>15</td><td>1</td><td>31</td><td>528.3</td><td>1708</td><td>1303</td><td>81</td><td>14</td><td>59</td><td>0.04</td><td>0.01</td><td>0.03</td><td>0.02</td><td>0.0</td><td>57</td><td>0</td><td>paid</td></tr>\n",
       "<tr><td>154</td><td>0</td><td>118</td><td>84</td><td>2018-11-03</td><td>2018-11-02</td><td>2018-11-27</td><td>Safari</td><td>Windows</td><td>NY-NJ-PA</td><td>1543330565000</td><td>3</td><td>10</td><td>3</td><td>110.7</td><td>84</td><td>79</td><td>11</td><td>NULL</td><td>1</td><td>0.13</td><td>NULL</td><td>0.01</td><td>0.04</td><td>0.12</td><td>24</td><td>0</td><td>free</td></tr>\n",
       "<tr><td>155</td><td>0</td><td>1002</td><td>820</td><td>2018-11-04</td><td>2018-11-02</td><td>2018-11-28</td><td>Safari</td><td>Windows</td><td>MA-NH</td><td>1543405710000</td><td>6</td><td>8</td><td>11</td><td>548.6</td><td>760</td><td>644</td><td>58</td><td>3</td><td>24</td><td>0.07</td><td>0.0</td><td>0.03</td><td>0.01</td><td>0.01</td><td>24</td><td>0</td><td>paid</td></tr>\n",
       "<tr><td>200002</td><td>1</td><td>474</td><td>387</td><td>2018-09-06</td><td>2018-10-01</td><td>2018-11-15</td><td>Safari</td><td>iPhone</td><td>IL-IN-WI</td><td>1542324354000</td><td>6</td><td>7</td><td>4</td><td>266.4</td><td>379</td><td>340</td><td>21</td><td>6</td><td>8</td><td>0.05</td><td>0.02</td><td>0.02</td><td>0.01</td><td>0.02</td><td>70</td><td>0</td><td>paid</td></tr>\n",
       "<tr><td>29</td><td>1</td><td>3603</td><td>3028</td><td>2018-09-15</td><td>2018-10-02</td><td>2018-11-14</td><td>Safari</td><td>Macintosh</td><td>CA</td><td>1542181031000</td><td>34</td><td>22</td><td>47</td><td>365.8</td><td>2563</td><td>1805</td><td>154</td><td>22</td><td>89</td><td>0.05</td><td>0.01</td><td>0.03</td><td>0.02</td><td>0.01</td><td>60</td><td>1</td><td>paid</td></tr>\n",
       "<tr><td>300017</td><td>0</td><td>4428</td><td>3632</td><td>2018-09-16</td><td>2018-10-01</td><td>2018-11-29</td><td>Safari</td><td>Macintosh</td><td>MI</td><td>1543507087000</td><td>63</td><td>11</td><td>63</td><td>233.3</td><td>3014</td><td>2071</td><td>303</td><td>28</td><td>113</td><td>0.08</td><td>0.01</td><td>0.03</td><td>0.02</td><td>0.0</td><td>74</td><td>0</td><td>paid</td></tr>\n",
       "<tr><td>51</td><td>1</td><td>2464</td><td>2111</td><td>2018-09-27</td><td>2018-10-01</td><td>2018-10-17</td><td>Safari</td><td>Windows</td><td>KY</td><td>1539761972000</td><td>10</td><td>0</td><td>28</td><td>872.4</td><td>1855</td><td>1386</td><td>100</td><td>21</td><td>52</td><td>0.05</td><td>0.01</td><td>0.02</td><td>0.01</td><td>0.0</td><td>20</td><td>1</td><td>paid</td></tr>\n",
       "<tr><td>54</td><td>0</td><td>3437</td><td>2841</td><td>2018-07-25</td><td>2018-10-01</td><td>2018-11-12</td><td>Firefox</td><td>Windows</td><td>WA</td><td>1542051608000</td><td>37</td><td>47</td><td>33</td><td>322.3</td><td>2415</td><td>1745</td><td>163</td><td>29</td><td>72</td><td>0.06</td><td>0.01</td><td>0.03</td><td>0.01</td><td>0.02</td><td>110</td><td>1</td><td>paid</td></tr>\n",
       "<tr><td>69</td><td>0</td><td>1342</td><td>1125</td><td>2018-09-13</td><td>2018-10-03</td><td>2018-11-23</td><td>Safari</td><td>Windows</td><td>WI</td><td>1542995231000</td><td>9</td><td>3</td><td>12</td><td>526.7</td><td>1037</td><td>866</td><td>72</td><td>9</td><td>33</td><td>0.06</td><td>0.01</td><td>0.03</td><td>0.01</td><td>0.0</td><td>71</td><td>0</td><td>paid</td></tr>\n",
       "<tr><td>7</td><td>1</td><td>201</td><td>150</td><td>2018-09-11</td><td>2018-10-03</td><td>2018-11-23</td><td>Firefox</td><td>Windows</td><td>WA</td><td>1542955611000</td><td>7</td><td>16</td><td>1</td><td>87.6</td><td>149</td><td>143</td><td>7</td><td>1</td><td>5</td><td>0.05</td><td>0.01</td><td>0.03</td><td>0.01</td><td>0.11</td><td>73</td><td>0</td><td>free</td></tr>\n",
       "<tr><td>100008</td><td>0</td><td>940</td><td>772</td><td>2018-09-20</td><td>2018-10-09</td><td>2018-11-27</td><td>Firefox</td><td>Macintosh</td><td>CA</td><td>1543335219000</td><td>6</td><td>20</td><td>17</td><td>528.3</td><td>724</td><td>624</td><td>37</td><td>6</td><td>30</td><td>0.05</td><td>0.01</td><td>0.04</td><td>0.02</td><td>0.03</td><td>68</td><td>0</td><td>free</td></tr>\n",
       "</table>\n",
       "only showing top 20 rows\n"
      ],
      "text/plain": [
       "+------+------+------------+-----------+----------+----------+----------+-------+---------+--------+-------------+--------------+--------+----------+----------------+------------+--------------+-----+--------+-------------+-----------+--------------+--------------+------------+-------------+------+---------+-----+\n",
       "|userId|gender|total_events|total_songs|    reg_dt|    min_dt|    max_dt|browser|   device|   state|     max_unix|total_sessions|roll_ads|add_friend|avg_session_mins|unique_songs|unique_artists|likes|dislikes|playlist_adds|likes_ratio|dislikes_ratio|playlist_ratio|friend_ratio|addRoll_ratio|tenure|churn_ind|level|\n",
       "+------+------+------------+-----------+----------+----------+----------+-------+---------+--------+-------------+--------------+--------+----------+----------------+------------+--------------+-----+--------+-------------+-----------+--------------+--------------+------------+-------------+------+---------+-----+\n",
       "|100010|     0|         381|        275|2018-09-27|2018-10-08|2018-11-21| Safari|   iPhone|      CT|1542823952000|             7|      52|         4|           154.5|         270|           253|   17|       5|            7|       0.06|          0.02|          0.03|        0.01|         0.19|    55|        0| free|\n",
       "|100014|     1|         310|        257|2018-08-27|2018-10-10|2018-11-20| Safari|  Windows|NY-NJ-PA|1542740649000|             6|       2|         6|           184.8|         249|           234|   17|       3|            7|       0.07|          0.01|          0.03|        0.02|         0.01|    85|        1| paid|\n",
       "|100021|     1|         319|        230|2018-09-21|2018-10-11|2018-11-25| Safari|Macintosh|      TX|1543143782000|             5|      30|         7|           215.2|         227|           208|   11|       5|            7|       0.05|          0.02|          0.03|        0.03|         0.13|    65|        1| free|\n",
       "|   101|     1|        2149|       1797|2018-08-24|2018-10-01|2018-10-16|Firefox|  Windows|      CO|1539729037000|            10|       8|        29|           817.6|        1609|          1242|   86|      16|           61|       0.05|          0.01|          0.03|        0.02|          0.0|    53|        1| paid|\n",
       "|    11|     0|         848|        647|2018-07-25|2018-10-05|2018-11-27|  Gecko|  Windows|   RI-MA|1543309702000|            16|      39|         6|           161.4|         617|           535|   40|       9|           20|       0.06|          0.01|          0.03|        0.01|         0.06|   125|        0| paid|\n",
       "|   124|     0|        4825|       4079|2018-07-22|2018-10-01|2018-11-30| Safari|Macintosh|      NJ|1543590766000|            29|       4|        74|           579.0|        3340|          2233|  171|      41|          118|       0.04|          0.01|          0.03|        0.02|          0.0|   131|        0| paid|\n",
       "|   125|     1|          11|          8|2018-08-01|2018-10-12|2018-10-12| Safari|Macintosh|      TX|1539318918000|             1|       1|         0|            29.6|           9|             9| NULL|    NULL|         NULL|       NULL|          NULL|          NULL|         0.0|         0.13|    72|        1| free|\n",
       "|   132|     0|        2304|       1928|2018-09-16|2018-10-02|2018-11-21| Safari|Macintosh|      CO|1542833772000|            16|       2|        41|           499.0|        1719|          1300|   96|      17|           38|       0.05|          0.01|          0.02|        0.02|          0.0|    66|        0| paid|\n",
       "|   138|     1|        2469|       2070|2018-09-25|2018-10-05|2018-11-30| Safari|     iPad|NY-NJ-PA|1543622365000|            15|      17|        41|           564.2|        1792|          1333|   95|      24|           67|       0.05|          0.01|          0.03|        0.02|         0.01|    66|        0| paid|\n",
       "|    15|     1|        2278|       1914|2018-09-29|2018-10-01|2018-11-25| Safari|  Windows|      WV|1543121818000|            15|       1|        31|           528.3|        1708|          1303|   81|      14|           59|       0.04|          0.01|          0.03|        0.02|          0.0|    57|        0| paid|\n",
       "|   154|     0|         118|         84|2018-11-03|2018-11-02|2018-11-27| Safari|  Windows|NY-NJ-PA|1543330565000|             3|      10|         3|           110.7|          84|            79|   11|    NULL|            1|       0.13|          NULL|          0.01|        0.04|         0.12|    24|        0| free|\n",
       "|   155|     0|        1002|        820|2018-11-04|2018-11-02|2018-11-28| Safari|  Windows|   MA-NH|1543405710000|             6|       8|        11|           548.6|         760|           644|   58|       3|           24|       0.07|           0.0|          0.03|        0.01|         0.01|    24|        0| paid|\n",
       "|200002|     1|         474|        387|2018-09-06|2018-10-01|2018-11-15| Safari|   iPhone|IL-IN-WI|1542324354000|             6|       7|         4|           266.4|         379|           340|   21|       6|            8|       0.05|          0.02|          0.02|        0.01|         0.02|    70|        0| paid|\n",
       "|    29|     1|        3603|       3028|2018-09-15|2018-10-02|2018-11-14| Safari|Macintosh|      CA|1542181031000|            34|      22|        47|           365.8|        2563|          1805|  154|      22|           89|       0.05|          0.01|          0.03|        0.02|         0.01|    60|        1| paid|\n",
       "|300017|     0|        4428|       3632|2018-09-16|2018-10-01|2018-11-29| Safari|Macintosh|      MI|1543507087000|            63|      11|        63|           233.3|        3014|          2071|  303|      28|          113|       0.08|          0.01|          0.03|        0.02|          0.0|    74|        0| paid|\n",
       "|    51|     1|        2464|       2111|2018-09-27|2018-10-01|2018-10-17| Safari|  Windows|      KY|1539761972000|            10|       0|        28|           872.4|        1855|          1386|  100|      21|           52|       0.05|          0.01|          0.02|        0.01|          0.0|    20|        1| paid|\n",
       "|    54|     0|        3437|       2841|2018-07-25|2018-10-01|2018-11-12|Firefox|  Windows|      WA|1542051608000|            37|      47|        33|           322.3|        2415|          1745|  163|      29|           72|       0.06|          0.01|          0.03|        0.01|         0.02|   110|        1| paid|\n",
       "|    69|     0|        1342|       1125|2018-09-13|2018-10-03|2018-11-23| Safari|  Windows|      WI|1542995231000|             9|       3|        12|           526.7|        1037|           866|   72|       9|           33|       0.06|          0.01|          0.03|        0.01|          0.0|    71|        0| paid|\n",
       "|     7|     1|         201|        150|2018-09-11|2018-10-03|2018-11-23|Firefox|  Windows|      WA|1542955611000|             7|      16|         1|            87.6|         149|           143|    7|       1|            5|       0.05|          0.01|          0.03|        0.01|         0.11|    73|        0| free|\n",
       "|100008|     0|         940|        772|2018-09-20|2018-10-09|2018-11-27|Firefox|Macintosh|      CA|1543335219000|             6|      20|        17|           528.3|         724|           624|   37|       6|           30|       0.05|          0.01|          0.04|        0.02|         0.03|    68|        0| free|\n",
       "+------+------+------------+-----------+----------+----------+----------+-------+---------+--------+-------------+--------------+--------+----------+----------------+------------+--------------+-----+--------+-------------+-----------+--------------+--------------+------------+-------------+------+---------+-----+\n",
       "only showing top 20 rows"
      ]
     },
     "execution_count": 55,
     "metadata": {},
     "output_type": "execute_result"
    }
   ],
   "source": [
    "user_log = user_log.join(user_level, [user_log.userId == user_level.userId,\n",
    "                                      user_log.max_unix == user_level.max_ts],\\\n",
    "                                         how = \"left\").select(user_log['*'], \"level\")\n",
    "user_log"
   ]
  },
  {
   "cell_type": "markdown",
   "id": "b71dc408",
   "metadata": {},
   "source": [
    "## 3 Removing Redundant Columns"
   ]
  },
  {
   "cell_type": "code",
   "execution_count": 57,
   "id": "2b9d6099",
   "metadata": {
    "ExecuteTime": {
     "end_time": "2023-11-13T21:27:14.381444Z",
     "start_time": "2023-11-13T21:27:11.685221Z"
    }
   },
   "outputs": [
    {
     "name": "stderr",
     "output_type": "stream",
     "text": [
      "                                                                                \r"
     ]
    },
    {
     "name": "stdout",
     "output_type": "stream",
     "text": [
      "-RECORD 0---------------------\n",
      " userId           | 100010    \n",
      " gender           | 0         \n",
      " total_events     | 381       \n",
      " total_songs      | 275       \n",
      " browser          | Safari    \n",
      " device           | iPhone    \n",
      " state            | CT        \n",
      " total_sessions   | 7         \n",
      " avg_session_mins | 154.5     \n",
      " unique_songs     | 270       \n",
      " unique_artists   | 253       \n",
      " likes_ratio      | 0.06      \n",
      " dislikes_ratio   | 0.02      \n",
      " playlist_ratio   | 0.03      \n",
      " friend_ratio     | 0.01      \n",
      " addRoll_ratio    | 0.19      \n",
      " tenure           | 55        \n",
      " churn_ind        | 0         \n",
      " level            | free      \n",
      "-RECORD 1---------------------\n",
      " userId           | 100014    \n",
      " gender           | 1         \n",
      " total_events     | 310       \n",
      " total_songs      | 257       \n",
      " browser          | Safari    \n",
      " device           | Windows   \n",
      " state            | NY-NJ-PA  \n",
      " total_sessions   | 6         \n",
      " avg_session_mins | 184.8     \n",
      " unique_songs     | 249       \n",
      " unique_artists   | 234       \n",
      " likes_ratio      | 0.07      \n",
      " dislikes_ratio   | 0.01      \n",
      " playlist_ratio   | 0.03      \n",
      " friend_ratio     | 0.02      \n",
      " addRoll_ratio    | 0.01      \n",
      " tenure           | 85        \n",
      " churn_ind        | 1         \n",
      " level            | paid      \n",
      "-RECORD 2---------------------\n",
      " userId           | 100021    \n",
      " gender           | 1         \n",
      " total_events     | 319       \n",
      " total_songs      | 230       \n",
      " browser          | Safari    \n",
      " device           | Macintosh \n",
      " state            | TX        \n",
      " total_sessions   | 5         \n",
      " avg_session_mins | 215.2     \n",
      " unique_songs     | 227       \n",
      " unique_artists   | 208       \n",
      " likes_ratio      | 0.05      \n",
      " dislikes_ratio   | 0.02      \n",
      " playlist_ratio   | 0.03      \n",
      " friend_ratio     | 0.03      \n",
      " addRoll_ratio    | 0.13      \n",
      " tenure           | 65        \n",
      " churn_ind        | 1         \n",
      " level            | free      \n",
      "-RECORD 3---------------------\n",
      " userId           | 101       \n",
      " gender           | 1         \n",
      " total_events     | 2149      \n",
      " total_songs      | 1797      \n",
      " browser          | Firefox   \n",
      " device           | Windows   \n",
      " state            | CO        \n",
      " total_sessions   | 10        \n",
      " avg_session_mins | 817.6     \n",
      " unique_songs     | 1609      \n",
      " unique_artists   | 1242      \n",
      " likes_ratio      | 0.05      \n",
      " dislikes_ratio   | 0.01      \n",
      " playlist_ratio   | 0.03      \n",
      " friend_ratio     | 0.02      \n",
      " addRoll_ratio    | 0.0       \n",
      " tenure           | 53        \n",
      " churn_ind        | 1         \n",
      " level            | paid      \n",
      "-RECORD 4---------------------\n",
      " userId           | 11        \n",
      " gender           | 0         \n",
      " total_events     | 848       \n",
      " total_songs      | 647       \n",
      " browser          | Gecko     \n",
      " device           | Windows   \n",
      " state            | RI-MA     \n",
      " total_sessions   | 16        \n",
      " avg_session_mins | 161.4     \n",
      " unique_songs     | 617       \n",
      " unique_artists   | 535       \n",
      " likes_ratio      | 0.06      \n",
      " dislikes_ratio   | 0.01      \n",
      " playlist_ratio   | 0.03      \n",
      " friend_ratio     | 0.01      \n",
      " addRoll_ratio    | 0.06      \n",
      " tenure           | 125       \n",
      " churn_ind        | 0         \n",
      " level            | paid      \n",
      "only showing top 5 rows\n",
      "\n"
     ]
    }
   ],
   "source": [
    "cols = (\"min_dt\", \"reg_dt\", \"max_dt\", \"max_unix\", \"likes\", \"dislikes\",\n",
    "        \"playlist_adds\", \"roll_ads\", \"add_friend\")\n",
    "\n",
    "user_log = user_log.drop(*cols)\n",
    "user_log.show(5, truncate=False, vertical=True)"
   ]
  },
  {
   "cell_type": "markdown",
   "id": "982106ed",
   "metadata": {},
   "source": [
    "## 4 Check shape and cache df"
   ]
  },
  {
   "cell_type": "code",
   "execution_count": 58,
   "id": "7d8db01e",
   "metadata": {
    "ExecuteTime": {
     "end_time": "2023-11-13T21:28:00.941416Z",
     "start_time": "2023-11-13T21:27:59.723765Z"
    }
   },
   "outputs": [
    {
     "name": "stderr",
     "output_type": "stream",
     "text": [
      "                                                                                \r"
     ]
    },
    {
     "data": {
      "text/plain": [
       "(225, 19)"
      ]
     },
     "execution_count": 58,
     "metadata": {},
     "output_type": "execute_result"
    }
   ],
   "source": [
    "shape(user_log)"
   ]
  },
  {
   "cell_type": "code",
   "execution_count": 59,
   "id": "0ab77ad0",
   "metadata": {
    "ExecuteTime": {
     "end_time": "2023-11-13T21:29:43.780395Z",
     "start_time": "2023-11-13T21:29:40.592078Z"
    }
   },
   "outputs": [
    {
     "name": "stderr",
     "output_type": "stream",
     "text": [
      "                                                                                \r"
     ]
    },
    {
     "data": {
      "text/html": [
       "<table border='1'>\n",
       "<tr><th>userId</th><th>gender</th><th>total_events</th><th>total_songs</th><th>browser</th><th>device</th><th>state</th><th>total_sessions</th><th>avg_session_mins</th><th>unique_songs</th><th>unique_artists</th><th>likes_ratio</th><th>dislikes_ratio</th><th>playlist_ratio</th><th>friend_ratio</th><th>addRoll_ratio</th><th>tenure</th><th>churn_ind</th><th>level</th></tr>\n",
       "<tr><td>100010</td><td>0</td><td>381</td><td>275</td><td>Safari</td><td>iPhone</td><td>CT</td><td>7</td><td>154.5</td><td>270</td><td>253</td><td>0.06</td><td>0.02</td><td>0.03</td><td>0.01</td><td>0.19</td><td>55</td><td>0</td><td>free</td></tr>\n",
       "<tr><td>100014</td><td>1</td><td>310</td><td>257</td><td>Safari</td><td>Windows</td><td>NY-NJ-PA</td><td>6</td><td>184.8</td><td>249</td><td>234</td><td>0.07</td><td>0.01</td><td>0.03</td><td>0.02</td><td>0.01</td><td>85</td><td>1</td><td>paid</td></tr>\n",
       "<tr><td>100021</td><td>1</td><td>319</td><td>230</td><td>Safari</td><td>Macintosh</td><td>TX</td><td>5</td><td>215.2</td><td>227</td><td>208</td><td>0.05</td><td>0.02</td><td>0.03</td><td>0.03</td><td>0.13</td><td>65</td><td>1</td><td>free</td></tr>\n",
       "<tr><td>101</td><td>1</td><td>2149</td><td>1797</td><td>Firefox</td><td>Windows</td><td>CO</td><td>10</td><td>817.6</td><td>1609</td><td>1242</td><td>0.05</td><td>0.01</td><td>0.03</td><td>0.02</td><td>0.0</td><td>53</td><td>1</td><td>paid</td></tr>\n",
       "<tr><td>11</td><td>0</td><td>848</td><td>647</td><td>Gecko</td><td>Windows</td><td>RI-MA</td><td>16</td><td>161.4</td><td>617</td><td>535</td><td>0.06</td><td>0.01</td><td>0.03</td><td>0.01</td><td>0.06</td><td>125</td><td>0</td><td>paid</td></tr>\n",
       "<tr><td>124</td><td>0</td><td>4825</td><td>4079</td><td>Safari</td><td>Macintosh</td><td>NJ</td><td>29</td><td>579.0</td><td>3340</td><td>2233</td><td>0.04</td><td>0.01</td><td>0.03</td><td>0.02</td><td>0.0</td><td>131</td><td>0</td><td>paid</td></tr>\n",
       "<tr><td>125</td><td>1</td><td>11</td><td>8</td><td>Safari</td><td>Macintosh</td><td>TX</td><td>1</td><td>29.6</td><td>9</td><td>9</td><td>NULL</td><td>NULL</td><td>NULL</td><td>0.0</td><td>0.13</td><td>72</td><td>1</td><td>free</td></tr>\n",
       "<tr><td>132</td><td>0</td><td>2304</td><td>1928</td><td>Safari</td><td>Macintosh</td><td>CO</td><td>16</td><td>499.0</td><td>1719</td><td>1300</td><td>0.05</td><td>0.01</td><td>0.02</td><td>0.02</td><td>0.0</td><td>66</td><td>0</td><td>paid</td></tr>\n",
       "<tr><td>138</td><td>1</td><td>2469</td><td>2070</td><td>Safari</td><td>iPad</td><td>NY-NJ-PA</td><td>15</td><td>564.2</td><td>1792</td><td>1333</td><td>0.05</td><td>0.01</td><td>0.03</td><td>0.02</td><td>0.01</td><td>66</td><td>0</td><td>paid</td></tr>\n",
       "<tr><td>15</td><td>1</td><td>2278</td><td>1914</td><td>Safari</td><td>Windows</td><td>WV</td><td>15</td><td>528.3</td><td>1708</td><td>1303</td><td>0.04</td><td>0.01</td><td>0.03</td><td>0.02</td><td>0.0</td><td>57</td><td>0</td><td>paid</td></tr>\n",
       "<tr><td>154</td><td>0</td><td>118</td><td>84</td><td>Safari</td><td>Windows</td><td>NY-NJ-PA</td><td>3</td><td>110.7</td><td>84</td><td>79</td><td>0.13</td><td>NULL</td><td>0.01</td><td>0.04</td><td>0.12</td><td>24</td><td>0</td><td>free</td></tr>\n",
       "<tr><td>155</td><td>0</td><td>1002</td><td>820</td><td>Safari</td><td>Windows</td><td>MA-NH</td><td>6</td><td>548.6</td><td>760</td><td>644</td><td>0.07</td><td>0.0</td><td>0.03</td><td>0.01</td><td>0.01</td><td>24</td><td>0</td><td>paid</td></tr>\n",
       "<tr><td>200002</td><td>1</td><td>474</td><td>387</td><td>Safari</td><td>iPhone</td><td>IL-IN-WI</td><td>6</td><td>266.4</td><td>379</td><td>340</td><td>0.05</td><td>0.02</td><td>0.02</td><td>0.01</td><td>0.02</td><td>70</td><td>0</td><td>paid</td></tr>\n",
       "<tr><td>29</td><td>1</td><td>3603</td><td>3028</td><td>Safari</td><td>Macintosh</td><td>CA</td><td>34</td><td>365.8</td><td>2563</td><td>1805</td><td>0.05</td><td>0.01</td><td>0.03</td><td>0.02</td><td>0.01</td><td>60</td><td>1</td><td>paid</td></tr>\n",
       "<tr><td>300017</td><td>0</td><td>4428</td><td>3632</td><td>Safari</td><td>Macintosh</td><td>MI</td><td>63</td><td>233.3</td><td>3014</td><td>2071</td><td>0.08</td><td>0.01</td><td>0.03</td><td>0.02</td><td>0.0</td><td>74</td><td>0</td><td>paid</td></tr>\n",
       "<tr><td>51</td><td>1</td><td>2464</td><td>2111</td><td>Safari</td><td>Windows</td><td>KY</td><td>10</td><td>872.4</td><td>1855</td><td>1386</td><td>0.05</td><td>0.01</td><td>0.02</td><td>0.01</td><td>0.0</td><td>20</td><td>1</td><td>paid</td></tr>\n",
       "<tr><td>54</td><td>0</td><td>3437</td><td>2841</td><td>Firefox</td><td>Windows</td><td>WA</td><td>37</td><td>322.3</td><td>2415</td><td>1745</td><td>0.06</td><td>0.01</td><td>0.03</td><td>0.01</td><td>0.02</td><td>110</td><td>1</td><td>paid</td></tr>\n",
       "<tr><td>69</td><td>0</td><td>1342</td><td>1125</td><td>Safari</td><td>Windows</td><td>WI</td><td>9</td><td>526.7</td><td>1037</td><td>866</td><td>0.06</td><td>0.01</td><td>0.03</td><td>0.01</td><td>0.0</td><td>71</td><td>0</td><td>paid</td></tr>\n",
       "<tr><td>7</td><td>1</td><td>201</td><td>150</td><td>Firefox</td><td>Windows</td><td>WA</td><td>7</td><td>87.6</td><td>149</td><td>143</td><td>0.05</td><td>0.01</td><td>0.03</td><td>0.01</td><td>0.11</td><td>73</td><td>0</td><td>free</td></tr>\n",
       "<tr><td>100008</td><td>0</td><td>940</td><td>772</td><td>Firefox</td><td>Macintosh</td><td>CA</td><td>6</td><td>528.3</td><td>724</td><td>624</td><td>0.05</td><td>0.01</td><td>0.04</td><td>0.02</td><td>0.03</td><td>68</td><td>0</td><td>free</td></tr>\n",
       "</table>\n",
       "only showing top 20 rows\n"
      ],
      "text/plain": [
       "+------+------+------------+-----------+-------+---------+--------+--------------+----------------+------------+--------------+-----------+--------------+--------------+------------+-------------+------+---------+-----+\n",
       "|userId|gender|total_events|total_songs|browser|   device|   state|total_sessions|avg_session_mins|unique_songs|unique_artists|likes_ratio|dislikes_ratio|playlist_ratio|friend_ratio|addRoll_ratio|tenure|churn_ind|level|\n",
       "+------+------+------------+-----------+-------+---------+--------+--------------+----------------+------------+--------------+-----------+--------------+--------------+------------+-------------+------+---------+-----+\n",
       "|100010|     0|         381|        275| Safari|   iPhone|      CT|             7|           154.5|         270|           253|       0.06|          0.02|          0.03|        0.01|         0.19|    55|        0| free|\n",
       "|100014|     1|         310|        257| Safari|  Windows|NY-NJ-PA|             6|           184.8|         249|           234|       0.07|          0.01|          0.03|        0.02|         0.01|    85|        1| paid|\n",
       "|100021|     1|         319|        230| Safari|Macintosh|      TX|             5|           215.2|         227|           208|       0.05|          0.02|          0.03|        0.03|         0.13|    65|        1| free|\n",
       "|   101|     1|        2149|       1797|Firefox|  Windows|      CO|            10|           817.6|        1609|          1242|       0.05|          0.01|          0.03|        0.02|          0.0|    53|        1| paid|\n",
       "|    11|     0|         848|        647|  Gecko|  Windows|   RI-MA|            16|           161.4|         617|           535|       0.06|          0.01|          0.03|        0.01|         0.06|   125|        0| paid|\n",
       "|   124|     0|        4825|       4079| Safari|Macintosh|      NJ|            29|           579.0|        3340|          2233|       0.04|          0.01|          0.03|        0.02|          0.0|   131|        0| paid|\n",
       "|   125|     1|          11|          8| Safari|Macintosh|      TX|             1|            29.6|           9|             9|       NULL|          NULL|          NULL|         0.0|         0.13|    72|        1| free|\n",
       "|   132|     0|        2304|       1928| Safari|Macintosh|      CO|            16|           499.0|        1719|          1300|       0.05|          0.01|          0.02|        0.02|          0.0|    66|        0| paid|\n",
       "|   138|     1|        2469|       2070| Safari|     iPad|NY-NJ-PA|            15|           564.2|        1792|          1333|       0.05|          0.01|          0.03|        0.02|         0.01|    66|        0| paid|\n",
       "|    15|     1|        2278|       1914| Safari|  Windows|      WV|            15|           528.3|        1708|          1303|       0.04|          0.01|          0.03|        0.02|          0.0|    57|        0| paid|\n",
       "|   154|     0|         118|         84| Safari|  Windows|NY-NJ-PA|             3|           110.7|          84|            79|       0.13|          NULL|          0.01|        0.04|         0.12|    24|        0| free|\n",
       "|   155|     0|        1002|        820| Safari|  Windows|   MA-NH|             6|           548.6|         760|           644|       0.07|           0.0|          0.03|        0.01|         0.01|    24|        0| paid|\n",
       "|200002|     1|         474|        387| Safari|   iPhone|IL-IN-WI|             6|           266.4|         379|           340|       0.05|          0.02|          0.02|        0.01|         0.02|    70|        0| paid|\n",
       "|    29|     1|        3603|       3028| Safari|Macintosh|      CA|            34|           365.8|        2563|          1805|       0.05|          0.01|          0.03|        0.02|         0.01|    60|        1| paid|\n",
       "|300017|     0|        4428|       3632| Safari|Macintosh|      MI|            63|           233.3|        3014|          2071|       0.08|          0.01|          0.03|        0.02|          0.0|    74|        0| paid|\n",
       "|    51|     1|        2464|       2111| Safari|  Windows|      KY|            10|           872.4|        1855|          1386|       0.05|          0.01|          0.02|        0.01|          0.0|    20|        1| paid|\n",
       "|    54|     0|        3437|       2841|Firefox|  Windows|      WA|            37|           322.3|        2415|          1745|       0.06|          0.01|          0.03|        0.01|         0.02|   110|        1| paid|\n",
       "|    69|     0|        1342|       1125| Safari|  Windows|      WI|             9|           526.7|        1037|           866|       0.06|          0.01|          0.03|        0.01|          0.0|    71|        0| paid|\n",
       "|     7|     1|         201|        150|Firefox|  Windows|      WA|             7|            87.6|         149|           143|       0.05|          0.01|          0.03|        0.01|         0.11|    73|        0| free|\n",
       "|100008|     0|         940|        772|Firefox|Macintosh|      CA|             6|           528.3|         724|           624|       0.05|          0.01|          0.04|        0.02|         0.03|    68|        0| free|\n",
       "+------+------+------------+-----------+-------+---------+--------+--------------+----------------+------------+--------------+-----------+--------------+--------------+------------+-------------+------+---------+-----+\n",
       "only showing top 20 rows"
      ]
     },
     "execution_count": 59,
     "metadata": {},
     "output_type": "execute_result"
    }
   ],
   "source": [
    "user_log.cache()"
   ]
  },
  {
   "cell_type": "markdown",
   "id": "020b7a40",
   "metadata": {},
   "source": [
    "# Data Visualization"
   ]
  },
  {
   "cell_type": "markdown",
   "id": "fa14b467",
   "metadata": {},
   "source": [
    "## 1.Preparation"
   ]
  },
  {
   "cell_type": "markdown",
   "id": "51966f86",
   "metadata": {},
   "source": [
    "### 1.1 Filling Missing Values with 0 for Modeling"
   ]
  },
  {
   "cell_type": "code",
   "execution_count": 64,
   "id": "1ebad694",
   "metadata": {
    "ExecuteTime": {
     "end_time": "2023-11-13T21:38:32.376464Z",
     "start_time": "2023-11-13T21:38:32.133980Z"
    }
   },
   "outputs": [
    {
     "name": "stdout",
     "output_type": "stream",
     "text": [
      "-RECORD 0---------------\n",
      " userId           | 0   \n",
      " gender           | 0   \n",
      " total_events     | 0   \n",
      " total_songs      | 0   \n",
      " browser          | 0   \n",
      " device           | 0   \n",
      " state            | 0   \n",
      " total_sessions   | 0   \n",
      " avg_session_mins | 0   \n",
      " unique_songs     | 0   \n",
      " unique_artists   | 0   \n",
      " likes_ratio      | 5   \n",
      " dislikes_ratio   | 22  \n",
      " playlist_ratio   | 10  \n",
      " friend_ratio     | 0   \n",
      " addRoll_ratio    | 0   \n",
      " tenure           | 0   \n",
      " churn_ind        | 0   \n",
      " level            | 0   \n",
      "\n"
     ]
    }
   ],
   "source": [
    "null_counts = user_log.select([F.count(F.when(F.col(c).isNull() | F.isnan(c), c)).alias(c) for c in user_log.columns])\n",
    "\n",
    "null_counts.show(vertical=True)"
   ]
  },
  {
   "cell_type": "code",
   "execution_count": 66,
   "id": "abb18ad8",
   "metadata": {
    "ExecuteTime": {
     "end_time": "2023-11-13T21:39:42.875400Z",
     "start_time": "2023-11-13T21:39:42.639044Z"
    }
   },
   "outputs": [
    {
     "name": "stdout",
     "output_type": "stream",
     "text": [
      "-RECORD 0---------------\n",
      " userId           | 0   \n",
      " gender           | 0   \n",
      " total_events     | 0   \n",
      " total_songs      | 0   \n",
      " browser          | 0   \n",
      " device           | 0   \n",
      " state            | 0   \n",
      " total_sessions   | 0   \n",
      " avg_session_mins | 0   \n",
      " unique_songs     | 0   \n",
      " unique_artists   | 0   \n",
      " likes_ratio      | 0   \n",
      " dislikes_ratio   | 0   \n",
      " playlist_ratio   | 0   \n",
      " friend_ratio     | 0   \n",
      " addRoll_ratio    | 0   \n",
      " tenure           | 0   \n",
      " churn_ind        | 0   \n",
      " level            | 0   \n",
      "\n"
     ]
    }
   ],
   "source": [
    "user_log_2 = user_log.fillna(value=0,\n",
    "                             subset=['dislikes_ratio',\n",
    "                                    'playlist_ratio', 'likes_ratio'])\n",
    "\n",
    "null_counts_2 = user_log_2.select([F.count(F.when(F.col(c).isNull() | F.isnan(c), c)).alias(c) for c in user_log_2.columns])\n",
    "\n",
    "null_counts_2.show(vertical=True)"
   ]
  },
  {
   "cell_type": "markdown",
   "id": "fb342d56",
   "metadata": {},
   "source": [
    "### 1.2 Creating a Pandas DataFrame for Data Analysis and Visualization"
   ]
  },
  {
   "cell_type": "code",
   "execution_count": 67,
   "id": "d3ed3b80",
   "metadata": {
    "ExecuteTime": {
     "end_time": "2023-11-13T21:39:51.556859Z",
     "start_time": "2023-11-13T21:39:51.459597Z"
    }
   },
   "outputs": [
    {
     "data": {
      "text/plain": [
       "pandas.core.frame.DataFrame"
      ]
     },
     "execution_count": 67,
     "metadata": {},
     "output_type": "execute_result"
    }
   ],
   "source": [
    "user_log_df = user_log_2.toPandas()\n",
    "type(user_log_df)"
   ]
  },
  {
   "cell_type": "code",
   "execution_count": 68,
   "id": "01982e81",
   "metadata": {
    "ExecuteTime": {
     "end_time": "2023-11-13T21:40:09.099775Z",
     "start_time": "2023-11-13T21:40:09.074438Z"
    }
   },
   "outputs": [
    {
     "data": {
      "text/html": [
       "<div>\n",
       "<style scoped>\n",
       "    .dataframe tbody tr th:only-of-type {\n",
       "        vertical-align: middle;\n",
       "    }\n",
       "\n",
       "    .dataframe tbody tr th {\n",
       "        vertical-align: top;\n",
       "    }\n",
       "\n",
       "    .dataframe thead th {\n",
       "        text-align: right;\n",
       "    }\n",
       "</style>\n",
       "<table border=\"1\" class=\"dataframe\">\n",
       "  <thead>\n",
       "    <tr style=\"text-align: right;\">\n",
       "      <th></th>\n",
       "      <th>userId</th>\n",
       "      <th>gender</th>\n",
       "      <th>total_events</th>\n",
       "      <th>total_songs</th>\n",
       "      <th>browser</th>\n",
       "      <th>device</th>\n",
       "      <th>state</th>\n",
       "      <th>total_sessions</th>\n",
       "      <th>avg_session_mins</th>\n",
       "      <th>unique_songs</th>\n",
       "      <th>unique_artists</th>\n",
       "      <th>likes_ratio</th>\n",
       "      <th>dislikes_ratio</th>\n",
       "      <th>playlist_ratio</th>\n",
       "      <th>friend_ratio</th>\n",
       "      <th>addRoll_ratio</th>\n",
       "      <th>tenure</th>\n",
       "      <th>churn_ind</th>\n",
       "      <th>level</th>\n",
       "    </tr>\n",
       "  </thead>\n",
       "  <tbody>\n",
       "    <tr>\n",
       "      <th>0</th>\n",
       "      <td>100010</td>\n",
       "      <td>0</td>\n",
       "      <td>381</td>\n",
       "      <td>275</td>\n",
       "      <td>Safari</td>\n",
       "      <td>iPhone</td>\n",
       "      <td>CT</td>\n",
       "      <td>7</td>\n",
       "      <td>154.5</td>\n",
       "      <td>270</td>\n",
       "      <td>253</td>\n",
       "      <td>0.06</td>\n",
       "      <td>0.02</td>\n",
       "      <td>0.03</td>\n",
       "      <td>0.01</td>\n",
       "      <td>0.19</td>\n",
       "      <td>55</td>\n",
       "      <td>0</td>\n",
       "      <td>free</td>\n",
       "    </tr>\n",
       "    <tr>\n",
       "      <th>1</th>\n",
       "      <td>100014</td>\n",
       "      <td>1</td>\n",
       "      <td>310</td>\n",
       "      <td>257</td>\n",
       "      <td>Safari</td>\n",
       "      <td>Windows</td>\n",
       "      <td>NY-NJ-PA</td>\n",
       "      <td>6</td>\n",
       "      <td>184.8</td>\n",
       "      <td>249</td>\n",
       "      <td>234</td>\n",
       "      <td>0.07</td>\n",
       "      <td>0.01</td>\n",
       "      <td>0.03</td>\n",
       "      <td>0.02</td>\n",
       "      <td>0.01</td>\n",
       "      <td>85</td>\n",
       "      <td>1</td>\n",
       "      <td>paid</td>\n",
       "    </tr>\n",
       "    <tr>\n",
       "      <th>2</th>\n",
       "      <td>100021</td>\n",
       "      <td>1</td>\n",
       "      <td>319</td>\n",
       "      <td>230</td>\n",
       "      <td>Safari</td>\n",
       "      <td>Macintosh</td>\n",
       "      <td>TX</td>\n",
       "      <td>5</td>\n",
       "      <td>215.2</td>\n",
       "      <td>227</td>\n",
       "      <td>208</td>\n",
       "      <td>0.05</td>\n",
       "      <td>0.02</td>\n",
       "      <td>0.03</td>\n",
       "      <td>0.03</td>\n",
       "      <td>0.13</td>\n",
       "      <td>65</td>\n",
       "      <td>1</td>\n",
       "      <td>free</td>\n",
       "    </tr>\n",
       "    <tr>\n",
       "      <th>3</th>\n",
       "      <td>101</td>\n",
       "      <td>1</td>\n",
       "      <td>2149</td>\n",
       "      <td>1797</td>\n",
       "      <td>Firefox</td>\n",
       "      <td>Windows</td>\n",
       "      <td>CO</td>\n",
       "      <td>10</td>\n",
       "      <td>817.6</td>\n",
       "      <td>1609</td>\n",
       "      <td>1242</td>\n",
       "      <td>0.05</td>\n",
       "      <td>0.01</td>\n",
       "      <td>0.03</td>\n",
       "      <td>0.02</td>\n",
       "      <td>0.00</td>\n",
       "      <td>53</td>\n",
       "      <td>1</td>\n",
       "      <td>paid</td>\n",
       "    </tr>\n",
       "    <tr>\n",
       "      <th>4</th>\n",
       "      <td>11</td>\n",
       "      <td>0</td>\n",
       "      <td>848</td>\n",
       "      <td>647</td>\n",
       "      <td>Gecko</td>\n",
       "      <td>Windows</td>\n",
       "      <td>RI-MA</td>\n",
       "      <td>16</td>\n",
       "      <td>161.4</td>\n",
       "      <td>617</td>\n",
       "      <td>535</td>\n",
       "      <td>0.06</td>\n",
       "      <td>0.01</td>\n",
       "      <td>0.03</td>\n",
       "      <td>0.01</td>\n",
       "      <td>0.06</td>\n",
       "      <td>125</td>\n",
       "      <td>0</td>\n",
       "      <td>paid</td>\n",
       "    </tr>\n",
       "  </tbody>\n",
       "</table>\n",
       "</div>"
      ],
      "text/plain": [
       "   userId  gender  total_events  total_songs  browser     device     state  \\\n",
       "0  100010       0           381          275   Safari     iPhone        CT   \n",
       "1  100014       1           310          257   Safari    Windows  NY-NJ-PA   \n",
       "2  100021       1           319          230   Safari  Macintosh        TX   \n",
       "3     101       1          2149         1797  Firefox    Windows        CO   \n",
       "4      11       0           848          647    Gecko    Windows     RI-MA   \n",
       "\n",
       "   total_sessions  avg_session_mins  unique_songs  unique_artists  \\\n",
       "0               7             154.5           270             253   \n",
       "1               6             184.8           249             234   \n",
       "2               5             215.2           227             208   \n",
       "3              10             817.6          1609            1242   \n",
       "4              16             161.4           617             535   \n",
       "\n",
       "   likes_ratio  dislikes_ratio  playlist_ratio  friend_ratio  addRoll_ratio  \\\n",
       "0         0.06            0.02            0.03          0.01           0.19   \n",
       "1         0.07            0.01            0.03          0.02           0.01   \n",
       "2         0.05            0.02            0.03          0.03           0.13   \n",
       "3         0.05            0.01            0.03          0.02           0.00   \n",
       "4         0.06            0.01            0.03          0.01           0.06   \n",
       "\n",
       "   tenure  churn_ind level  \n",
       "0      55          0  free  \n",
       "1      85          1  paid  \n",
       "2      65          1  free  \n",
       "3      53          1  paid  \n",
       "4     125          0  paid  "
      ]
     },
     "execution_count": 68,
     "metadata": {},
     "output_type": "execute_result"
    }
   ],
   "source": [
    "user_log_df.head()"
   ]
  },
  {
   "cell_type": "markdown",
   "id": "d53d9533",
   "metadata": {},
   "source": [
    "## 2. Plot correlation "
   ]
  },
  {
   "cell_type": "code",
   "execution_count": 69,
   "id": "5721cc20",
   "metadata": {
    "ExecuteTime": {
     "end_time": "2023-11-13T21:41:05.683598Z",
     "start_time": "2023-11-13T21:41:05.668605Z"
    }
   },
   "outputs": [],
   "source": [
    "def plot_cats(df, cat_variable):\n",
    "    sns.set(style='white')    \n",
    "    ax = df.groupby([cat_variable, 'churn_ind']).size().unstack().plot(kind='bar', stacked=True)\n",
    "    ax.legend(title = \"churn\", bbox_to_anchor=(1.05, 1), loc='upper left', borderaxespad=0)\n",
    "    ax.set_title(label=(str(\"{} vs. churn_status\".format(cat_variable))))\n",
    "    sns.despine(top=True, right=True)\n",
    "    plt.show()"
   ]
  },
  {
   "cell_type": "markdown",
   "id": "c1ba9398",
   "metadata": {},
   "source": [
    "### 2.1Plot Gender"
   ]
  },
  {
   "cell_type": "code",
   "execution_count": 70,
   "id": "fbe64861",
   "metadata": {
    "ExecuteTime": {
     "end_time": "2023-11-13T21:41:17.984836Z",
     "start_time": "2023-11-13T21:41:17.845153Z"
    }
   },
   "outputs": [
    {
     "data": {
      "image/png": "[encoded data removed]",
      "text/plain": [
       "<Figure size 640x480 with 1 Axes>"
      ]
     },
     "metadata": {},
     "output_type": "display_data"
    }
   ],
   "source": [
    "plot_cats(user_log_df, 'gender')"
   ]
  },
  {
   "cell_type": "markdown",
   "id": "55350055",
   "metadata": {},
   "source": [
    "Observationally, **26% of male customers churn** compared to **19% of female customers**; hence, male customers are more prone to churn. I will retain the gender feature in the model.\n"
   ]
  },
  {
   "cell_type": "markdown",
   "id": "9fcb25a5",
   "metadata": {},
   "source": [
    "### 2.2 Plot device"
   ]
  },
  {
   "cell_type": "code",
   "execution_count": 71,
   "id": "30f695e3",
   "metadata": {
    "ExecuteTime": {
     "end_time": "2023-11-13T21:42:15.456995Z",
     "start_time": "2023-11-13T21:42:15.313270Z"
    }
   },
   "outputs": [
    {
     "data": {
      "image/png": "[encoded data removed]",
      "text/plain": [
       "<Figure size 640x480 with 1 Axes>"
      ]
     },
     "metadata": {},
     "output_type": "display_data"
    }
   ],
   "source": [
    "plot_cats(user_log_df, 'device')"
   ]
  },
  {
   "cell_type": "markdown",
   "id": "1ec35f1b",
   "metadata": {
    "ExecuteTime": {
     "end_time": "2023-11-13T21:48:32.060204Z",
     "start_time": "2023-11-13T21:48:32.046884Z"
    }
   },
   "source": [
    "Customers using iPhone and X11 devices have churn rates of **31% and 42%** respectively, whereas Windows and Mac users show a churn rate of around **22%**. However, it is important to note that the percentage of customers using iPhone and X11 is relatively low, despite the significant differences.\n"
   ]
  },
  {
   "cell_type": "markdown",
   "id": "618b0b0e",
   "metadata": {},
   "source": [
    "### 2.3 Plot Browser "
   ]
  },
  {
   "cell_type": "code",
   "execution_count": 72,
   "id": "d1115dfa",
   "metadata": {
    "ExecuteTime": {
     "end_time": "2023-11-13T21:42:28.506475Z",
     "start_time": "2023-11-13T21:42:28.371659Z"
    }
   },
   "outputs": [
    {
     "data": {
      "image/png": "[encoded data removed]",
      "text/plain": [
       "<Figure size 640x480 with 1 Axes>"
      ]
     },
     "metadata": {},
     "output_type": "display_data"
    }
   ],
   "source": [
    "plot_cats(user_log_df, 'browser')"
   ]
  },
  {
   "cell_type": "markdown",
   "id": "86f45a93",
   "metadata": {},
   "source": [
    "Users of Firefox experience the highest churn rate at **32%**, followed by Safari at **21%**, Gecko at **14%**, and then Trident users at **0%**.\n"
   ]
  },
  {
   "cell_type": "markdown",
   "id": "046f7676",
   "metadata": {},
   "source": [
    "### 2.4 Plot Level"
   ]
  },
  {
   "cell_type": "code",
   "execution_count": 73,
   "id": "a64d75ae",
   "metadata": {
    "ExecuteTime": {
     "end_time": "2023-11-13T21:42:39.282353Z",
     "start_time": "2023-11-13T21:42:39.161504Z"
    }
   },
   "outputs": [
    {
     "data": {
      "image/png": "[encoded data removed]",
      "text/plain": [
       "<Figure size 640x480 with 1 Axes>"
      ]
     },
     "metadata": {},
     "output_type": "display_data"
    }
   ],
   "source": [
    "plot_cats(user_log_df, 'level')"
   ]
  },
  {
   "cell_type": "markdown",
   "id": "5585efa7",
   "metadata": {},
   "source": [
    "Among customers using the paid service, **21% churn**, while **26% churn** among those using the free service.\n"
   ]
  },
  {
   "cell_type": "markdown",
   "id": "ca109270",
   "metadata": {},
   "source": [
    "### 2.4 Plot State"
   ]
  },
  {
   "cell_type": "code",
   "execution_count": 74,
   "id": "20b13c2f",
   "metadata": {
    "ExecuteTime": {
     "end_time": "2023-11-13T21:44:36.927064Z",
     "start_time": "2023-11-13T21:44:36.916152Z"
    }
   },
   "outputs": [],
   "source": [
    "state = F.udf(lambda x: x.split(',')[1].strip() if not x is None else \"\" )"
   ]
  },
  {
   "cell_type": "code",
   "execution_count": 76,
   "id": "5641f6fe",
   "metadata": {
    "ExecuteTime": {
     "end_time": "2023-11-13T21:45:41.347149Z",
     "start_time": "2023-11-13T21:45:40.890550Z"
    }
   },
   "outputs": [
    {
     "data": {
      "image/png": "[encoded data removed]",
      "text/plain": [
       "<Figure size 2000x400 with 1 Axes>"
      ]
     },
     "metadata": {},
     "output_type": "display_data"
    }
   ],
   "source": [
    "viz_dict = {\n",
    "    'axes.titlesize':18,\n",
    "    'axes.labelsize':12,\n",
    "    'figure.figsize':(20, 4),\n",
    "} \n",
    "\n",
    "sns.set_context(\"notebook\", rc=viz_dict)\n",
    "sns.set(rc=viz_dict)\n",
    "ax = sns.countplot(data=user_log_df, \n",
    "                   x='state', \n",
    "                   hue='churn_ind', \n",
    "                   order=user_log_df['state'].value_counts().index)\n",
    "ax.set_xticklabels(ax.get_xticklabels(), \n",
    "                   rotation=90, \n",
    "                   horizontalalignment='right')\n",
    "ax.legend(title='Churn', \n",
    "          bbox_to_anchor=(1.05, 1), \n",
    "          loc='upper left', \n",
    "          borderaxespad=0)\n",
    "plt.show();"
   ]
  },
  {
   "cell_type": "markdown",
   "id": "41ae7ed0",
   "metadata": {},
   "source": [
    "The location field contains the town and state of the user at the time of the event. For ease of analysis, I parsed this field to extract the state information. Subsequently, I charted the churn rates by state. Although some states, like Michigan, exhibited high churn rates, I decided to exclude this feature from the model due to the number of combinations. In subsequent analyses, I might consider grouping states into different regions, such as North, South, etc.\n"
   ]
  },
  {
   "cell_type": "code",
   "execution_count": 93,
   "id": "ccea6123",
   "metadata": {
    "ExecuteTime": {
     "end_time": "2023-11-13T22:17:46.630966Z",
     "start_time": "2023-11-13T22:17:46.620338Z"
    }
   },
   "outputs": [],
   "source": [
    "def plot_cont_relationship(variable):\n",
    "    fig, ax = plt.subplots(figsize=(10, 5))\n",
    "    sns.distplot(user_log_df[user_log_df[\"churn_ind\"] == 1][variable],\n",
    "                 bins=10, label=\"churned\")\n",
    "    sns.distplot(user_log_df[user_log_df[\"churn_ind\"] == 0][variable],\n",
    "                 bins=10, label=\"retained\")\n",
    "\n",
    "    ax.set_xlabel(variable)\n",
    "    ax.set_ylabel(\"density\")\n",
    "    fig.suptitle(str(\"{} vs. churn_status\".format(variable)))\n",
    "    ax.legend();"
   ]
  },
  {
   "cell_type": "markdown",
   "id": "d0536d5a",
   "metadata": {},
   "source": [
    "### 2.5 total_events vs churn_status"
   ]
  },
  {
   "cell_type": "code",
   "execution_count": 94,
   "id": "4de45e2c",
   "metadata": {
    "ExecuteTime": {
     "end_time": "2023-11-13T22:17:47.358262Z",
     "start_time": "2023-11-13T22:17:47.147995Z"
    }
   },
   "outputs": [
    {
     "data": {
      "image/png": "[encoded data removed]",
      "text/plain": [
       "<Figure size 1000x500 with 1 Axes>"
      ]
     },
     "metadata": {},
     "output_type": "display_data"
    }
   ],
   "source": [
    "plot_cont_relationship(\"total_events\")"
   ]
  },
  {
   "cell_type": "markdown",
   "id": "1542b75a",
   "metadata": {
    "ExecuteTime": {
     "end_time": "2023-11-13T22:14:44.030011Z",
     "start_time": "2023-11-13T22:14:44.020015Z"
    }
   },
   "source": [
    "## 2.6 avg_session_mins vs churn_status"
   ]
  },
  {
   "cell_type": "code",
   "execution_count": 95,
   "id": "508cfc6c",
   "metadata": {
    "ExecuteTime": {
     "end_time": "2023-11-13T22:17:48.031535Z",
     "start_time": "2023-11-13T22:17:47.800754Z"
    }
   },
   "outputs": [
    {
     "data": {
      "image/png": "[encoded data removed]",
      "text/plain": [
       "<Figure size 1000x500 with 1 Axes>"
      ]
     },
     "metadata": {},
     "output_type": "display_data"
    }
   ],
   "source": [
    "plot_cont_relationship(\"avg_session_mins\")"
   ]
  },
  {
   "cell_type": "markdown",
   "id": "b8cf5f75",
   "metadata": {
    "ExecuteTime": {
     "end_time": "2023-11-13T22:14:44.030011Z",
     "start_time": "2023-11-13T22:14:44.020015Z"
    }
   },
   "source": [
    "## 2.7 tenure vs churn_status"
   ]
  },
  {
   "cell_type": "code",
   "execution_count": 96,
   "id": "a13072b0",
   "metadata": {
    "ExecuteTime": {
     "end_time": "2023-11-13T22:17:48.231725Z",
     "start_time": "2023-11-13T22:17:48.034318Z"
    }
   },
   "outputs": [
    {
     "data": {
      "image/png": "[encoded data removed]",
      "text/plain": [
       "<Figure size 1000x500 with 1 Axes>"
      ]
     },
     "metadata": {},
     "output_type": "display_data"
    }
   ],
   "source": [
    "plot_cont_relationship(\"tenure\")"
   ]
  },
  {
   "cell_type": "markdown",
   "id": "c51bacd6",
   "metadata": {
    "ExecuteTime": {
     "end_time": "2023-11-13T22:14:44.030011Z",
     "start_time": "2023-11-13T22:14:44.020015Z"
    }
   },
   "source": [
    "## 2.8 total_sessions vs churn_status"
   ]
  },
  {
   "cell_type": "code",
   "execution_count": 97,
   "id": "333464da",
   "metadata": {
    "ExecuteTime": {
     "end_time": "2023-11-13T22:17:48.452783Z",
     "start_time": "2023-11-13T22:17:48.257855Z"
    }
   },
   "outputs": [
    {
     "data": {
      "image/png": "[encoded data removed]",
      "text/plain": [
       "<Figure size 1000x500 with 1 Axes>"
      ]
     },
     "metadata": {},
     "output_type": "display_data"
    }
   ],
   "source": [
    "plot_cont_relationship(\"total_sessions\")"
   ]
  },
  {
   "cell_type": "markdown",
   "id": "d95a7fa8",
   "metadata": {},
   "source": [
    "## 3. Correlation"
   ]
  },
  {
   "cell_type": "code",
   "execution_count": 108,
   "id": "02b40d4a",
   "metadata": {
    "ExecuteTime": {
     "end_time": "2023-11-13T22:24:52.668945Z",
     "start_time": "2023-11-13T22:24:52.377322Z"
    }
   },
   "outputs": [
    {
     "data": {
      "image/png": "[encoded data removed]",
      "text/plain": [
       "<Figure size 700x600 with 2 Axes>"
      ]
     },
     "metadata": {},
     "output_type": "display_data"
    }
   ],
   "source": [
    "# Calculating the Correlation Matrix\n",
    "sns.set_style(\"white\")\n",
    "corr = user_log_df.corr()\n",
    "# Generate a mask for the upper triangle of the matrix\n",
    "mask = np.triu(np.ones_like(corr, dtype=bool))\n",
    "# Setting up the matplotlib figure\n",
    "f, ax = plt.subplots(figsize=(7, 6))\n",
    "# Generate a custom diverging color map\n",
    "cmap = sns.diverging_palette(230, 20, as_cmap=True)\n",
    "# Draw the heatmap with the mask and correct aspect ratio\n",
    "sns.heatmap(corr, mask=mask, cmap=cmap);"
   ]
  },
  {
   "cell_type": "markdown",
   "id": "72b8940d",
   "metadata": {},
   "source": []
  },
  {
   "cell_type": "markdown",
   "id": "90d2d50c",
   "metadata": {},
   "source": [
    "However, after examining the correlations among these features, I decided to remove at least one feature from pairs with a correlation greater than 0.8. Consequently, I removed `total_songs`, `unique_artists`, `unique_songs`, and `total_events`, retaining only `total_sessions`.\n"
   ]
  },
  {
   "cell_type": "code",
   "execution_count": 109,
   "id": "db351ad6",
   "metadata": {
    "ExecuteTime": {
     "end_time": "2023-11-13T22:24:52.756161Z",
     "start_time": "2023-11-13T22:24:52.745096Z"
    }
   },
   "outputs": [],
   "source": [
    "cols = (\"total_events\", \"total_songs\", \n",
    "        \"unique_songs\", \"unique_artists\", \n",
    "        \"state\", \"userId\")\n",
    "\n",
    "user_log_2 = user_log_2.drop(*cols)"
   ]
  },
  {
   "cell_type": "code",
   "execution_count": 110,
   "id": "5bbb2c45",
   "metadata": {
    "ExecuteTime": {
     "end_time": "2023-11-13T22:24:52.926852Z",
     "start_time": "2023-11-13T22:24:52.894906Z"
    }
   },
   "outputs": [
    {
     "data": {
      "text/html": [
       "<div>\n",
       "<style scoped>\n",
       "    .dataframe tbody tr th:only-of-type {\n",
       "        vertical-align: middle;\n",
       "    }\n",
       "\n",
       "    .dataframe tbody tr th {\n",
       "        vertical-align: top;\n",
       "    }\n",
       "\n",
       "    .dataframe thead th {\n",
       "        text-align: right;\n",
       "    }\n",
       "</style>\n",
       "<table border=\"1\" class=\"dataframe\">\n",
       "  <thead>\n",
       "    <tr style=\"text-align: right;\">\n",
       "      <th></th>\n",
       "      <th>gender</th>\n",
       "      <th>total_events</th>\n",
       "      <th>total_songs</th>\n",
       "      <th>total_sessions</th>\n",
       "      <th>avg_session_mins</th>\n",
       "      <th>unique_songs</th>\n",
       "      <th>unique_artists</th>\n",
       "      <th>likes_ratio</th>\n",
       "      <th>dislikes_ratio</th>\n",
       "      <th>playlist_ratio</th>\n",
       "      <th>friend_ratio</th>\n",
       "      <th>addRoll_ratio</th>\n",
       "      <th>tenure</th>\n",
       "      <th>churn_ind</th>\n",
       "    </tr>\n",
       "  </thead>\n",
       "  <tbody>\n",
       "    <tr>\n",
       "      <th>count</th>\n",
       "      <td>173.000000</td>\n",
       "      <td>173.000000</td>\n",
       "      <td>173.000000</td>\n",
       "      <td>173.000000</td>\n",
       "      <td>173.00000</td>\n",
       "      <td>173.000000</td>\n",
       "      <td>173.000000</td>\n",
       "      <td>173.000000</td>\n",
       "      <td>173.000000</td>\n",
       "      <td>173.000000</td>\n",
       "      <td>173.000000</td>\n",
       "      <td>173.00000</td>\n",
       "      <td>173.000000</td>\n",
       "      <td>173.0</td>\n",
       "    </tr>\n",
       "    <tr>\n",
       "      <th>mean</th>\n",
       "      <td>0.514451</td>\n",
       "      <td>1348.497110</td>\n",
       "      <td>1108.173410</td>\n",
       "      <td>15.254335</td>\n",
       "      <td>296.75896</td>\n",
       "      <td>976.763006</td>\n",
       "      <td>750.780347</td>\n",
       "      <td>0.054913</td>\n",
       "      <td>0.010405</td>\n",
       "      <td>0.027341</td>\n",
       "      <td>0.021908</td>\n",
       "      <td>0.03578</td>\n",
       "      <td>86.537572</td>\n",
       "      <td>0.0</td>\n",
       "    </tr>\n",
       "    <tr>\n",
       "      <th>std</th>\n",
       "      <td>0.501242</td>\n",
       "      <td>1425.428637</td>\n",
       "      <td>1183.146703</td>\n",
       "      <td>15.866963</td>\n",
       "      <td>174.17181</td>\n",
       "      <td>951.918807</td>\n",
       "      <td>633.242274</td>\n",
       "      <td>0.019637</td>\n",
       "      <td>0.007499</td>\n",
       "      <td>0.011954</td>\n",
       "      <td>0.021764</td>\n",
       "      <td>0.04556</td>\n",
       "      <td>35.331076</td>\n",
       "      <td>0.0</td>\n",
       "    </tr>\n",
       "    <tr>\n",
       "      <th>min</th>\n",
       "      <td>0.000000</td>\n",
       "      <td>6.000000</td>\n",
       "      <td>3.000000</td>\n",
       "      <td>1.000000</td>\n",
       "      <td>7.00000</td>\n",
       "      <td>4.000000</td>\n",
       "      <td>4.000000</td>\n",
       "      <td>0.000000</td>\n",
       "      <td>0.000000</td>\n",
       "      <td>0.000000</td>\n",
       "      <td>0.000000</td>\n",
       "      <td>0.00000</td>\n",
       "      <td>0.000000</td>\n",
       "      <td>0.0</td>\n",
       "    </tr>\n",
       "    <tr>\n",
       "      <th>25%</th>\n",
       "      <td>0.000000</td>\n",
       "      <td>321.000000</td>\n",
       "      <td>251.000000</td>\n",
       "      <td>6.000000</td>\n",
       "      <td>166.20000</td>\n",
       "      <td>240.000000</td>\n",
       "      <td>227.000000</td>\n",
       "      <td>0.050000</td>\n",
       "      <td>0.010000</td>\n",
       "      <td>0.020000</td>\n",
       "      <td>0.010000</td>\n",
       "      <td>0.00000</td>\n",
       "      <td>65.000000</td>\n",
       "      <td>0.0</td>\n",
       "    </tr>\n",
       "    <tr>\n",
       "      <th>50%</th>\n",
       "      <td>1.000000</td>\n",
       "      <td>940.000000</td>\n",
       "      <td>747.000000</td>\n",
       "      <td>11.000000</td>\n",
       "      <td>268.30000</td>\n",
       "      <td>697.000000</td>\n",
       "      <td>588.000000</td>\n",
       "      <td>0.050000</td>\n",
       "      <td>0.010000</td>\n",
       "      <td>0.030000</td>\n",
       "      <td>0.020000</td>\n",
       "      <td>0.02000</td>\n",
       "      <td>76.000000</td>\n",
       "      <td>0.0</td>\n",
       "    </tr>\n",
       "    <tr>\n",
       "      <th>75%</th>\n",
       "      <td>1.000000</td>\n",
       "      <td>2005.000000</td>\n",
       "      <td>1640.000000</td>\n",
       "      <td>19.000000</td>\n",
       "      <td>392.20000</td>\n",
       "      <td>1478.000000</td>\n",
       "      <td>1138.000000</td>\n",
       "      <td>0.060000</td>\n",
       "      <td>0.010000</td>\n",
       "      <td>0.030000</td>\n",
       "      <td>0.020000</td>\n",
       "      <td>0.06000</td>\n",
       "      <td>103.000000</td>\n",
       "      <td>0.0</td>\n",
       "    </tr>\n",
       "    <tr>\n",
       "      <th>max</th>\n",
       "      <td>1.000000</td>\n",
       "      <td>9632.000000</td>\n",
       "      <td>8002.000000</td>\n",
       "      <td>107.000000</td>\n",
       "      <td>1179.90000</td>\n",
       "      <td>5947.000000</td>\n",
       "      <td>3545.000000</td>\n",
       "      <td>0.130000</td>\n",
       "      <td>0.040000</td>\n",
       "      <td>0.090000</td>\n",
       "      <td>0.240000</td>\n",
       "      <td>0.33000</td>\n",
       "      <td>256.000000</td>\n",
       "      <td>0.0</td>\n",
       "    </tr>\n",
       "  </tbody>\n",
       "</table>\n",
       "</div>"
      ],
      "text/plain": [
       "           gender  total_events  total_songs  total_sessions  \\\n",
       "count  173.000000    173.000000   173.000000      173.000000   \n",
       "mean     0.514451   1348.497110  1108.173410       15.254335   \n",
       "std      0.501242   1425.428637  1183.146703       15.866963   \n",
       "min      0.000000      6.000000     3.000000        1.000000   \n",
       "25%      0.000000    321.000000   251.000000        6.000000   \n",
       "50%      1.000000    940.000000   747.000000       11.000000   \n",
       "75%      1.000000   2005.000000  1640.000000       19.000000   \n",
       "max      1.000000   9632.000000  8002.000000      107.000000   \n",
       "\n",
       "       avg_session_mins  unique_songs  unique_artists  likes_ratio  \\\n",
       "count         173.00000    173.000000      173.000000   173.000000   \n",
       "mean          296.75896    976.763006      750.780347     0.054913   \n",
       "std           174.17181    951.918807      633.242274     0.019637   \n",
       "min             7.00000      4.000000        4.000000     0.000000   \n",
       "25%           166.20000    240.000000      227.000000     0.050000   \n",
       "50%           268.30000    697.000000      588.000000     0.050000   \n",
       "75%           392.20000   1478.000000     1138.000000     0.060000   \n",
       "max          1179.90000   5947.000000     3545.000000     0.130000   \n",
       "\n",
       "       dislikes_ratio  playlist_ratio  friend_ratio  addRoll_ratio  \\\n",
       "count      173.000000      173.000000    173.000000      173.00000   \n",
       "mean         0.010405        0.027341      0.021908        0.03578   \n",
       "std          0.007499        0.011954      0.021764        0.04556   \n",
       "min          0.000000        0.000000      0.000000        0.00000   \n",
       "25%          0.010000        0.020000      0.010000        0.00000   \n",
       "50%          0.010000        0.030000      0.020000        0.02000   \n",
       "75%          0.010000        0.030000      0.020000        0.06000   \n",
       "max          0.040000        0.090000      0.240000        0.33000   \n",
       "\n",
       "           tenure  churn_ind  \n",
       "count  173.000000      173.0  \n",
       "mean    86.537572        0.0  \n",
       "std     35.331076        0.0  \n",
       "min      0.000000        0.0  \n",
       "25%     65.000000        0.0  \n",
       "50%     76.000000        0.0  \n",
       "75%    103.000000        0.0  \n",
       "max    256.000000        0.0  "
      ]
     },
     "execution_count": 110,
     "metadata": {},
     "output_type": "execute_result"
    }
   ],
   "source": [
    "user_log_df[user_log_df[\"churn_ind\"] == 0].describe()"
   ]
  },
  {
   "cell_type": "code",
   "execution_count": 111,
   "id": "c79ee44c",
   "metadata": {
    "ExecuteTime": {
     "end_time": "2023-11-13T22:24:53.064647Z",
     "start_time": "2023-11-13T22:24:53.040036Z"
    }
   },
   "outputs": [
    {
     "data": {
      "text/html": [
       "<div>\n",
       "<style scoped>\n",
       "    .dataframe tbody tr th:only-of-type {\n",
       "        vertical-align: middle;\n",
       "    }\n",
       "\n",
       "    .dataframe tbody tr th {\n",
       "        vertical-align: top;\n",
       "    }\n",
       "\n",
       "    .dataframe thead th {\n",
       "        text-align: right;\n",
       "    }\n",
       "</style>\n",
       "<table border=\"1\" class=\"dataframe\">\n",
       "  <thead>\n",
       "    <tr style=\"text-align: right;\">\n",
       "      <th></th>\n",
       "      <th>userId</th>\n",
       "      <th>gender</th>\n",
       "      <th>total_events</th>\n",
       "      <th>total_songs</th>\n",
       "      <th>browser</th>\n",
       "      <th>device</th>\n",
       "      <th>state</th>\n",
       "      <th>total_sessions</th>\n",
       "      <th>avg_session_mins</th>\n",
       "      <th>unique_songs</th>\n",
       "      <th>unique_artists</th>\n",
       "      <th>likes_ratio</th>\n",
       "      <th>dislikes_ratio</th>\n",
       "      <th>playlist_ratio</th>\n",
       "      <th>friend_ratio</th>\n",
       "      <th>addRoll_ratio</th>\n",
       "      <th>tenure</th>\n",
       "      <th>churn_ind</th>\n",
       "      <th>level</th>\n",
       "    </tr>\n",
       "  </thead>\n",
       "  <tbody>\n",
       "    <tr>\n",
       "      <th>209</th>\n",
       "      <td>39</td>\n",
       "      <td>0</td>\n",
       "      <td>9632</td>\n",
       "      <td>8002</td>\n",
       "      <td>Safari</td>\n",
       "      <td>Windows</td>\n",
       "      <td>CA</td>\n",
       "      <td>107</td>\n",
       "      <td>306.6</td>\n",
       "      <td>5947</td>\n",
       "      <td>3545</td>\n",
       "      <td>0.05</td>\n",
       "      <td>0.01</td>\n",
       "      <td>0.03</td>\n",
       "      <td>0.02</td>\n",
       "      <td>0.02</td>\n",
       "      <td>168</td>\n",
       "      <td>0</td>\n",
       "      <td>paid</td>\n",
       "    </tr>\n",
       "  </tbody>\n",
       "</table>\n",
       "</div>"
      ],
      "text/plain": [
       "    userId  gender  total_events  total_songs browser   device state  \\\n",
       "209     39       0          9632         8002  Safari  Windows    CA   \n",
       "\n",
       "     total_sessions  avg_session_mins  unique_songs  unique_artists  \\\n",
       "209             107             306.6          5947            3545   \n",
       "\n",
       "     likes_ratio  dislikes_ratio  playlist_ratio  friend_ratio  addRoll_ratio  \\\n",
       "209         0.05            0.01            0.03          0.02           0.02   \n",
       "\n",
       "     tenure  churn_ind level  \n",
       "209     168          0  paid  "
      ]
     },
     "execution_count": 111,
     "metadata": {},
     "output_type": "execute_result"
    }
   ],
   "source": [
    "user_log_df[user_log_df[\"total_songs\"] == 8002]"
   ]
  },
  {
   "cell_type": "code",
   "execution_count": 112,
   "id": "75e329f7",
   "metadata": {
    "ExecuteTime": {
     "end_time": "2023-11-13T22:24:53.498562Z",
     "start_time": "2023-11-13T22:24:53.166007Z"
    }
   },
   "outputs": [
    {
     "name": "stdout",
     "output_type": "stream",
     "text": [
      "-RECORD 0---------------\n",
      " gender           | 0   \n",
      " browser          | 0   \n",
      " device           | 0   \n",
      " total_sessions   | 0   \n",
      " avg_session_mins | 0   \n",
      " likes_ratio      | 0   \n",
      " dislikes_ratio   | 0   \n",
      " playlist_ratio   | 0   \n",
      " friend_ratio     | 0   \n",
      " addRoll_ratio    | 0   \n",
      " tenure           | 0   \n",
      " churn_ind        | 0   \n",
      " level            | 0   \n",
      "\n"
     ]
    }
   ],
   "source": [
    "user_log_2.select([F.count(F.when(F.col(c).contains('None') |\n",
    "                          F.col(c).contains('NULL') |\n",
    "                        (F.col(c) == '') |\n",
    "                        F.col(c).isNull() |\n",
    "                        F.isnan(c), c\n",
    "                 )).alias(c)\n",
    "                    for c in user_log_2.columns]).show(vertical=True)"
   ]
  },
  {
   "cell_type": "code",
   "execution_count": 113,
   "id": "9b88f448",
   "metadata": {
    "ExecuteTime": {
     "end_time": "2023-11-13T22:24:53.506728Z",
     "start_time": "2023-11-13T22:24:53.503305Z"
    }
   },
   "outputs": [
    {
     "name": "stdout",
     "output_type": "stream",
     "text": [
      "root\n",
      " |-- gender: integer (nullable = false)\n",
      " |-- browser: string (nullable = true)\n",
      " |-- device: string (nullable = true)\n",
      " |-- total_sessions: integer (nullable = false)\n",
      " |-- avg_session_mins: double (nullable = true)\n",
      " |-- likes_ratio: double (nullable = false)\n",
      " |-- dislikes_ratio: double (nullable = false)\n",
      " |-- playlist_ratio: double (nullable = false)\n",
      " |-- friend_ratio: double (nullable = true)\n",
      " |-- addRoll_ratio: double (nullable = true)\n",
      " |-- tenure: integer (nullable = true)\n",
      " |-- churn_ind: integer (nullable = false)\n",
      " |-- level: string (nullable = true)\n",
      "\n"
     ]
    }
   ],
   "source": [
    "user_log_2.printSchema()"
   ]
  },
  {
   "cell_type": "markdown",
   "id": "cf756200",
   "metadata": {},
   "source": [
    "## 4. Transformation\n",
    "\n",
    "Feature Transformation for Modeling using PySpark's Pipeline\n",
    "\n",
    "In the modeling process with PySpark, I utilized the Pipeline for feature transformation:\n",
    "\n",
    "1. **StringIndexer**: Since PySpark modeling requires numeric data, I used the `StringIndexer` function to encode string columns into corresponding numeric columns.\n",
    "2. **OneHotEncoder**: These encoded columns were then transformed into one-hot vectors using the `OneHotEncoder`.\n",
    "3. **VectorAssembler for Numeric Data**: For the numeric data, I first combined them into a vector using `VectorAssembler`.\n",
    "4. **StandardScaler**: Subsequently, I applied `StandardScaler` to scale these vectors.\n",
    "5. **Final Vector Assembly**: Finally, I used `VectorAssembler` again to combine all the features into a single feature vector for modeling.\n",
    "\n",
    "This structured process ensures that both categorical and numerical data are appropriately transformed and scaled for effective modeling in PySpark.\n"
   ]
  },
  {
   "cell_type": "code",
   "execution_count": 115,
   "id": "b3113f73",
   "metadata": {
    "ExecuteTime": {
     "end_time": "2023-11-13T22:26:02.733276Z",
     "start_time": "2023-11-13T22:26:02.719048Z"
    }
   },
   "outputs": [],
   "source": [
    "def feature_transformation(df): \n",
    "    \n",
    "    num_features = []\n",
    "\n",
    "    for i in range(len(df.dtypes)):\n",
    "        if df.dtypes[i][1] != 'string':\n",
    "            num_features.append(df.dtypes[i][0])\n",
    "        \n",
    "    num_features.remove('churn_ind')\n",
    "    \n",
    "    # stage_indexer = [StringIndexer(inputCol=c, outputCol= c+\"_string_encoded\") for c in cat_features]\n",
    "    # stage_one_hot = [OneHotEncoder(inputCol= c+\"_string_encoded\", outputCol= c+ \"_one_hot\") for c in cat_features]\n",
    "\n",
    "    indexer_level = StringIndexer(inputCol='level', outputCol='level_index')\n",
    "    indexer_device = StringIndexer(inputCol='device', outputCol='device_index')\n",
    "    #indexer_browser = StringIndexer(inputCol='browser', outputCol='browser_index')\n",
    "\n",
    "    encoder_level = OneHotEncoder(inputCol='level_index', outputCol='level_vec')\n",
    "    encoder_device = OneHotEncoder(inputCol='device_index', outputCol='device_vec')\n",
    "    #encoder_browser = OneHotEncoder(inputCol='browser_index', outputCol='browser_vec')\n",
    "\n",
    "    stage_num = VectorAssembler(inputCols=num_features, outputCol=\"NumFeatures\")\n",
    "    stage_scale = StandardScaler(inputCol=\"NumFeatures\", outputCol=\"ScaledNumFeatures\")\n",
    "\n",
    "    assembler_combined = VectorAssembler(inputCols=[\"ScaledNumFeatures\", \"level_vec\", \"device_vec\"],\\\n",
    "                                         outputCol='features', handleInvalid='skip')\n",
    "\n",
    "    features_pipeline = Pipeline(stages=[indexer_level, indexer_device, encoder_level, encoder_device,\n",
    "                                         stage_num, stage_scale, assembler_combined])\n",
    "\n",
    "    transformed_df = features_pipeline.fit(df).transform(df)\n",
    "    return transformed_df"
   ]
  },
  {
   "cell_type": "code",
   "execution_count": 118,
   "id": "df1db516",
   "metadata": {
    "ExecuteTime": {
     "end_time": "2023-11-13T22:27:16.794185Z",
     "start_time": "2023-11-13T22:27:16.143344Z"
    }
   },
   "outputs": [
    {
     "name": "stdout",
     "output_type": "stream",
     "text": [
      "+-----+-----------------------------------------------------------------------------------------------------------------------------------------------------------------------------------------------------+\n",
      "|label|features                                                                                                                                                                                             |\n",
      "+-----+-----------------------------------------------------------------------------------------------------------------------------------------------------------------------------------------------------+\n",
      "|0    |[0.0,0.47791732944392784,0.8736490587419067,2.6052290882006015,1.8542594565329205,1.8981651986641221,0.4565071768700518,3.714427740306671,1.4618810152381878,0.0,0.0,0.0,1.0,0.0,0.0]                |\n",
      "|1    |[2.0012710519236623,0.40964342523765246,1.0449860586116788,3.039433936234036,0.9271297282664602,1.8981651986641221,0.9130143537401036,0.19549619685824585,2.2592706599135632,1.0,1.0,0.0,0.0,0.0,0.0]|\n",
      "+-----+-----------------------------------------------------------------------------------------------------------------------------------------------------------------------------------------------------+\n",
      "only showing top 2 rows\n",
      "\n"
     ]
    }
   ],
   "source": [
    "df = feature_transformation(user_log_2)\n",
    "df_2 = df.select(\"churn_ind\", \"features\").withColumnRenamed(\"churn_ind\", \"label\")\n",
    "df_2.show(2, truncate=False)"
   ]
  },
  {
   "cell_type": "markdown",
   "id": "39d76522",
   "metadata": {},
   "source": [
    "# Modeling\n",
    "Dataset Splitting and Model Evaluation\n",
    "\n",
    "The process for handling the entire dataset and assessing various models is as follows:\n",
    "\n",
    "1. **Dataset Splitting**: Split the complete dataset into training, testing, and validation sets.\n",
    "2. **Model Evaluation**: Evaluate the accuracy of various models, adjusting parameters as necessary.\n",
    "3. **Determining the Best Model**: Identify the best model based on test accuracy and report results on the validation set.\n",
    "4. **F1 Score as the Optimization Metric**: Given that repeat users represent a relatively small subset, it is recommended to use the F1 score as the primary metric for optimization.\n",
    "\n",
    "This structured approach ensures a thorough evaluation and optimization of models, with a focus on balancing precision and recall through the F1 score.\n"
   ]
  },
  {
   "cell_type": "markdown",
   "id": "2911bcb2",
   "metadata": {},
   "source": [
    "## 1. Split Training and Test"
   ]
  },
  {
   "cell_type": "code",
   "execution_count": 120,
   "id": "b68beec0",
   "metadata": {
    "ExecuteTime": {
     "end_time": "2023-11-13T22:33:01.054647Z",
     "start_time": "2023-11-13T22:33:00.711250Z"
    }
   },
   "outputs": [
    {
     "name": "stdout",
     "output_type": "stream",
     "text": [
      "(157, 2)\n",
      "(68, 2)\n"
     ]
    }
   ],
   "source": [
    "train, test = df_2.randomSplit([0.7, 0.3], seed=42)\n",
    "print(shape(train))\n",
    "print(shape(test))"
   ]
  },
  {
   "cell_type": "markdown",
   "id": "9f8e0783",
   "metadata": {},
   "source": [
    "## 2. Define Metric F1"
   ]
  },
  {
   "cell_type": "code",
   "execution_count": 121,
   "id": "48db33a2",
   "metadata": {
    "ExecuteTime": {
     "end_time": "2023-11-13T22:34:42.093739Z",
     "start_time": "2023-11-13T22:34:42.080883Z"
    }
   },
   "outputs": [],
   "source": [
    "def evaluate_model(predictions, model):\n",
    "    accuracy_evaluator = MulticlassClassificationEvaluator(metricName='accuracy')\n",
    "    accuracy = accuracy_evaluator.evaluate(predictions.select(F.col('label'), F.col('prediction')))\n",
    "\n",
    "    f1_evaluator = MulticlassClassificationEvaluator(metricName='f1')\n",
    "    f1_score = f1_evaluator.evaluate(predictions.select(F.col('label'), F.col('prediction')))\n",
    "\n",
    "    print('Model: {}'.format(model))\n",
    "    print('-------------------------------')\n",
    "    print('Accuracy : {:.2f}'.format(accuracy))\n",
    "    print('F1 score: {:.2f}'.format(f1_score))"
   ]
  },
  {
   "cell_type": "markdown",
   "id": "794d0aa1",
   "metadata": {},
   "source": [
    "## 3. Creating Machine Learning Models with PySpark's ML Library"
   ]
  },
  {
   "cell_type": "markdown",
   "id": "285c4b1e",
   "metadata": {},
   "source": [
    "For the classification task at hand, I utilized PySpark's ML library to create machine learning models. Given the nature of the task, I developed three different classification models, employing the following algorithms for performance comparison:\n",
    "\n",
    "1. **Random Forest**: A versatile and robust algorithm suitable for handling complex classification tasks.\n",
    "2. **Gradient Boosted Trees**: An algorithm known for its effectiveness in reducing bias and variance.\n",
    "3. **Logistic Regression**: A fundamental algorithm for binary classification tasks.\n",
    "\n",
    "The Spark documentation provides a comprehensive overview of these different algorithms, aiding in their implementation and tuning for optimal performance.\n"
   ]
  },
  {
   "cell_type": "markdown",
   "id": "e2f4fc88",
   "metadata": {},
   "source": [
    "### 3.1 RandomForest"
   ]
  },
  {
   "cell_type": "code",
   "execution_count": 122,
   "id": "1dc02928",
   "metadata": {
    "ExecuteTime": {
     "end_time": "2023-11-13T22:35:42.844692Z",
     "start_time": "2023-11-13T22:35:41.384686Z"
    }
   },
   "outputs": [
    {
     "name": "stdout",
     "output_type": "stream",
     "text": [
      "elapsed time = 1.4110281467437744\n"
     ]
    }
   ],
   "source": [
    "rf = RandomForestClassifier(featuresCol='features', labelCol='label', maxDepth=5)\n",
    "start_time = time.time()\n",
    "rfModel = rf.fit(train)\n",
    "rf_predictions = rfModel.transform(test)\n",
    "end_time = time.time()\n",
    "print('elapsed time = {}'.format(end_time-start_time))"
   ]
  },
  {
   "cell_type": "code",
   "execution_count": 123,
   "id": "98aba5c3",
   "metadata": {
    "ExecuteTime": {
     "end_time": "2023-11-13T22:36:57.714564Z",
     "start_time": "2023-11-13T22:36:57.411225Z"
    }
   },
   "outputs": [
    {
     "name": "stdout",
     "output_type": "stream",
     "text": [
      "Model: RandomForestClassificationModel: uid=RandomForestClassifier_016e20c4e1bd, numTrees=20, numClasses=2, numFeatures=15\n",
      "-------------------------------\n",
      "Accuracy : 0.87\n",
      "F1 score: 0.87\n"
     ]
    }
   ],
   "source": [
    "evaluate_model(rf_predictions, rfModel)"
   ]
  },
  {
   "cell_type": "markdown",
   "id": "51630b1e",
   "metadata": {},
   "source": [
    "### 3.2 GBT"
   ]
  },
  {
   "cell_type": "code",
   "execution_count": 124,
   "id": "ba7c1f75",
   "metadata": {
    "ExecuteTime": {
     "end_time": "2023-11-13T22:40:28.645856Z",
     "start_time": "2023-11-13T22:40:24.627608Z"
    }
   },
   "outputs": [
    {
     "name": "stdout",
     "output_type": "stream",
     "text": [
      "elapsed time = 3.978236198425293\n"
     ]
    }
   ],
   "source": [
    "gb = GBTClassifier(featuresCol='features', labelCol='label')\n",
    "start_time = time.time()\n",
    "gbModel = gb.fit(train)\n",
    "gb_predictions = gbModel.transform(test)\n",
    "end_time = time.time()\n",
    "print('elapsed time = {}'.format(end_time-start_time))"
   ]
  },
  {
   "cell_type": "code",
   "execution_count": 125,
   "id": "642e772f",
   "metadata": {
    "ExecuteTime": {
     "end_time": "2023-11-13T22:40:35.329692Z",
     "start_time": "2023-11-13T22:40:35.103565Z"
    }
   },
   "outputs": [
    {
     "name": "stdout",
     "output_type": "stream",
     "text": [
      "Model: GBTClassificationModel: uid = GBTClassifier_292a65830e0f, numTrees=20, numClasses=2, numFeatures=15\n",
      "-------------------------------\n",
      "Accuracy : 0.85\n",
      "F1 score: 0.86\n"
     ]
    },
    {
     "name": "stderr",
     "output_type": "stream",
     "text": [
      "23/11/13 22:40:35 WARN InstanceBuilder: Failed to load implementation from:dev.ludovic.netlib.blas.JNIBLAS\n"
     ]
    }
   ],
   "source": [
    "evaluate_model(gb_predictions, gbModel)"
   ]
  },
  {
   "cell_type": "markdown",
   "id": "d51aa99e",
   "metadata": {},
   "source": [
    "### 3.3 LogisticRegression"
   ]
  },
  {
   "cell_type": "code",
   "execution_count": 126,
   "id": "98ff75e0",
   "metadata": {
    "ExecuteTime": {
     "end_time": "2023-11-13T22:40:57.348649Z",
     "start_time": "2023-11-13T22:40:53.537352Z"
    }
   },
   "outputs": [
    {
     "name": "stdout",
     "output_type": "stream",
     "text": [
      "elapsed time = 3.7594571113586426\n"
     ]
    }
   ],
   "source": [
    "logisticReg = LogisticRegression(featuresCol='features', labelCol='label')\n",
    "start_time = time.time()\n",
    "lrModel = logisticReg.fit(train)\n",
    "lr_predictions = lrModel.transform(test)\n",
    "end_time = time.time()\n",
    "print('elapsed time = {}'.format(end_time-start_time))\n",
    "# lr_predictions.select('prediction','label').show(10)"
   ]
  },
  {
   "cell_type": "code",
   "execution_count": 127,
   "id": "815516fe",
   "metadata": {
    "ExecuteTime": {
     "end_time": "2023-11-13T22:41:05.011568Z",
     "start_time": "2023-11-13T22:41:04.809432Z"
    }
   },
   "outputs": [
    {
     "name": "stdout",
     "output_type": "stream",
     "text": [
      "Model: LogisticRegressionModel: uid=LogisticRegression_d6ecc51f53f6, numClasses=2, numFeatures=15\n",
      "-------------------------------\n",
      "Accuracy : 0.87\n",
      "F1 score: 0.87\n"
     ]
    }
   ],
   "source": [
    "evaluate_model(lr_predictions, lrModel)"
   ]
  },
  {
   "cell_type": "markdown",
   "id": "32630b4b",
   "metadata": {},
   "source": [
    "## 4. ROC Evaluation"
   ]
  },
  {
   "cell_type": "code",
   "execution_count": 130,
   "id": "c0b55495",
   "metadata": {
    "ExecuteTime": {
     "end_time": "2023-11-13T22:54:09.392589Z",
     "start_time": "2023-11-13T22:54:08.961556Z"
    }
   },
   "outputs": [
    {
     "name": "stderr",
     "output_type": "stream",
     "text": [
      "/Users/clement/opt/anaconda3/lib/python3.9/site-packages/pyspark/sql/context.py:158: FutureWarning: Deprecated in 3.0.0. Use SparkSession.builder.getOrCreate() instead.\n",
      "  warnings.warn(\n"
     ]
    },
    {
     "name": "stdout",
     "output_type": "stream",
     "text": [
      "Test Data Area under ROC score is :  0.7198275862068965\n"
     ]
    }
   ],
   "source": [
    "results = rf_predictions.select(['probability', 'label'])\n",
    "\n",
    "\n",
    "results_collect = results.collect()\n",
    "results_list = [(float(i[0][0]), 1.0-float(i[1])) for i in results_collect]\n",
    "scoreAndLabels = spark.sparkContext.parallelize(results_list)\n",
    " \n",
    "metrics = metric(scoreAndLabels)\n",
    "print(\"Test Data Area under ROC score is : \", metrics.areaUnderROC)"
   ]
  },
  {
   "cell_type": "code",
   "execution_count": 131,
   "id": "d091068b",
   "metadata": {
    "ExecuteTime": {
     "end_time": "2023-11-13T22:55:17.312499Z",
     "start_time": "2023-11-13T22:55:17.140790Z"
    }
   },
   "outputs": [
    {
     "data": {
      "image/png": "[encoded data removed]",
      "text/plain": [
       "<Figure size 2000x400 with 1 Axes>"
      ]
     },
     "metadata": {},
     "output_type": "display_data"
    }
   ],
   "source": [
    " fpr = dict()\n",
    "tpr = dict()\n",
    "roc_auc = dict()\n",
    " \n",
    "y_test = [i[1] for i in results_list]\n",
    "y_score = [i[0] for i in results_list]\n",
    " \n",
    "fpr, tpr, _ = roc_curve(y_test, y_score)\n",
    "roc_auc = auc(fpr, tpr)\n",
    " \n",
    "%matplotlib inline\n",
    "plt.figure()\n",
    "plt.plot(fpr, tpr, label='ROC curve (area = %0.2f)' % roc_auc)\n",
    "plt.plot([0, 1], [0, 1], 'k--')\n",
    "plt.xlim([0.0, 1.0])\n",
    "plt.ylim([0.0, 1.05])\n",
    "plt.xlabel('False Positive Rate')\n",
    "plt.ylabel('True Positive Rate')\n",
    "plt.title('Receiver operating characteristic Graph')\n",
    "plt.legend(loc=\"lower right\")\n",
    "plt.show()"
   ]
  },
  {
   "cell_type": "markdown",
   "id": "4da67bd2",
   "metadata": {},
   "source": [
    "## 5. Model Optimisation"
   ]
  },
  {
   "cell_type": "markdown",
   "id": "718ddf75",
   "metadata": {},
   "source": [
    "I employed grid search to optimize the hyperparameters of the Gradient Boosted Trees (GBT) model. Different values were set for:\n",
    "\n",
    "- **maxIter**: The maximum number of trees in the model.\n",
    "- **maxDepth**: The maximum depth that the trees can have.\n",
    "\n",
    "After experimentation, 10 trees were determined to be the optimal parameter for this model. While I intended to optimize more parameters, the time consumption on my machine was prohibitive. This is something I plan to do on AWS with the full dataset. The final F1 score achieved was 0.68 -- slightly lower than the original performance. Considering the greater computational power, I hope to optimize additional parameters using AWS in the future.\n"
   ]
  },
  {
   "cell_type": "code",
   "execution_count": 137,
   "id": "ca48f868",
   "metadata": {
    "ExecuteTime": {
     "end_time": "2023-11-13T23:13:57.098535Z",
     "start_time": "2023-11-13T23:13:57.075837Z"
    }
   },
   "outputs": [],
   "source": [
    "# Instantiating the GBTClassifier model\n",
    "gbt_2 = GBTClassifier()\n",
    "\n",
    "# Grid Search\n",
    "paramGrid = ParamGridBuilder() \\\n",
    "                .addGrid(gbt_2.maxIter, [10, 20]) \\\n",
    "                .addGrid(gbt_2.maxDepth, [4, 8]) \\\n",
    "                .build()\n",
    "#                 .addGrid(gbt_2.stepSize, [0.05, 0.1, 0.2]) \n",
    "# This step took too long to run, hence it is commented out\n",
    "\n",
    "# Cross Validation\n",
    "cv = CrossValidator(estimator=gbt_2,\n",
    "                    estimatorParamMaps=paramGrid,\n",
    "                    evaluator=MulticlassClassificationEvaluator(metricName='f1'),\n",
    "                    numFolds=3)"
   ]
  },
  {
   "cell_type": "code",
   "execution_count": 138,
   "id": "05aaba79",
   "metadata": {
    "ExecuteTime": {
     "end_time": "2023-11-13T23:14:52.309373Z",
     "start_time": "2023-11-13T23:14:17.935289Z"
    }
   },
   "outputs": [
    {
     "name": "stdout",
     "output_type": "stream",
     "text": [
      "elapsed time = 34.34688377380371\n"
     ]
    }
   ],
   "source": [
    "new_rf = RandomForestClassifier()\n",
    "paramGrid = ParamGridBuilder() \\\n",
    "    .addGrid(new_rf.maxDepth, [5, 10, 15, 20]) \\\n",
    "    .addGrid(new_rf.numTrees, [10, 20, 30, 50]) \\\n",
    "    .build()\n",
    "\n",
    "cv = CrossValidator(estimator=new_rf,\n",
    "                    estimatorParamMaps=paramGrid,\n",
    "                    evaluator=MulticlassClassificationEvaluator(metricName='f1'),\n",
    "                    numFolds=3)\n",
    "\n",
    "start_time = time.time()\n",
    "cvModel = cv.fit(train)\n",
    "end_time = time.time()\n",
    "print('elapsed time = {}'.format(end_time-start_time))"
   ]
  },
  {
   "cell_type": "code",
   "execution_count": 139,
   "id": "4f7044af",
   "metadata": {
    "ExecuteTime": {
     "end_time": "2023-11-13T23:14:55.792766Z",
     "start_time": "2023-11-13T23:14:55.776915Z"
    }
   },
   "outputs": [
    {
     "data": {
      "text/plain": [
       "RandomForestClassificationModel: uid=RandomForestClassifier_6fa554bfaf9b, numTrees=20, numClasses=2, numFeatures=15"
      ]
     },
     "execution_count": 139,
     "metadata": {},
     "output_type": "execute_result"
    }
   ],
   "source": [
    "best_model = cvModel.bestModel\n",
    "best_model"
   ]
  },
  {
   "cell_type": "code",
   "execution_count": 140,
   "id": "dd1aac1c",
   "metadata": {
    "ExecuteTime": {
     "end_time": "2023-11-13T23:15:12.102465Z",
     "start_time": "2023-11-13T23:15:11.883337Z"
    }
   },
   "outputs": [
    {
     "name": "stdout",
     "output_type": "stream",
     "text": [
      "Model: GBTClassifier_bbec402e07a9\n",
      "-------------------------------\n",
      "Accuracy : 0.82\n",
      "F1 score: 0.83\n"
     ]
    }
   ],
   "source": [
    "results = cvModel.transform(test)\n",
    "\n",
    "evaluate_model(results, gbt_2)"
   ]
  },
  {
   "cell_type": "markdown",
   "id": "2188f9db",
   "metadata": {},
   "source": [
    "### Project Objective: Predicting High-Risk Churn Customers\n",
    "\n",
    "In this project, the goal was to create a model to predict customers at the highest risk of churn. Key steps undertaken include:\n",
    "\n",
    "- **Data Analysis**: Examined the (mini) dataset and created customer-level records for each user, including a churn indicator.\n",
    "- **Feature Engineering**: Designed new features to enhance model accuracy.\n",
    "- **Model Evaluation**: Assessed the performance of three classification models using the F1-score.\n",
    "- **Hyperparameter Tuning**: Employed GridSearch to optimize hyperparameters for the Gradient Boosted Trees model.\n",
    "\n",
    "The original model achieved an F1 score of 0.75. It will be interesting to see how this compares with the full dataset.\n"
   ]
  },
  {
   "cell_type": "code",
   "execution_count": null,
   "id": "c06e8162",
   "metadata": {},
   "outputs": [],
   "source": []
  }
 ],
 "metadata": {
  "kernelspec": {
   "display_name": "Python 3 (ipykernel)",
   "language": "python",
   "name": "python3"
  },
  "language_info": {
   "codemirror_mode": {
    "name": "ipython",
    "version": 3
   },
   "file_extension": ".py",
   "mimetype": "text/x-python",
   "name": "python",
   "nbconvert_exporter": "python",
   "pygments_lexer": "ipython3",
   "version": "3.9.13"
  }
 },
 "nbformat": 4,
 "nbformat_minor": 5
}
